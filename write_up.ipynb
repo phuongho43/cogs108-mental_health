{
 "cells": [
  {
   "cell_type": "markdown",
   "metadata": {},
   "source": [
    "## Introduction and Background"
   ]
  },
  {
   "cell_type": "markdown",
   "metadata": {},
   "source": [
    "Mental health is a global scale challenge confronting our culture. According to The United Nations “at any given time, it is estimated approximately 20% of the adult population have a mental health problem” (Phyllis). This equates to nearly one and a half billion people who encounter mental health issues. Thus, we selected the overarching umbrella topic to be centered on mental health statistics. To further narrow the scope we selected stigmatization amongst employees in the tech industry given it is a potential career path for most of the members of the team.\n",
    "\n",
    "Currently, mental health is a stigmatized topic of conversation given the “prejudice against people with mental illness” (Corrigan). It’s taboo and few talk about it. With so much at stake– money, investments, reputation and more, workplace stress levels run high in today's high-functioning society. Especially in the growing trends of startup culture, the rigors of working within technology and innovation are presenting increased risk factors and symptoms towards developing conditions such as anxiety or depression. Recently deemed “Silicon Valley’s Secret,” mental health issues are appearing to have a noticeable prevalence amongst entrepreneurs and workers in the technology industry. This heightened pressure and demand for results at rapid pace has normalized an unspoken rule that categorizes these struggles in a negative light. \n",
    "\n",
    "We believe stigma will be higher amongst older adults because a study found “more negative attitudes... among those who believed that depression is a sign of personal weakness” (Jang). One assumption for this reason can be due to new studies and the classification of mental health issues as a medical condition like ADHD as opposed to an older perspective of weakness in the character of the individual. Similarly, we hypothesize males will demonstrate more stigma given previous studies showed males have less knowledge of mental health and more stigma given females are twice as much willingness to use mental health services (Chandra).\n",
    "\n",
    "Referencess (include a link):\n",
    "- 1)Chandra, Anita, and Cynthia S. Minkovitz. \"Stigma starts early: Gender differences in teen willingness to use mental health services.\" Journal of Adolescent Health 38.6 (2006): 754-e1.\n",
    "http://www.sciencedirect.com/science/article/pii/S1054139X05003952\n",
    "- 2)Corrigan, Patrick W., and Amy C. Watson. \"Understanding the Impact of Stigma on People with Mental Illness.\" World Psychiatry. Masson Italy, Feb. 2002. Web. 19 May 2017. <https://www.ncbi.nlm.nih.gov/pmc/articles/PMC1489832/>.\n",
    "- 3) Phyllis, Gabriel, Marjo-Riitta Liimatainen, and International Labor Office. \"Are You More Than Okay: The State of Mental Health in Tech in 2016.\" Cornell University DigitalCommons@ILR. GLADNET Collection, Jan. 2000. Web. 17 May 2017. <http://digitalcommons.ilr.cornell.edu/cgi/viewcontent.cgi?article=1224&context=gladnetcollect>.\n",
    "- 4) Jang, Yuri, David A. Chiriboga, and Sumie Okazaki. \"Attitudes toward mental health services: Age-group differences in Korean American adults.\" Aging and Mental Health 13.1 (2009): 127-134.\n",
    "http://www.tandfonline.com/doi/abs/10.1080/13607860802591070 "
   ]
  },
  {
   "cell_type": "code",
   "execution_count": null,
   "metadata": {
    "collapsed": true
   },
   "outputs": [],
   "source": []
  }
 ],
 "metadata": {
  "kernelspec": {
   "display_name": "Python 3",
   "language": "python",
   "name": "python3"
  },
  "language_info": {
   "codemirror_mode": {
    "name": "ipython",
    "version": 3
   },
   "file_extension": ".py",
   "mimetype": "text/x-python",
   "name": "python",
   "nbconvert_exporter": "python",
   "pygments_lexer": "ipython3",
   "version": "3.6.0"
  }
 },
 "nbformat": 4,
 "nbformat_minor": 2
}
