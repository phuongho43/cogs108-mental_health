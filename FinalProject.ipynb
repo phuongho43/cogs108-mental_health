{
 "cells": [
  {
   "cell_type": "markdown",
   "metadata": {},
   "source": [
    "# Group 64: A Deep Look Into Mental Health Stigma in the Tech Workplace\n",
    "<hr>"
   ]
  },
  {
   "cell_type": "markdown",
   "metadata": {},
   "source": [
    "## 1. Imports"
   ]
  },
  {
   "cell_type": "code",
   "execution_count": 1,
   "metadata": {},
   "outputs": [],
   "source": [
    "# Data wrangling and analysis\n",
    "import numpy as np\n",
    "import pandas as pd\n",
    "pd.set_option('display.max_columns', None)\n",
    "\n",
    "# Data visualization\n",
    "import matplotlib.pyplot as plt\n",
    "import folium \n",
    "import seaborn as sns\n",
    "%matplotlib inline\n",
    "sns.set_style('whitegrid')\n",
    "\n",
    "\n",
    "# Data modeling\n",
    "\n",
    "from sklearn.linear_model import LogisticRegression\n",
    "from sklearn.svm import SVC, LinearSVC\n",
    "from sklearn.ensemble import RandomForestClassifier\n",
    "from sklearn.neighbors import KNeighborsClassifier\n",
    "from sklearn.naive_bayes import GaussianNB"
   ]
  },
  {
   "cell_type": "markdown",
   "metadata": {},
   "source": [
    "## 2. Load the Data"
   ]
  },
  {
   "cell_type": "code",
   "execution_count": 2,
   "metadata": {
    "collapsed": true
   },
   "outputs": [],
   "source": [
    "mental14_df = pd.read_csv('data/mental_health_2014.csv')\n",
    "mental16_df = pd.read_csv('data/mental_health_2016.csv')\n",
    "mental16_meta_df = pd.read_json('data/mental_health_2016_meta_users.json')\n",
    "geo_divs = pd.read_csv('data/geo_divs.csv')\n",
    "df_statesHDI= pd.read_csv('data/state_hdi.csv')\n",
    "df_countryHDI= pd.read_csv('data/country_hdi.csv')"
   ]
  },
  {
   "cell_type": "markdown",
   "metadata": {
    "collapsed": true
   },
   "source": [
    "## 3. Describe the Data"
   ]
  },
  {
   "cell_type": "markdown",
   "metadata": {},
   "source": [
    "### 2014/2015 Dataset Features\n",
    "1. <b>date_submit</b>\n",
    "2. <b>age</b>\n",
    "3. <b>gender</b>\n",
    "4. <b>country_live</b>\n",
    "5. <b>state_live</b>: If you live in the United States, which state or territory do you live in?\n",
    "6. <b>self_employed</b>: Are you self-employed?\n",
    "7. <b>family_history</b>: Do you have a family history of mental illness?\n",
    "8. <b>treatment</b>: Have you sought treatment for a mental health condition?\n",
    "9. <b>work_interfere</b>: If you have a mental health condition, do you feel that it interferes with your work?\n",
    "10. <b>num_employees</b>: How many employees does your company or organization have?\n",
    "11. <b>remote</b>: Do you work remotely (outside of an office) at least 50% of the time?\n",
    "12. <b>tech_company</b>: Is your employer primarily a tech company/organization?\n",
    "13. <b>benefits</b>: Does your employer provide mental health benefits?\n",
    "14. <b>care_options</b>: Do you know the options for mental health care your employer provides?\n",
    "16. <b>wellness_program</b>: Has your employer ever discussed mental health as part of an employee wellness program?\n",
    "16. <b>emp_help</b>: Does your employer provide resources to learn more about mental health issues and how to seek help?\n",
    "17. <b>anon</b>: Is your anonymity protected if you choose to take advantage of mental health or substance abuse         treatment resources?\n",
    "18. <b>med_leave</b>: How easy is it for you to take medical leave for a mental health condition?\n",
    "19. <b>ment_conseq</b>: Do you think that discussing a mental health issue with your employer would have         negative consequences?\n",
    "20. <b>phys_conseq</b>: Do you think that discussing a physical health issue with your employer would have         negative consequences?\n",
    "21. <b>coworkers</b>: Would you be willing to discuss a mental health issue with your coworkers?\n",
    "22. <b>supervisors</b>: Would you be willing to discuss a mental health issue with your direct supervisor(s)?\n",
    "23. <b>ment_interv</b>: Would you bring up a mental health issue with a potential employer in an interview?\n",
    "24. <b>phys_interv</b>: Would you bring up a physical health issue with a potential employer in an interview?\n",
    "25. <b>ment_vs_phys</b>: Do you feel that your employer takes mental health as seriously as physical health?\n",
    "26. <b>obs_conseq</b>: Have you heard of or observed negative consequences for coworkers with mental health               conditions in your workplace?\n",
    "27. <b>comments</b>: Any additional notes or comments"
   ]
  },
  {
   "cell_type": "markdown",
   "metadata": {},
   "source": [
    "### Try to Group the Features\n",
    "##### About the person\n",
    "datetime, country, state, age, gender, self_employed, no_employees, remote_work, tech_company, treatment\n",
    "##### Workplace programs and benefits\n",
    "benefits, care_options, wellness_program, seek_help, anonymity, leave\n",
    "##### Stigma and comfort level\n",
    "work_interfere, mental_health_consequence, phys_health_consequence, coworkers, supervisor, mental_health_interview, phys_health_interview, mental_vs_physical, obs_consequence, comments"
   ]
  },
  {
   "cell_type": "markdown",
   "metadata": {},
   "source": [
    "### Observations\n",
    " - 2016 has more features than 2014\n",
    " - Empty values: state, self_employed, work_interfere, comments\n",
    " - Timestamp: 2014-08-27 to 2016-02-01\n",
    " - Age: 8 values that are impossible/highly unlikely\n",
    " - Gender: very messy with misspellings and nonstandard values\n",
    " - state: 4 rows where state given but country is not USA, 11 rows where country is USA but no state given\n",
    " - self_employed: 18 NaN values\n",
    " - work_interfere: 264 NaN values; people might've answered it based on 'treatment'\n",
    " - comments: 1095 NaN values\n",
    " - people picked \"Don't know\" a lot\n",
    " - many of the later questions are contingent upon earlier ones"
   ]
  },
  {
   "cell_type": "markdown",
   "metadata": {},
   "source": [
    "### Actions\n",
    " - Timestamp: split into features \"date\" and \"time\"\n",
    " - Age: replace the 8 values with randomly generated values between mean +/- std\n",
    " - Gender: replace misspelled values with \"m\" and \"f\"; pool nonstandard values into \"o\" (other)\n",
    " - state: consider USA states on the level of countries? fill 11 USA unnamed states with median or mode\n",
    " - self_employed: drop all rows with Yes, assume NaN = No\n",
    " - work_interfere: fill NaN with 'Not Applicable' (based on the way it's phrased, people might've answered it based on the previous question (treatment); OR create own ordinal category; OR just drop it since 2016 phrases it differently\n",
    " - comment: drop column"
   ]
  },
  {
   "cell_type": "markdown",
   "metadata": {},
   "source": [
    "### 2016 Dataset Features\n",
    "1. <b>date_land</b> : datetime of when survey is first opened\n",
    "2. <b>date_submit</b> : datetime of when survey is submitted\n",
    "3. <b>user_agent</b> : user's browser and computer\n",
    "4. <b>self_employed</b> : Are you self-employed?\n",
    "5. <b>num_employees</b> : How many employees does your company or organization have?\n",
    "6. <b>tech_comp</b> : Is your employer primarily a tech company/organization?\n",
    "7. <b>tech_role</b> : Is your primary role within your company related to tech/IT?\n",
    "8. <b>benefits</b> : Does your employer provide mental health benefits as part of healthcare coverage?\n",
    "9. <b>care_options</b> : Do you know the options for mental health care available under your employer-provided coverage?\n",
    "10. <b>wellness_program</b> : Has your employer ever formally discussed mental health (for example, as part of a wellness campaign or other official communication)?\n",
    "11. <b>emp_help</b> : Does your employer offer resources to learn more about mental health concerns and options for seeking help?\n",
    "12. <b>anon</b> : Is your anonymity protected if you choose to take advantage of mental health or substance abuse treatment resources provided by your employer?\n",
    "13. <b>med_leave</b> : If a mental health issue prompted you to request a medical leave from work, asking for that leave would be:\n",
    "14. <b>ment_conseq</b> : Do you think that discussing a mental health disorder with your employer would have negative consequences?\n",
    "15. <b>phys_conseq</b> : Do you think that discussing a physical health issue with your employer would have negative consequences?\n",
    "16. <b>coworkers</b> : Would you feel comfortable discussing a mental health disorder with your coworkers?\n",
    "17. <b>supervisors</b> : Would you feel comfortable discussing a mental health disorder with your direct supervisor(s)?\n",
    "18. <b>ment_vs_phys</b> : Do you feel that your employer takes mental health as seriously as physical health?\n",
    "19. <b>obs_conseq</b> : Have you heard of or observed negative consequences for co-workers who have been open about mental health issues in your workplace?\n",
    "20. <b>ment_med_cov</b> : Do you have medical coverage (private insurance or state-provided) which includes treatment of  mental health issues?\n",
    "21. <b>online_help</b> : Do you know local or online resources to seek help for a mental health disorder?\n",
    "22. <b>reveal_clients</b> : If you have been diagnosed or treated for a mental health disorder, do you ever reveal this to clients or business contacts?\n",
    "23. <b>reveal_clients_neg</b> : If you have revealed a mental health issue to a client or business contact, do you believe this has impacted you negatively?\n",
    "24. <b>reveal_workers</b> : If you have been diagnosed or treated for a mental health disorder, do you ever reveal this to coworkers or employees?\n",
    "25. <b>reveal_workers_neg</b> : If you have revealed a mental health issue to a coworker or employee, do you believe this has impacted you negatively?\n",
    "26. <b>productivity</b> : Do you believe your productivity is ever affected by a mental health issue?\n",
    "27. <b>productivity_perc</b> : If yes, what percentage of your work time (time performing primary or secondary job functions) is affected by a mental health issue?\n",
    "28. <b>prev_emps</b> : Do you have previous employers?\n",
    "29. <b>pe_benefits</b> : Have your previous employers provided mental health benefits?\n",
    "30. <b>pe_care_options</b> : Were you aware of the options for mental health care provided by your previous employers?\n",
    "31. <b>pe_wellness_program</b> : Did your previous employers ever formally discuss mental health (as part of a wellness campaign or other official communication)?\n",
    "32. <b>pe_emp_help</b> : Did your previous employers provide resources to learn more about mental health issues and how to seek help?\n",
    "33. <b>pe_anon</b> : Was your anonymity protected if you chose to take advantage of mental health or substance abuse treatment resources with previous employers?\n",
    "34. <b>pe_ment_conseq</b> : Do you think that discussing a mental health disorder with previous employers would have negative consequences?\n",
    "35. <b>pe_phys_conseq</b> : Do you think that discussing a physical health issue with previous employers would have negative consequences?\n",
    "36. <b>pe_coworkers</b> : Would you have been willing to discuss a mental health issue with your previous co-workers?\n",
    "37. <b>pe_supervisors</b> : Would you feel comfortable discussing a mental health disorder with your previous direct supervisor(s)?\n",
    "38. <b>pe_ment_vs_phys</b> : Did you feel that your previous employers took mental health as seriously as physical health?\n",
    "39. <b>pe_obs_conseq</b> : Did you hear of or observe negative consequences for co-workers with mental health issues in your previous workplaces?\n",
    "40. <b>phys_interv</b> : Would you be willing to bring up a physical health issue with a potential employer in an interview?\n",
    "41. <b>phys_interv_why</b> : Reason for choosing the above\n",
    "42. <b>ment_interv</b> : Would you bring up a mental health issue with a potential employer in an interview?\n",
    "43. <b>ment_interv_why</b> : Reason for choosing the above\n",
    "44. <b>ment_hurt_career</b> : Do you feel that being identified as a person with a mental health issue would hurt your career?\n",
    "45. <b>coworkers_neg</b> : Do you think that team members/co-workers would view you more negatively if they knew you suffered from a mental health issue?\n",
    "46. <b>share_fam</b> : How willing would you be to share with friends and family that you have a mental illness?\n",
    "47. <b>bad_event</b> : Have you observed or experienced an unsupportive or badly handled response to a mental health issue in your current or previous workplace?\n",
    "48. <b>less_another</b> : Have your observations of how another individual who discussed a mental health disorder made you less likely to reveal a mental health issue yourself in your current workplace?\n",
    "49. <b>family_history</b> : Do you have a family history of mental illness?\n",
    "50. <b>past_disorder</b> : Have you had a mental health disorder in the past?\n",
    "51. <b>current_disorder</b> : Do you currently have a mental health disorder?\n",
    "52. <b>yes_condition</b> : If yes, what condition(s) have you been diagnosed with?\n",
    "53. <b>maybe_condition</b> : If maybe, what condition(s) do you believe you have?\n",
    "54. <b>diagnosis</b> : Have you been diagnosed with a mental health condition by a medical professional?\n",
    "55. <b>diag_condition</b> : If so, what condition(s) were you diagnosed with?\n",
    "56. <b>treatment</b> : Have you ever sought treatment for a mental health issue from a mental health professional?\n",
    "57. <b>interfere_treated</b> : If you have a mental health issue, do you feel that it interferes with your work when being treated effectively?\n",
    "58. <b>interfere_untreated</b> : If you have a mental health issue, do you feel that it interferes with your work when NOT being treated effectively?\n",
    "59. <b>age</b> : What is your age?\n",
    "60. <b>gender</b> : What is your gender?\n",
    "61. <b>country_live</b> : What country do you live in?\n",
    "62. <b>state_live</b> : What US state or territory do you live in?\n",
    "63. <b>country_work</b> : What country do you work in?\n",
    "64. <b>state_work</b> : What US state or territory do you work in?\n",
    "65. <b>job_position</b> : Which of the following best describes your work position?\n",
    "66. <b>remote</b> : Do you work remotely?"
   ]
  },
  {
   "cell_type": "markdown",
   "metadata": {},
   "source": [
    "### Extra Features Not in 2014 Dataset\n",
    "1. tech_role\n",
    "2. ment_med_cov\n",
    "3. online_help\n",
    "4. reveal_clients\n",
    "5. reveal_clients_neg\n",
    "6. reveal_workers\n",
    "7. reveal_workers_neg\n",
    "8. productivity\n",
    "9. productivity_perc\n",
    "10. prev_emps\n",
    "11. pe_benefits\n",
    "12. pe_care_options\n",
    "13. pe_wellness_program\n",
    "14. pe_emp_help\n",
    "15. pe_anon\n",
    "16. pe_ment_conseq\n",
    "17. pe_phys_conseq\n",
    "18. pe_coworkers\n",
    "19. pe_supervisors\n",
    "20. pe_ment_vs_phys\n",
    "21. pe_obs_conseq\n",
    "22. phys_interv_why\n",
    "23. ment_interv_why\n",
    "24. ment_hurt_career\n",
    "25. coworkers_neg\n",
    "26. share_fam\n",
    "27. bad_event\n",
    "28. less_another\n",
    "29. past_disorder\n",
    "30. current_disorder\n",
    "31. yes_condition\n",
    "32. maybe_condition\n",
    "33. diagnosis\n",
    "34. diag_condition\n",
    "35. interfere_treated\n",
    "36. interfere_untreated\n",
    "37. country_work\n",
    "38. state_work\n",
    "39. job_position\n",
    "40. date_land\n",
    "41. user_agent\n",
    "42. comments"
   ]
  },
  {
   "cell_type": "markdown",
   "metadata": {},
   "source": [
    "### Observations\n",
    " - 2014 and 2016 has 25 features in common; 42 not in common\n",
    " - work_interfere is split into 2 questions in the 2016 dataset for untreated vs treated\n",
    " - 2016-03-14 to 2016-11-12\n",
    " - 1433 observations even though shorter timespan than the 2014 survey\n",
    " - age: same deal as 2014\n",
    " - gender: same deal as 2014\n",
    " - country and states looks to be clean\n",
    " - num_employees: 287 NaN values\n",
    " - benefits: 287 NaN values\n",
    " - care_options: 420 NaN\n",
    " - wellness_program: 287 NaN\n",
    " - emp_help: 287 NaN\n",
    " - anon: 287 NaN\n",
    " - med_leave: 287 NaN\n",
    " - ment_conseq: 287 NaN\n",
    " - phys_conseq: 287 NaN\n",
    " - coworkers: 287 NaN\n",
    " - supervisors: 287 NaN\n",
    " - ment_vs_phys: 287 NaN\n",
    " - Who are the 287 NaN people?\n",
    "   - These are actually the self_employed people: most actually have the past_employer section filled out"
   ]
  },
  {
   "cell_type": "markdown",
   "metadata": {},
   "source": [
    "### Actions\n",
    " - relabel 2016 to match 2014 for columns in common (DONE)\n",
    " - EITHER drop work_interfere from combined_df altogether; OR take the average of treated & untreated for each row (DONE)\n",
    " - Figure out what's the deal with the 287 NaN before combining\n",
    " - Timestamp: split into features \"date\" and \"time\"\n",
    " - Age: replace the outlier values with randomly generated values between mean +/- std\n",
    " - Gender: replace misspelled values with \"m\" and \"f\"; pool nonstandard values into \"o\" (other)\n",
    " - state: consider USA states on the level of countries since heavily skewed USA?\n",
    " - self_employed: fill NaN according to overall proportion of Yes:No\n",
    "     - Lets drop it. Most of the questions wouldn't be very relevant for those people"
   ]
  },
  {
   "cell_type": "markdown",
   "metadata": {},
   "source": [
    "## 4. Clean the Data"
   ]
  },
  {
   "cell_type": "code",
   "execution_count": 3,
   "metadata": {},
   "outputs": [
    {
     "data": {
      "text/plain": [
       "(1259, 27)"
      ]
     },
     "execution_count": 3,
     "metadata": {},
     "output_type": "execute_result"
    }
   ],
   "source": [
    "mental14_df.shape"
   ]
  },
  {
   "cell_type": "code",
   "execution_count": 4,
   "metadata": {
    "collapsed": true
   },
   "outputs": [],
   "source": [
    "mental14_relabels = [\n",
    "    'date_submit', 'age', 'gender', 'country_live', 'state_live', 'self_employed', 'family_history', 'treatment',\n",
    "    'work_interfere', 'num_employees', 'remote', 'tech_comp', 'benefits', 'care_options', 'wellness_program', \n",
    "    'emp_help', 'anon', 'med_leave', 'ment_conseq', 'phys_conseq', 'coworkers', 'supervisors', 'ment_interv',\n",
    "    'phys_interv', 'ment_vs_phys', 'obs_conseq', 'comments' \n",
    "]"
   ]
  },
  {
   "cell_type": "code",
   "execution_count": 5,
   "metadata": {
    "collapsed": true
   },
   "outputs": [],
   "source": [
    "mental14_df.columns = mental14_relabels"
   ]
  },
  {
   "cell_type": "code",
   "execution_count": 6,
   "metadata": {
    "scrolled": true
   },
   "outputs": [
    {
     "data": {
      "text/html": [
       "<div>\n",
       "<style>\n",
       "    .dataframe thead tr:only-child th {\n",
       "        text-align: right;\n",
       "    }\n",
       "\n",
       "    .dataframe thead th {\n",
       "        text-align: left;\n",
       "    }\n",
       "\n",
       "    .dataframe tbody tr th {\n",
       "        vertical-align: top;\n",
       "    }\n",
       "</style>\n",
       "<table border=\"1\" class=\"dataframe\">\n",
       "  <thead>\n",
       "    <tr style=\"text-align: right;\">\n",
       "      <th></th>\n",
       "      <th>date_submit</th>\n",
       "      <th>age</th>\n",
       "      <th>gender</th>\n",
       "      <th>country_live</th>\n",
       "      <th>state_live</th>\n",
       "      <th>self_employed</th>\n",
       "      <th>family_history</th>\n",
       "      <th>treatment</th>\n",
       "      <th>work_interfere</th>\n",
       "      <th>num_employees</th>\n",
       "      <th>remote</th>\n",
       "      <th>tech_comp</th>\n",
       "      <th>benefits</th>\n",
       "      <th>care_options</th>\n",
       "      <th>wellness_program</th>\n",
       "      <th>emp_help</th>\n",
       "      <th>anon</th>\n",
       "      <th>med_leave</th>\n",
       "      <th>ment_conseq</th>\n",
       "      <th>phys_conseq</th>\n",
       "      <th>coworkers</th>\n",
       "      <th>supervisors</th>\n",
       "      <th>ment_interv</th>\n",
       "      <th>phys_interv</th>\n",
       "      <th>ment_vs_phys</th>\n",
       "      <th>obs_conseq</th>\n",
       "      <th>comments</th>\n",
       "    </tr>\n",
       "  </thead>\n",
       "  <tbody>\n",
       "    <tr>\n",
       "      <th>0</th>\n",
       "      <td>2014-08-27 11:29:31</td>\n",
       "      <td>37</td>\n",
       "      <td>Female</td>\n",
       "      <td>United States</td>\n",
       "      <td>IL</td>\n",
       "      <td>NaN</td>\n",
       "      <td>No</td>\n",
       "      <td>Yes</td>\n",
       "      <td>Often</td>\n",
       "      <td>6-25</td>\n",
       "      <td>No</td>\n",
       "      <td>Yes</td>\n",
       "      <td>Yes</td>\n",
       "      <td>Not sure</td>\n",
       "      <td>No</td>\n",
       "      <td>Yes</td>\n",
       "      <td>Yes</td>\n",
       "      <td>Somewhat easy</td>\n",
       "      <td>No</td>\n",
       "      <td>No</td>\n",
       "      <td>Some of them</td>\n",
       "      <td>Yes</td>\n",
       "      <td>No</td>\n",
       "      <td>Maybe</td>\n",
       "      <td>Yes</td>\n",
       "      <td>No</td>\n",
       "      <td>NaN</td>\n",
       "    </tr>\n",
       "    <tr>\n",
       "      <th>1</th>\n",
       "      <td>2014-08-27 11:29:37</td>\n",
       "      <td>44</td>\n",
       "      <td>M</td>\n",
       "      <td>United States</td>\n",
       "      <td>IN</td>\n",
       "      <td>NaN</td>\n",
       "      <td>No</td>\n",
       "      <td>No</td>\n",
       "      <td>Rarely</td>\n",
       "      <td>More than 1000</td>\n",
       "      <td>No</td>\n",
       "      <td>No</td>\n",
       "      <td>Don't know</td>\n",
       "      <td>No</td>\n",
       "      <td>Don't know</td>\n",
       "      <td>Don't know</td>\n",
       "      <td>Don't know</td>\n",
       "      <td>Don't know</td>\n",
       "      <td>Maybe</td>\n",
       "      <td>No</td>\n",
       "      <td>No</td>\n",
       "      <td>No</td>\n",
       "      <td>No</td>\n",
       "      <td>No</td>\n",
       "      <td>Don't know</td>\n",
       "      <td>No</td>\n",
       "      <td>NaN</td>\n",
       "    </tr>\n",
       "    <tr>\n",
       "      <th>2</th>\n",
       "      <td>2014-08-27 11:29:44</td>\n",
       "      <td>32</td>\n",
       "      <td>Male</td>\n",
       "      <td>Canada</td>\n",
       "      <td>NaN</td>\n",
       "      <td>NaN</td>\n",
       "      <td>No</td>\n",
       "      <td>No</td>\n",
       "      <td>Rarely</td>\n",
       "      <td>6-25</td>\n",
       "      <td>No</td>\n",
       "      <td>Yes</td>\n",
       "      <td>No</td>\n",
       "      <td>No</td>\n",
       "      <td>No</td>\n",
       "      <td>No</td>\n",
       "      <td>Don't know</td>\n",
       "      <td>Somewhat difficult</td>\n",
       "      <td>No</td>\n",
       "      <td>No</td>\n",
       "      <td>Yes</td>\n",
       "      <td>Yes</td>\n",
       "      <td>Yes</td>\n",
       "      <td>Yes</td>\n",
       "      <td>No</td>\n",
       "      <td>No</td>\n",
       "      <td>NaN</td>\n",
       "    </tr>\n",
       "    <tr>\n",
       "      <th>3</th>\n",
       "      <td>2014-08-27 11:29:46</td>\n",
       "      <td>31</td>\n",
       "      <td>Male</td>\n",
       "      <td>United Kingdom</td>\n",
       "      <td>NaN</td>\n",
       "      <td>NaN</td>\n",
       "      <td>Yes</td>\n",
       "      <td>Yes</td>\n",
       "      <td>Often</td>\n",
       "      <td>26-100</td>\n",
       "      <td>No</td>\n",
       "      <td>Yes</td>\n",
       "      <td>No</td>\n",
       "      <td>Yes</td>\n",
       "      <td>No</td>\n",
       "      <td>No</td>\n",
       "      <td>No</td>\n",
       "      <td>Somewhat difficult</td>\n",
       "      <td>Yes</td>\n",
       "      <td>Yes</td>\n",
       "      <td>Some of them</td>\n",
       "      <td>No</td>\n",
       "      <td>Maybe</td>\n",
       "      <td>Maybe</td>\n",
       "      <td>No</td>\n",
       "      <td>Yes</td>\n",
       "      <td>NaN</td>\n",
       "    </tr>\n",
       "    <tr>\n",
       "      <th>4</th>\n",
       "      <td>2014-08-27 11:30:22</td>\n",
       "      <td>31</td>\n",
       "      <td>Male</td>\n",
       "      <td>United States</td>\n",
       "      <td>TX</td>\n",
       "      <td>NaN</td>\n",
       "      <td>No</td>\n",
       "      <td>No</td>\n",
       "      <td>Never</td>\n",
       "      <td>100-500</td>\n",
       "      <td>Yes</td>\n",
       "      <td>Yes</td>\n",
       "      <td>Yes</td>\n",
       "      <td>No</td>\n",
       "      <td>Don't know</td>\n",
       "      <td>Don't know</td>\n",
       "      <td>Don't know</td>\n",
       "      <td>Don't know</td>\n",
       "      <td>No</td>\n",
       "      <td>No</td>\n",
       "      <td>Some of them</td>\n",
       "      <td>Yes</td>\n",
       "      <td>Yes</td>\n",
       "      <td>Yes</td>\n",
       "      <td>Don't know</td>\n",
       "      <td>No</td>\n",
       "      <td>NaN</td>\n",
       "    </tr>\n",
       "  </tbody>\n",
       "</table>\n",
       "</div>"
      ],
      "text/plain": [
       "           date_submit  age  gender    country_live state_live self_employed  \\\n",
       "0  2014-08-27 11:29:31   37  Female   United States         IL           NaN   \n",
       "1  2014-08-27 11:29:37   44       M   United States         IN           NaN   \n",
       "2  2014-08-27 11:29:44   32    Male          Canada        NaN           NaN   \n",
       "3  2014-08-27 11:29:46   31    Male  United Kingdom        NaN           NaN   \n",
       "4  2014-08-27 11:30:22   31    Male   United States         TX           NaN   \n",
       "\n",
       "  family_history treatment work_interfere   num_employees remote tech_comp  \\\n",
       "0             No       Yes          Often            6-25     No       Yes   \n",
       "1             No        No         Rarely  More than 1000     No        No   \n",
       "2             No        No         Rarely            6-25     No       Yes   \n",
       "3            Yes       Yes          Often          26-100     No       Yes   \n",
       "4             No        No          Never         100-500    Yes       Yes   \n",
       "\n",
       "     benefits care_options wellness_program    emp_help        anon  \\\n",
       "0         Yes     Not sure               No         Yes         Yes   \n",
       "1  Don't know           No       Don't know  Don't know  Don't know   \n",
       "2          No           No               No          No  Don't know   \n",
       "3          No          Yes               No          No          No   \n",
       "4         Yes           No       Don't know  Don't know  Don't know   \n",
       "\n",
       "            med_leave ment_conseq phys_conseq     coworkers supervisors  \\\n",
       "0       Somewhat easy          No          No  Some of them         Yes   \n",
       "1          Don't know       Maybe          No            No          No   \n",
       "2  Somewhat difficult          No          No           Yes         Yes   \n",
       "3  Somewhat difficult         Yes         Yes  Some of them          No   \n",
       "4          Don't know          No          No  Some of them         Yes   \n",
       "\n",
       "  ment_interv phys_interv ment_vs_phys obs_conseq comments  \n",
       "0          No       Maybe          Yes         No      NaN  \n",
       "1          No          No   Don't know         No      NaN  \n",
       "2         Yes         Yes           No         No      NaN  \n",
       "3       Maybe       Maybe           No        Yes      NaN  \n",
       "4         Yes         Yes   Don't know         No      NaN  "
      ]
     },
     "execution_count": 6,
     "metadata": {},
     "output_type": "execute_result"
    }
   ],
   "source": [
    "mental14_df.head()"
   ]
  },
  {
   "cell_type": "code",
   "execution_count": 7,
   "metadata": {},
   "outputs": [
    {
     "data": {
      "text/html": [
       "<div>\n",
       "<style>\n",
       "    .dataframe thead tr:only-child th {\n",
       "        text-align: right;\n",
       "    }\n",
       "\n",
       "    .dataframe thead th {\n",
       "        text-align: left;\n",
       "    }\n",
       "\n",
       "    .dataframe tbody tr th {\n",
       "        vertical-align: top;\n",
       "    }\n",
       "</style>\n",
       "<table border=\"1\" class=\"dataframe\">\n",
       "  <thead>\n",
       "    <tr style=\"text-align: right;\">\n",
       "      <th></th>\n",
       "      <th>age</th>\n",
       "    </tr>\n",
       "  </thead>\n",
       "  <tbody>\n",
       "    <tr>\n",
       "      <th>count</th>\n",
       "      <td>1.259000e+03</td>\n",
       "    </tr>\n",
       "    <tr>\n",
       "      <th>mean</th>\n",
       "      <td>7.942815e+07</td>\n",
       "    </tr>\n",
       "    <tr>\n",
       "      <th>std</th>\n",
       "      <td>2.818299e+09</td>\n",
       "    </tr>\n",
       "    <tr>\n",
       "      <th>min</th>\n",
       "      <td>-1.726000e+03</td>\n",
       "    </tr>\n",
       "    <tr>\n",
       "      <th>25%</th>\n",
       "      <td>2.700000e+01</td>\n",
       "    </tr>\n",
       "    <tr>\n",
       "      <th>50%</th>\n",
       "      <td>3.100000e+01</td>\n",
       "    </tr>\n",
       "    <tr>\n",
       "      <th>75%</th>\n",
       "      <td>3.600000e+01</td>\n",
       "    </tr>\n",
       "    <tr>\n",
       "      <th>max</th>\n",
       "      <td>1.000000e+11</td>\n",
       "    </tr>\n",
       "  </tbody>\n",
       "</table>\n",
       "</div>"
      ],
      "text/plain": [
       "                age\n",
       "count  1.259000e+03\n",
       "mean   7.942815e+07\n",
       "std    2.818299e+09\n",
       "min   -1.726000e+03\n",
       "25%    2.700000e+01\n",
       "50%    3.100000e+01\n",
       "75%    3.600000e+01\n",
       "max    1.000000e+11"
      ]
     },
     "execution_count": 7,
     "metadata": {},
     "output_type": "execute_result"
    }
   ],
   "source": [
    "mental14_df.describe()"
   ]
  },
  {
   "cell_type": "code",
   "execution_count": 8,
   "metadata": {},
   "outputs": [
    {
     "data": {
      "text/html": [
       "<div>\n",
       "<style>\n",
       "    .dataframe thead tr:only-child th {\n",
       "        text-align: right;\n",
       "    }\n",
       "\n",
       "    .dataframe thead th {\n",
       "        text-align: left;\n",
       "    }\n",
       "\n",
       "    .dataframe tbody tr th {\n",
       "        vertical-align: top;\n",
       "    }\n",
       "</style>\n",
       "<table border=\"1\" class=\"dataframe\">\n",
       "  <thead>\n",
       "    <tr style=\"text-align: right;\">\n",
       "      <th></th>\n",
       "      <th>date_submit</th>\n",
       "      <th>gender</th>\n",
       "      <th>country_live</th>\n",
       "      <th>state_live</th>\n",
       "      <th>self_employed</th>\n",
       "      <th>family_history</th>\n",
       "      <th>treatment</th>\n",
       "      <th>work_interfere</th>\n",
       "      <th>num_employees</th>\n",
       "      <th>remote</th>\n",
       "      <th>tech_comp</th>\n",
       "      <th>benefits</th>\n",
       "      <th>care_options</th>\n",
       "      <th>wellness_program</th>\n",
       "      <th>emp_help</th>\n",
       "      <th>anon</th>\n",
       "      <th>med_leave</th>\n",
       "      <th>ment_conseq</th>\n",
       "      <th>phys_conseq</th>\n",
       "      <th>coworkers</th>\n",
       "      <th>supervisors</th>\n",
       "      <th>ment_interv</th>\n",
       "      <th>phys_interv</th>\n",
       "      <th>ment_vs_phys</th>\n",
       "      <th>obs_conseq</th>\n",
       "      <th>comments</th>\n",
       "    </tr>\n",
       "  </thead>\n",
       "  <tbody>\n",
       "    <tr>\n",
       "      <th>count</th>\n",
       "      <td>1259</td>\n",
       "      <td>1259</td>\n",
       "      <td>1259</td>\n",
       "      <td>744</td>\n",
       "      <td>1241</td>\n",
       "      <td>1259</td>\n",
       "      <td>1259</td>\n",
       "      <td>995</td>\n",
       "      <td>1259</td>\n",
       "      <td>1259</td>\n",
       "      <td>1259</td>\n",
       "      <td>1259</td>\n",
       "      <td>1259</td>\n",
       "      <td>1259</td>\n",
       "      <td>1259</td>\n",
       "      <td>1259</td>\n",
       "      <td>1259</td>\n",
       "      <td>1259</td>\n",
       "      <td>1259</td>\n",
       "      <td>1259</td>\n",
       "      <td>1259</td>\n",
       "      <td>1259</td>\n",
       "      <td>1259</td>\n",
       "      <td>1259</td>\n",
       "      <td>1259</td>\n",
       "      <td>164</td>\n",
       "    </tr>\n",
       "    <tr>\n",
       "      <th>unique</th>\n",
       "      <td>1246</td>\n",
       "      <td>49</td>\n",
       "      <td>48</td>\n",
       "      <td>45</td>\n",
       "      <td>2</td>\n",
       "      <td>2</td>\n",
       "      <td>2</td>\n",
       "      <td>4</td>\n",
       "      <td>6</td>\n",
       "      <td>2</td>\n",
       "      <td>2</td>\n",
       "      <td>3</td>\n",
       "      <td>3</td>\n",
       "      <td>3</td>\n",
       "      <td>3</td>\n",
       "      <td>3</td>\n",
       "      <td>5</td>\n",
       "      <td>3</td>\n",
       "      <td>3</td>\n",
       "      <td>3</td>\n",
       "      <td>3</td>\n",
       "      <td>3</td>\n",
       "      <td>3</td>\n",
       "      <td>3</td>\n",
       "      <td>2</td>\n",
       "      <td>160</td>\n",
       "    </tr>\n",
       "    <tr>\n",
       "      <th>top</th>\n",
       "      <td>2014-08-27 15:23:51</td>\n",
       "      <td>Male</td>\n",
       "      <td>United States</td>\n",
       "      <td>CA</td>\n",
       "      <td>No</td>\n",
       "      <td>No</td>\n",
       "      <td>Yes</td>\n",
       "      <td>Sometimes</td>\n",
       "      <td>6-25</td>\n",
       "      <td>No</td>\n",
       "      <td>Yes</td>\n",
       "      <td>Yes</td>\n",
       "      <td>No</td>\n",
       "      <td>No</td>\n",
       "      <td>No</td>\n",
       "      <td>Don't know</td>\n",
       "      <td>Don't know</td>\n",
       "      <td>No</td>\n",
       "      <td>No</td>\n",
       "      <td>Some of them</td>\n",
       "      <td>Yes</td>\n",
       "      <td>No</td>\n",
       "      <td>Maybe</td>\n",
       "      <td>Don't know</td>\n",
       "      <td>No</td>\n",
       "      <td>* Small family business - YMMV.</td>\n",
       "    </tr>\n",
       "    <tr>\n",
       "      <th>freq</th>\n",
       "      <td>2</td>\n",
       "      <td>615</td>\n",
       "      <td>751</td>\n",
       "      <td>138</td>\n",
       "      <td>1095</td>\n",
       "      <td>767</td>\n",
       "      <td>637</td>\n",
       "      <td>465</td>\n",
       "      <td>290</td>\n",
       "      <td>883</td>\n",
       "      <td>1031</td>\n",
       "      <td>477</td>\n",
       "      <td>501</td>\n",
       "      <td>842</td>\n",
       "      <td>646</td>\n",
       "      <td>819</td>\n",
       "      <td>563</td>\n",
       "      <td>490</td>\n",
       "      <td>925</td>\n",
       "      <td>774</td>\n",
       "      <td>516</td>\n",
       "      <td>1008</td>\n",
       "      <td>557</td>\n",
       "      <td>576</td>\n",
       "      <td>1075</td>\n",
       "      <td>5</td>\n",
       "    </tr>\n",
       "  </tbody>\n",
       "</table>\n",
       "</div>"
      ],
      "text/plain": [
       "                date_submit gender   country_live state_live self_employed  \\\n",
       "count                  1259   1259           1259        744          1241   \n",
       "unique                 1246     49             48         45             2   \n",
       "top     2014-08-27 15:23:51   Male  United States         CA            No   \n",
       "freq                      2    615            751        138          1095   \n",
       "\n",
       "       family_history treatment work_interfere num_employees remote tech_comp  \\\n",
       "count            1259      1259            995          1259   1259      1259   \n",
       "unique              2         2              4             6      2         2   \n",
       "top                No       Yes      Sometimes          6-25     No       Yes   \n",
       "freq              767       637            465           290    883      1031   \n",
       "\n",
       "       benefits care_options wellness_program emp_help        anon  \\\n",
       "count      1259         1259             1259     1259        1259   \n",
       "unique        3            3                3        3           3   \n",
       "top         Yes           No               No       No  Don't know   \n",
       "freq        477          501              842      646         819   \n",
       "\n",
       "         med_leave ment_conseq phys_conseq     coworkers supervisors  \\\n",
       "count         1259        1259        1259          1259        1259   \n",
       "unique           5           3           3             3           3   \n",
       "top     Don't know          No          No  Some of them         Yes   \n",
       "freq           563         490         925           774         516   \n",
       "\n",
       "       ment_interv phys_interv ment_vs_phys obs_conseq  \\\n",
       "count         1259        1259         1259       1259   \n",
       "unique           3           3            3          2   \n",
       "top             No       Maybe   Don't know         No   \n",
       "freq          1008         557          576       1075   \n",
       "\n",
       "                               comments  \n",
       "count                               164  \n",
       "unique                              160  \n",
       "top     * Small family business - YMMV.  \n",
       "freq                                  5  "
      ]
     },
     "execution_count": 8,
     "metadata": {},
     "output_type": "execute_result"
    }
   ],
   "source": [
    "mental14_df.describe(include=['O'])"
   ]
  },
  {
   "cell_type": "markdown",
   "metadata": {},
   "source": [
    "### Extract and Merge Timestamps Into 2016 DF"
   ]
  },
  {
   "cell_type": "code",
   "execution_count": 9,
   "metadata": {},
   "outputs": [
    {
     "data": {
      "text/plain": [
       "((1433, 63), (1433, 5))"
      ]
     },
     "execution_count": 9,
     "metadata": {},
     "output_type": "execute_result"
    }
   ],
   "source": [
    "mental16_df.shape, mental16_meta_df.shape"
   ]
  },
  {
   "cell_type": "code",
   "execution_count": 10,
   "metadata": {
    "collapsed": true
   },
   "outputs": [],
   "source": [
    "mental16_meta_df = pd.DataFrame.from_records(mental16_meta_df.metadata.values)"
   ]
  },
  {
   "cell_type": "code",
   "execution_count": 11,
   "metadata": {
    "collapsed": true
   },
   "outputs": [],
   "source": [
    "mental16_meta_df.drop(['browser', 'network_id', 'platform', 'referer'], axis=1, inplace=True)"
   ]
  },
  {
   "cell_type": "code",
   "execution_count": 12,
   "metadata": {
    "collapsed": true
   },
   "outputs": [],
   "source": [
    "mental16_df = pd.concat([mental16_meta_df, mental16_df], axis=1)"
   ]
  },
  {
   "cell_type": "code",
   "execution_count": 13,
   "metadata": {
    "collapsed": true
   },
   "outputs": [],
   "source": [
    "mental16_relabels = [\n",
    "    'date_land', 'date_submit', 'user_agent', 'self_employed', 'num_employees', 'tech_comp', 'tech_role',\n",
    "    'benefits', 'care_options', 'wellness_program', 'emp_help', 'anon', 'med_leave', 'ment_conseq',\n",
    "    'phys_conseq', 'coworkers', 'supervisors', 'ment_vs_phys', 'obs_conseq', 'ment_med_cov', 'online_help',\n",
    "    'reveal_clients', 'reveal_clients_neg', 'reveal_workers', 'reveal_workers_neg', 'productivity',\n",
    "    'productivity_perc', 'prev_emps', 'pe_benefits', 'pe_care_options', 'pe_wellness_program', 'pe_emp_help',\n",
    "    'pe_anon', 'pe_ment_conseq', 'pe_phys_conseq', 'pe_coworkers', 'pe_supervisors', 'pe_ment_vs_phys',\n",
    "    'pe_obs_conseq', 'phys_interv', 'phys_interv_why', 'ment_interv', 'ment_interv_why', 'ment_hurt_career',\n",
    "    'coworkers_neg', 'share_fam', 'bad_event', 'less_another', 'family_history', 'past_disorder',\n",
    "    'current_disorder', 'yes_condition', 'maybe_condition', 'diagnosis', 'diag_condition', 'treatment',\n",
    "    'interfere_treated', 'interfere_untreated', 'age', 'gender', 'country_live', 'state_live', 'country_work',\n",
    "    'state_work', 'job_position', 'remote'\n",
    "]"
   ]
  },
  {
   "cell_type": "code",
   "execution_count": 14,
   "metadata": {
    "collapsed": true
   },
   "outputs": [],
   "source": [
    "mental16_df.columns = mental16_relabels"
   ]
  },
  {
   "cell_type": "markdown",
   "metadata": {},
   "source": [
    "### Create work_interfere Feature for 2016"
   ]
  },
  {
   "cell_type": "code",
   "execution_count": 15,
   "metadata": {
    "collapsed": true
   },
   "outputs": [],
   "source": [
    "work_interfere_to_num = {'Not applicable to me': 0, 'Never': 1, 'Rarely': 2, 'Sometimes': 3, 'Often': 4}\n",
    "num_to_work_interfere = {0: 'Not applicable to me', 1: 'Never', 2: 'Rarely', 3: 'Sometimes', 4: 'Often'}\n",
    "work_interfere = []\n",
    "\n",
    "for ind, row in mental16_df[['interfere_untreated', 'interfere_treated']].iterrows():\n",
    "    # if 'Not applicable' for either column then add the other one that has a value\n",
    "    row_mapped = row.map(work_interfere_to_num)\n",
    "    if row_mapped[0] == 0 or row_mapped[1] == 0:\n",
    "        work_interfere.append(row_mapped.max())\n",
    "    # else take the average between both columns and randomly round up or down\n",
    "    else:\n",
    "        temp_val = row_mapped.mean()\n",
    "        round_up_down = np.random.randint(0, 2)\n",
    "        if not temp_val.is_integer():\n",
    "            if round_up_down == 0:\n",
    "                temp_val = np.floor(temp_val)\n",
    "            if round_up_down == 1:\n",
    "                temp_val = np.ceil(temp_val)\n",
    "        work_interfere.append(int(temp_val))\n",
    "work_interfere = pd.Series(work_interfere).map(num_to_work_interfere)"
   ]
  },
  {
   "cell_type": "code",
   "execution_count": 16,
   "metadata": {
    "collapsed": true
   },
   "outputs": [],
   "source": [
    "mental16_df['work_interfere'] = work_interfere"
   ]
  },
  {
   "cell_type": "code",
   "execution_count": 17,
   "metadata": {
    "scrolled": true
   },
   "outputs": [
    {
     "data": {
      "text/plain": [
       "(1433, 67)"
      ]
     },
     "execution_count": 17,
     "metadata": {},
     "output_type": "execute_result"
    }
   ],
   "source": [
    "mental16_df.shape"
   ]
  },
  {
   "cell_type": "markdown",
   "metadata": {},
   "source": [
    "### Combine 2014 and 2016 Dataframes"
   ]
  },
  {
   "cell_type": "code",
   "execution_count": 18,
   "metadata": {
    "collapsed": true
   },
   "outputs": [],
   "source": [
    "combined_df = pd.concat([mental14_df,mental16_df],join='inner')"
   ]
  },
  {
   "cell_type": "code",
   "execution_count": 19,
   "metadata": {
    "collapsed": true
   },
   "outputs": [],
   "source": [
    "combined_df.reset_index(drop=True, inplace=True)"
   ]
  },
  {
   "cell_type": "code",
   "execution_count": 20,
   "metadata": {
    "scrolled": true
   },
   "outputs": [
    {
     "data": {
      "text/html": [
       "<div>\n",
       "<style>\n",
       "    .dataframe thead tr:only-child th {\n",
       "        text-align: right;\n",
       "    }\n",
       "\n",
       "    .dataframe thead th {\n",
       "        text-align: left;\n",
       "    }\n",
       "\n",
       "    .dataframe tbody tr th {\n",
       "        vertical-align: top;\n",
       "    }\n",
       "</style>\n",
       "<table border=\"1\" class=\"dataframe\">\n",
       "  <thead>\n",
       "    <tr style=\"text-align: right;\">\n",
       "      <th></th>\n",
       "      <th>date_submit</th>\n",
       "      <th>age</th>\n",
       "      <th>gender</th>\n",
       "      <th>country_live</th>\n",
       "      <th>state_live</th>\n",
       "      <th>self_employed</th>\n",
       "      <th>family_history</th>\n",
       "      <th>treatment</th>\n",
       "      <th>work_interfere</th>\n",
       "      <th>num_employees</th>\n",
       "      <th>remote</th>\n",
       "      <th>tech_comp</th>\n",
       "      <th>benefits</th>\n",
       "      <th>care_options</th>\n",
       "      <th>wellness_program</th>\n",
       "      <th>emp_help</th>\n",
       "      <th>anon</th>\n",
       "      <th>med_leave</th>\n",
       "      <th>ment_conseq</th>\n",
       "      <th>phys_conseq</th>\n",
       "      <th>coworkers</th>\n",
       "      <th>supervisors</th>\n",
       "      <th>ment_interv</th>\n",
       "      <th>phys_interv</th>\n",
       "      <th>ment_vs_phys</th>\n",
       "      <th>obs_conseq</th>\n",
       "    </tr>\n",
       "  </thead>\n",
       "  <tbody>\n",
       "    <tr>\n",
       "      <th>2687</th>\n",
       "      <td>2016-11-07 19:58:03</td>\n",
       "      <td>34</td>\n",
       "      <td>Female</td>\n",
       "      <td>United States of America</td>\n",
       "      <td>New York</td>\n",
       "      <td>1</td>\n",
       "      <td>Yes</td>\n",
       "      <td>1</td>\n",
       "      <td>Not applicable to me</td>\n",
       "      <td>NaN</td>\n",
       "      <td>Sometimes</td>\n",
       "      <td>NaN</td>\n",
       "      <td>NaN</td>\n",
       "      <td>NaN</td>\n",
       "      <td>NaN</td>\n",
       "      <td>NaN</td>\n",
       "      <td>NaN</td>\n",
       "      <td>NaN</td>\n",
       "      <td>NaN</td>\n",
       "      <td>NaN</td>\n",
       "      <td>NaN</td>\n",
       "      <td>NaN</td>\n",
       "      <td>No</td>\n",
       "      <td>No</td>\n",
       "      <td>NaN</td>\n",
       "      <td>NaN</td>\n",
       "    </tr>\n",
       "    <tr>\n",
       "      <th>2688</th>\n",
       "      <td>2016-11-10 03:53:18</td>\n",
       "      <td>56</td>\n",
       "      <td>MALE</td>\n",
       "      <td>United States of America</td>\n",
       "      <td>California</td>\n",
       "      <td>1</td>\n",
       "      <td>Yes</td>\n",
       "      <td>0</td>\n",
       "      <td>Sometimes</td>\n",
       "      <td>NaN</td>\n",
       "      <td>Sometimes</td>\n",
       "      <td>NaN</td>\n",
       "      <td>NaN</td>\n",
       "      <td>NaN</td>\n",
       "      <td>NaN</td>\n",
       "      <td>NaN</td>\n",
       "      <td>NaN</td>\n",
       "      <td>NaN</td>\n",
       "      <td>NaN</td>\n",
       "      <td>NaN</td>\n",
       "      <td>NaN</td>\n",
       "      <td>NaN</td>\n",
       "      <td>No</td>\n",
       "      <td>Maybe</td>\n",
       "      <td>NaN</td>\n",
       "      <td>NaN</td>\n",
       "    </tr>\n",
       "    <tr>\n",
       "      <th>2689</th>\n",
       "      <td>2016-11-10 16:49:32</td>\n",
       "      <td>52</td>\n",
       "      <td>Male</td>\n",
       "      <td>United States of America</td>\n",
       "      <td>Georgia</td>\n",
       "      <td>0</td>\n",
       "      <td>Yes</td>\n",
       "      <td>1</td>\n",
       "      <td>Sometimes</td>\n",
       "      <td>100-500</td>\n",
       "      <td>Sometimes</td>\n",
       "      <td>1</td>\n",
       "      <td>Yes</td>\n",
       "      <td>Yes</td>\n",
       "      <td>Yes</td>\n",
       "      <td>Yes</td>\n",
       "      <td>I don't know</td>\n",
       "      <td>Somewhat difficult</td>\n",
       "      <td>Maybe</td>\n",
       "      <td>Maybe</td>\n",
       "      <td>Yes</td>\n",
       "      <td>Yes</td>\n",
       "      <td>No</td>\n",
       "      <td>Maybe</td>\n",
       "      <td>I don't know</td>\n",
       "      <td>Yes</td>\n",
       "    </tr>\n",
       "    <tr>\n",
       "      <th>2690</th>\n",
       "      <td>2016-11-11 15:21:13</td>\n",
       "      <td>30</td>\n",
       "      <td>Female</td>\n",
       "      <td>United States of America</td>\n",
       "      <td>Nebraska</td>\n",
       "      <td>0</td>\n",
       "      <td>Yes</td>\n",
       "      <td>0</td>\n",
       "      <td>Sometimes</td>\n",
       "      <td>100-500</td>\n",
       "      <td>Sometimes</td>\n",
       "      <td>0</td>\n",
       "      <td>I don't know</td>\n",
       "      <td>I am not sure</td>\n",
       "      <td>No</td>\n",
       "      <td>Yes</td>\n",
       "      <td>I don't know</td>\n",
       "      <td>Somewhat difficult</td>\n",
       "      <td>Maybe</td>\n",
       "      <td>No</td>\n",
       "      <td>Maybe</td>\n",
       "      <td>Yes</td>\n",
       "      <td>No</td>\n",
       "      <td>Maybe</td>\n",
       "      <td>No</td>\n",
       "      <td>No</td>\n",
       "    </tr>\n",
       "    <tr>\n",
       "      <th>2691</th>\n",
       "      <td>2016-11-12 06:05:16</td>\n",
       "      <td>25</td>\n",
       "      <td>non-binary</td>\n",
       "      <td>Canada</td>\n",
       "      <td>NaN</td>\n",
       "      <td>0</td>\n",
       "      <td>I don't know</td>\n",
       "      <td>0</td>\n",
       "      <td>Often</td>\n",
       "      <td>100-500</td>\n",
       "      <td>Sometimes</td>\n",
       "      <td>1</td>\n",
       "      <td>Yes</td>\n",
       "      <td>No</td>\n",
       "      <td>No</td>\n",
       "      <td>No</td>\n",
       "      <td>I don't know</td>\n",
       "      <td>Very difficult</td>\n",
       "      <td>Maybe</td>\n",
       "      <td>No</td>\n",
       "      <td>Maybe</td>\n",
       "      <td>Maybe</td>\n",
       "      <td>No</td>\n",
       "      <td>Maybe</td>\n",
       "      <td>No</td>\n",
       "      <td>No</td>\n",
       "    </tr>\n",
       "  </tbody>\n",
       "</table>\n",
       "</div>"
      ],
      "text/plain": [
       "              date_submit  age      gender              country_live  \\\n",
       "2687  2016-11-07 19:58:03   34     Female   United States of America   \n",
       "2688  2016-11-10 03:53:18   56        MALE  United States of America   \n",
       "2689  2016-11-10 16:49:32   52        Male  United States of America   \n",
       "2690  2016-11-11 15:21:13   30      Female  United States of America   \n",
       "2691  2016-11-12 06:05:16   25  non-binary                    Canada   \n",
       "\n",
       "      state_live self_employed family_history treatment        work_interfere  \\\n",
       "2687    New York             1            Yes         1  Not applicable to me   \n",
       "2688  California             1            Yes         0             Sometimes   \n",
       "2689     Georgia             0            Yes         1             Sometimes   \n",
       "2690    Nebraska             0            Yes         0             Sometimes   \n",
       "2691         NaN             0   I don't know         0                 Often   \n",
       "\n",
       "     num_employees     remote tech_comp      benefits   care_options  \\\n",
       "2687           NaN  Sometimes       NaN           NaN            NaN   \n",
       "2688           NaN  Sometimes       NaN           NaN            NaN   \n",
       "2689       100-500  Sometimes         1           Yes            Yes   \n",
       "2690       100-500  Sometimes         0  I don't know  I am not sure   \n",
       "2691       100-500  Sometimes         1           Yes             No   \n",
       "\n",
       "     wellness_program emp_help          anon           med_leave ment_conseq  \\\n",
       "2687              NaN      NaN           NaN                 NaN         NaN   \n",
       "2688              NaN      NaN           NaN                 NaN         NaN   \n",
       "2689              Yes      Yes  I don't know  Somewhat difficult       Maybe   \n",
       "2690               No      Yes  I don't know  Somewhat difficult       Maybe   \n",
       "2691               No       No  I don't know      Very difficult       Maybe   \n",
       "\n",
       "     phys_conseq coworkers supervisors ment_interv phys_interv  ment_vs_phys  \\\n",
       "2687         NaN       NaN         NaN          No          No           NaN   \n",
       "2688         NaN       NaN         NaN          No       Maybe           NaN   \n",
       "2689       Maybe       Yes         Yes          No       Maybe  I don't know   \n",
       "2690          No     Maybe         Yes          No       Maybe            No   \n",
       "2691          No     Maybe       Maybe          No       Maybe            No   \n",
       "\n",
       "     obs_conseq  \n",
       "2687        NaN  \n",
       "2688        NaN  \n",
       "2689        Yes  \n",
       "2690         No  \n",
       "2691         No  "
      ]
     },
     "execution_count": 20,
     "metadata": {},
     "output_type": "execute_result"
    }
   ],
   "source": [
    "combined_df.tail()"
   ]
  },
  {
   "cell_type": "code",
   "execution_count": 21,
   "metadata": {},
   "outputs": [
    {
     "data": {
      "text/plain": [
       "(2692, 26)"
      ]
     },
     "execution_count": 21,
     "metadata": {},
     "output_type": "execute_result"
    }
   ],
   "source": [
    "combined_df.shape"
   ]
  },
  {
   "cell_type": "markdown",
   "metadata": {},
   "source": [
    "### Drop Troublesome Rows/Columns"
   ]
  },
  {
   "cell_type": "code",
   "execution_count": 22,
   "metadata": {
    "collapsed": true,
    "scrolled": true
   },
   "outputs": [],
   "source": [
    "# Drop rows where self_employed == yes ; then drop the column\n",
    "combined_df.drop(combined_df[(\n",
    "    combined_df.self_employed == 1) | (\n",
    "    combined_df.self_employed == 'Yes'\n",
    ")].index, axis=0, inplace=True)\n",
    "\n",
    "combined_df.drop('self_employed', axis=1, inplace=True)"
   ]
  },
  {
   "cell_type": "code",
   "execution_count": 23,
   "metadata": {
    "collapsed": true
   },
   "outputs": [],
   "source": [
    "# Drop country_live = Other\n",
    "combined_df.drop(combined_df[combined_df.country_live == 'Other'].index, axis=0, inplace=True)"
   ]
  },
  {
   "cell_type": "code",
   "execution_count": 24,
   "metadata": {
    "collapsed": true
   },
   "outputs": [],
   "source": [
    "combined_df.reset_index(drop=True, inplace=True)"
   ]
  },
  {
   "cell_type": "code",
   "execution_count": 25,
   "metadata": {},
   "outputs": [
    {
     "data": {
      "text/plain": [
       "(2258, 25)"
      ]
     },
     "execution_count": 25,
     "metadata": {},
     "output_type": "execute_result"
    }
   ],
   "source": [
    "combined_df.shape"
   ]
  },
  {
   "cell_type": "markdown",
   "metadata": {},
   "source": [
    "### Tell Coworkers"
   ]
  },
  {
   "cell_type": "code",
   "execution_count": 26,
   "metadata": {
    "collapsed": true
   },
   "outputs": [],
   "source": [
    "combined_df.loc[(combined_df.coworkers == 'No'), 'coworkers'] = -1\n",
    "combined_df.loc[(combined_df.coworkers == 'Maybe') | (combined_df.coworkers == 'Some of them'), 'coworkers'] = 0\n",
    "combined_df.loc[(combined_df.coworkers == 'Yes'), 'coworkers'] = 1"
   ]
  },
  {
   "cell_type": "markdown",
   "metadata": {},
   "source": [
    "### Tell Supervisors"
   ]
  },
  {
   "cell_type": "code",
   "execution_count": 27,
   "metadata": {
    "collapsed": true
   },
   "outputs": [],
   "source": [
    "combined_df.loc[(combined_df.supervisors == 'No'), 'supervisors'] = -1\n",
    "combined_df.loc[(combined_df.supervisors == 'Maybe') | (\n",
    "    combined_df.supervisors == 'Some of them'), 'supervisors'] = 0\n",
    "combined_df.loc[(combined_df.supervisors == 'Yes'), 'supervisors'] = 1"
   ]
  },
  {
   "cell_type": "markdown",
   "metadata": {},
   "source": [
    "### Discuss Mental Health in Interview"
   ]
  },
  {
   "cell_type": "code",
   "execution_count": 28,
   "metadata": {
    "collapsed": true
   },
   "outputs": [],
   "source": [
    "combined_df.loc[(combined_df.ment_interv == 'No'), 'ment_interv'] = -1\n",
    "combined_df.loc[(combined_df.ment_interv == 'Maybe'), 'ment_interv'] = 0\n",
    "combined_df.loc[(combined_df.ment_interv == 'Yes'), 'ment_interv'] = 1"
   ]
  },
  {
   "cell_type": "markdown",
   "metadata": {
    "collapsed": true
   },
   "source": [
    "### Consequence of Discussing Mental Health"
   ]
  },
  {
   "cell_type": "code",
   "execution_count": 29,
   "metadata": {
    "collapsed": true
   },
   "outputs": [],
   "source": [
    "combined_df.loc[(combined_df.ment_conseq == 'No'), 'ment_conseq'] = -1\n",
    "combined_df.loc[(combined_df.ment_conseq == 'Maybe'), 'ment_conseq'] = 0\n",
    "combined_df.loc[(combined_df.ment_conseq == 'Yes'), 'ment_conseq'] = 1"
   ]
  },
  {
   "cell_type": "markdown",
   "metadata": {},
   "source": [
    "### *Stigma Rating"
   ]
  },
  {
   "cell_type": "code",
   "execution_count": 30,
   "metadata": {
    "collapsed": true
   },
   "outputs": [],
   "source": [
    "# Lumped rating to describe how open or comfortable a person is about discussing their\n",
    "# mental health issues with others in the workplace\n",
    "# 1 = willing to discuss\n",
    "# -1 = unwilling to discuss\n",
    "# 0 = a lot of Maybe's or uncertainty\n",
    "combined_df['stigma'] = (combined_df.coworkers + \\\n",
    "                              combined_df.supervisors + \\\n",
    "                              combined_df.ment_interv - \\\n",
    "                              combined_df.ment_conseq)/4"
   ]
  },
  {
   "cell_type": "code",
   "execution_count": 31,
   "metadata": {},
   "outputs": [
    {
     "data": {
      "text/plain": [
       "-0.12245349867139062"
      ]
     },
     "execution_count": 31,
     "metadata": {},
     "output_type": "execute_result"
    }
   ],
   "source": [
    "combined_df.stigma.mean()"
   ]
  },
  {
   "cell_type": "markdown",
   "metadata": {},
   "source": [
    "### Care Options"
   ]
  },
  {
   "cell_type": "code",
   "execution_count": 32,
   "metadata": {
    "collapsed": true
   },
   "outputs": [],
   "source": [
    "combined_df.loc[(combined_df.care_options == 'No'), 'care_options'] = -1\n",
    "combined_df.loc[(combined_df.care_options == 'I am not sure') | (\n",
    "    combined_df.care_options == 'Not sure') | (\n",
    "    combined_df.care_options.isnull()), 'care_options'] = 0\n",
    "combined_df.loc[(combined_df.care_options == 'Yes'), 'care_options'] = 1"
   ]
  },
  {
   "cell_type": "code",
   "execution_count": 33,
   "metadata": {
    "scrolled": false
   },
   "outputs": [
    {
     "data": {
      "text/plain": [
       "<matplotlib.axes._subplots.AxesSubplot at 0x7f5230a162e8>"
      ]
     },
     "execution_count": 33,
     "metadata": {},
     "output_type": "execute_result"
    },
    {
     "data": {
      "image/png": "[encoded data removed]",
      "text/plain": [
       "<matplotlib.figure.Figure at 0x7f52309ed780>"
      ]
     },
     "metadata": {},
     "output_type": "display_data"
    }
   ],
   "source": [
    "fig, (ax1, ax2) = plt.subplots(1, 2, figsize=(16, 8))\n",
    "sns.countplot(x='care_options', data=combined_df, ax=ax1)\n",
    "sns.barplot(x='care_options', y='stigma', data=combined_df, ax=ax2)"
   ]
  },
  {
   "cell_type": "markdown",
   "metadata": {},
   "source": [
    "### Wellness Program"
   ]
  },
  {
   "cell_type": "code",
   "execution_count": 34,
   "metadata": {
    "collapsed": true
   },
   "outputs": [],
   "source": [
    "combined_df.loc[(combined_df.wellness_program == 'No'), 'wellness_program'] = -1\n",
    "combined_df.loc[(combined_df.wellness_program == 'I don\\'t know') | (\n",
    "    combined_df.wellness_program == 'Don\\'t know'), 'wellness_program'] = 0\n",
    "combined_df.loc[(combined_df.wellness_program == 'Yes'), 'wellness_program'] = 1"
   ]
  },
  {
   "cell_type": "code",
   "execution_count": 35,
   "metadata": {
    "scrolled": false
   },
   "outputs": [
    {
     "data": {
      "text/plain": [
       "<matplotlib.axes._subplots.AxesSubplot at 0x7f5230b76ba8>"
      ]
     },
     "execution_count": 35,
     "metadata": {},
     "output_type": "execute_result"
    },
    {
     "data": {
      "image/png": "[encoded data removed]",
      "text/plain": [
       "<matplotlib.figure.Figure at 0x7f52309e67b8>"
      ]
     },
     "metadata": {},
     "output_type": "display_data"
    }
   ],
   "source": [
    "fig, (ax1, ax2) = plt.subplots(1, 2, figsize=(16, 6))\n",
    "sns.countplot(x='wellness_program', data=combined_df, ax=ax1)\n",
    "sns.barplot(x='wellness_program', y='stigma', data=combined_df, ax=ax2)"
   ]
  },
  {
   "cell_type": "markdown",
   "metadata": {},
   "source": [
    "### Employer Resources for Help"
   ]
  },
  {
   "cell_type": "code",
   "execution_count": 36,
   "metadata": {
    "collapsed": true
   },
   "outputs": [],
   "source": [
    "combined_df.loc[(combined_df.emp_help == 'No'), 'emp_help'] = -1\n",
    "combined_df.loc[(combined_df.emp_help == 'I don\\'t know') | (\n",
    "    combined_df.emp_help == 'Don\\'t know'), 'emp_help'] = 0\n",
    "combined_df.loc[(combined_df.emp_help == 'Yes'), 'emp_help'] = 1"
   ]
  },
  {
   "cell_type": "code",
   "execution_count": 37,
   "metadata": {},
   "outputs": [
    {
     "data": {
      "text/plain": [
       "<matplotlib.axes._subplots.AxesSubplot at 0x7f5230c72438>"
      ]
     },
     "execution_count": 37,
     "metadata": {},
     "output_type": "execute_result"
    },
    {
     "data": {
      "image/png": "[encoded data removed]",
      "text/plain": [
       "<matplotlib.figure.Figure at 0x7f5230be05f8>"
      ]
     },
     "metadata": {},
     "output_type": "display_data"
    }
   ],
   "source": [
    "fig, (ax1, ax2) = plt.subplots(1, 2, figsize=(16, 8))\n",
    "sns.countplot(x='emp_help', data=combined_df, ax=ax1)\n",
    "sns.barplot(x='emp_help', y='stigma', data=combined_df, ax=ax2)"
   ]
  },
  {
   "cell_type": "markdown",
   "metadata": {},
   "source": [
    "### *Resource Promotion Rating"
   ]
  },
  {
   "cell_type": "code",
   "execution_count": 38,
   "metadata": {
    "collapsed": true
   },
   "outputs": [],
   "source": [
    "# Lumped rating to describe how active employers are in promoting mental health\n",
    "# resources and awareness to employees\n",
    "# 1 = frequent promotion\n",
    "# -1 = sparse promotion\n",
    "combined_df['resource_promo'] = (combined_df.care_options + combined_df.wellness_program + combined_df.emp_help)/3"
   ]
  },
  {
   "cell_type": "code",
   "execution_count": 39,
   "metadata": {},
   "outputs": [
    {
     "data": {
      "text/plain": [
       "<matplotlib.axes._subplots.AxesSubplot at 0x7f523260d198>"
      ]
     },
     "execution_count": 39,
     "metadata": {},
     "output_type": "execute_result"
    },
    {
     "data": {
      "image/png": "[encoded data removed]",
      "text/plain": [
       "<matplotlib.figure.Figure at 0x7f523256eba8>"
      ]
     },
     "metadata": {},
     "output_type": "display_data"
    }
   ],
   "source": [
    "fig, (ax1, ax2) = plt.subplots(2, 1, figsize=(16, 16))\n",
    "sns.countplot(y='resource_promo', data=combined_df, ax=ax1)\n",
    "sns.barplot(y='stigma', x='resource_promo', data=combined_df, ax=ax2)"
   ]
  },
  {
   "cell_type": "markdown",
   "metadata": {},
   "source": [
    "### Consequence of Discussing Physical Health"
   ]
  },
  {
   "cell_type": "code",
   "execution_count": 40,
   "metadata": {
    "collapsed": true
   },
   "outputs": [],
   "source": [
    "combined_df.loc[(combined_df.phys_conseq == 'No'), 'phys_conseq'] = -1\n",
    "combined_df.loc[(combined_df.phys_conseq == 'Maybe'), 'phys_conseq'] = 0\n",
    "combined_df.loc[(combined_df.phys_conseq == 'Yes'), 'phys_conseq'] = 1"
   ]
  },
  {
   "cell_type": "markdown",
   "metadata": {},
   "source": [
    "### Discuss Physical Health in Interview"
   ]
  },
  {
   "cell_type": "code",
   "execution_count": 41,
   "metadata": {
    "collapsed": true
   },
   "outputs": [],
   "source": [
    "combined_df.loc[(combined_df.phys_interv == 'No'), 'phys_interv'] = -1\n",
    "combined_df.loc[(combined_df.phys_interv == 'Maybe'), 'phys_interv'] = 0\n",
    "combined_df.loc[(combined_df.phys_interv == 'Yes'), 'phys_interv'] = 1"
   ]
  },
  {
   "cell_type": "markdown",
   "metadata": {},
   "source": [
    "### Mental vs Physical"
   ]
  },
  {
   "cell_type": "code",
   "execution_count": 42,
   "metadata": {
    "collapsed": true
   },
   "outputs": [],
   "source": [
    "combined_df.loc[(combined_df.ment_vs_phys == 'No'), 'ment_vs_phys'] = -1\n",
    "combined_df.loc[(combined_df.ment_vs_phys == 'I don\\'t know') | (\n",
    "    combined_df.ment_vs_phys == 'Don\\'t know'), 'ment_vs_phys'] = 0\n",
    "combined_df.loc[(combined_df.ment_vs_phys == 'Yes'), 'ment_vs_phys'] = 1"
   ]
  },
  {
   "cell_type": "markdown",
   "metadata": {},
   "source": [
    "### *Physical-Mental Rating"
   ]
  },
  {
   "cell_type": "code",
   "execution_count": 43,
   "metadata": {
    "collapsed": true
   },
   "outputs": [],
   "source": [
    "# Lumped rating to describe person's perception mental vs physical health stigma\n",
    "# 1 = mental is worst off\n",
    "# -1 = physical is worst off\n",
    "combined_df['phys_ment'] = ((\n",
    "    combined_df.ment_conseq - combined_df.ment_interv) - (\n",
    "    combined_df.phys_conseq - combined_df.phys_interv) + (\n",
    "    combined_df.ment_vs_phys))/5"
   ]
  },
  {
   "cell_type": "markdown",
   "metadata": {},
   "source": [
    "### Date Submitted"
   ]
  },
  {
   "cell_type": "code",
   "execution_count": 44,
   "metadata": {
    "collapsed": true
   },
   "outputs": [],
   "source": [
    "# string to datetime\n",
    "combined_df.date_submit = pd.to_datetime(combined_df.date_submit)"
   ]
  },
  {
   "cell_type": "code",
   "execution_count": 45,
   "metadata": {
    "collapsed": true
   },
   "outputs": [],
   "source": [
    "# New features to see if there are any time dependent patterns\n",
    "combined_df['year'] = combined_df.date_submit.dt.year\n",
    "combined_df['month'] = combined_df.date_submit.dt.month\n",
    "combined_df['week_day'] = combined_df.date_submit.dt.dayofweek # where 0 = Monday\n",
    "combined_df['hour'] = combined_df.date_submit.dt.hour"
   ]
  },
  {
   "cell_type": "code",
   "execution_count": 46,
   "metadata": {},
   "outputs": [
    {
     "data": {
      "text/plain": [
       "<matplotlib.axes._subplots.AxesSubplot at 0x7f52327a6518>"
      ]
     },
     "execution_count": 46,
     "metadata": {},
     "output_type": "execute_result"
    },
    {
     "data": {
      "image/png": "[encoded data removed]",
      "text/plain": [
       "<matplotlib.figure.Figure at 0x7f523256e668>"
      ]
     },
     "metadata": {},
     "output_type": "display_data"
    }
   ],
   "source": [
    "fig, ([ax1, ax2], [ax3, ax4]) = plt.subplots(2, 2, figsize=(16, 6))\n",
    "sns.barplot(y='stigma', x='year', data=combined_df, ax=ax1)\n",
    "sns.barplot(y='stigma', x='month', data=combined_df, ax=ax2)\n",
    "sns.barplot(y='stigma', x='week_day', data=combined_df, ax=ax3)\n",
    "sns.barplot(y='stigma', x='hour', data=combined_df, ax=ax4)"
   ]
  },
  {
   "cell_type": "markdown",
   "metadata": {},
   "source": [
    "### Age"
   ]
  },
  {
   "cell_type": "code",
   "execution_count": 47,
   "metadata": {},
   "outputs": [
    {
     "data": {
      "text/plain": [
       "<matplotlib.axes._subplots.AxesSubplot at 0x7f5232a6cb00>"
      ]
     },
     "execution_count": 47,
     "metadata": {},
     "output_type": "execute_result"
    },
    {
     "data": {
      "image/png": "[encoded data removed]",
      "text/plain": [
       "<matplotlib.figure.Figure at 0x7f523288f780>"
      ]
     },
     "metadata": {},
     "output_type": "display_data"
    }
   ],
   "source": [
    "fig, (axis1, axis2) = plt.subplots(1, 2, figsize=(20, 6))\n",
    "axis1.set_title('Original Age Distribution')\n",
    "axis2.set_title('New Age Distribution')\n",
    "\n",
    "# get median, Q1, Q3, and number of outlier ages\n",
    "typical_ages = combined_df.loc[(combined_df.age >= 17) & (combined_df.age <= 90), 'age']\n",
    "outlier_ages = combined_df.loc[(combined_df.age > 90) | (combined_df.age < 17), 'age']\n",
    "median_age = typical_ages.median()\n",
    "q1_age = typical_ages.quantile(0.25)\n",
    "q3_age = typical_ages.quantile(0.75)\n",
    "num_outlier_ages = len(outlier_ages)\n",
    "\n",
    "# generate random ages between 1st and 3rd quantiles\n",
    "new_ages = np.random.randint(q1_age, q3_age, size=num_outlier_ages)\n",
    "\n",
    "# plot orig age distrib without the outliers\n",
    "typical_ages.hist(bins=30, ax=axis1)\n",
    "\n",
    "# fill outlier ages with new values\n",
    "combined_df.loc[(combined_df.age > 90) | (combined_df.age < 17), 'age'] = new_ages\n",
    "combined_df.age = combined_df.age.astype(int)\n",
    "\n",
    "# plot age distribution with new values\n",
    "combined_df.age.hist(bins=30, ax=axis2)"
   ]
  },
  {
   "cell_type": "code",
   "execution_count": 48,
   "metadata": {},
   "outputs": [
    {
     "data": {
      "text/plain": [
       "<matplotlib.axes._subplots.AxesSubplot at 0x7f5232601208>"
      ]
     },
     "execution_count": 48,
     "metadata": {},
     "output_type": "execute_result"
    },
    {
     "data": {
      "image/png": "[encoded data removed]",
      "text/plain": [
       "<matplotlib.figure.Figure at 0x7f52326baf98>"
      ]
     },
     "metadata": {},
     "output_type": "display_data"
    }
   ],
   "source": [
    "fig, ax = plt.subplots(1, 1, figsize=(18,6))\n",
    "sns.barplot(x='age', y='stigma', data=combined_df)"
   ]
  },
  {
   "cell_type": "code",
   "execution_count": 49,
   "metadata": {
    "collapsed": true
   },
   "outputs": [],
   "source": [
    "# Add cut age into age bands\n",
    "# combined_df['age_split'] = pd.cut(combined_df.age, 5, precision=0)\n",
    "# combined_df.age_split.value_counts(dropna=False)\n",
    "# combined_df.loc[combined_df.age <= 28, 'age_band'] = 0\n",
    "# combined_df.loc[(combined_df.age > 28) & (combined_df.age <= 40), 'age_band'] = 1\n",
    "# combined_df.loc[(combined_df.age > 40) & (combined_df.age <= 51), 'age_band'] = 2\n",
    "# combined_df.loc[(combined_df.age > 51) & (combined_df.age <= 63), 'age_band'] = 3\n",
    "# combined_df.loc[combined_df.age > 63, 'age_band'] = 4\n",
    "# combined_df.age_band = combined_df.age_band.astype(int)"
   ]
  },
  {
   "cell_type": "markdown",
   "metadata": {},
   "source": [
    "### Gender"
   ]
  },
  {
   "cell_type": "code",
   "execution_count": 50,
   "metadata": {
    "collapsed": true
   },
   "outputs": [],
   "source": [
    "# Separate all the unique responses into male, female, and other\n",
    "all_gender = list(combined_df.gender.unique())\n",
    "condit_female = ['Female', 'female', 'F', 'f', 'Femake', 'woman', 'Female ', 'Woman', 'femail',\n",
    "                'I identify as female.', 'fm', 'female/woman', 'female ', 'fem',\n",
    "                'Female (props for making this a freeform field, though)', ' Female']\n",
    "condit_male = ['M', 'Male', 'male', 'maile', 'm', 'Make', 'Male ', 'Man', 'msle', 'Mail', 'Malr', 'man', 'Male.',\n",
    "              'Sex is male', 'Dude', 'mail', 'male ']\n",
    "condit_other = [i for i in all_gender if (i not in condit_male) and (i not in condit_female)] "
   ]
  },
  {
   "cell_type": "code",
   "execution_count": 51,
   "metadata": {
    "collapsed": true
   },
   "outputs": [],
   "source": [
    "# Relabel according to each category\n",
    "combined_df.loc[(combined_df.gender.isin(condit_male)), 'gender'] = -1\n",
    "combined_df.loc[(combined_df.gender.isin(condit_other)), 'gender'] = 0\n",
    "combined_df.loc[(combined_df.gender.isin(condit_female)), 'gender'] = 1"
   ]
  },
  {
   "cell_type": "code",
   "execution_count": 52,
   "metadata": {},
   "outputs": [
    {
     "data": {
      "text/plain": [
       "<matplotlib.axes._subplots.AxesSubplot at 0x7f5231dd4630>"
      ]
     },
     "execution_count": 52,
     "metadata": {},
     "output_type": "execute_result"
    },
    {
     "data": {
      "image/png": "[encoded data removed]",
      "text/plain": [
       "<matplotlib.figure.Figure at 0x7f5232df5550>"
      ]
     },
     "metadata": {},
     "output_type": "display_data"
    }
   ],
   "source": [
    "# plot counts for each gender\n",
    "fig, (ax1, ax2) = plt.subplots(1, 2, figsize=(16,8))\n",
    "sns.countplot(x='gender', data=combined_df, ax=ax1, order=combined_df.gender.value_counts().index)\n",
    "sns.barplot(x='gender', y='stigma', data=combined_df, ax=ax2, order=combined_df.gender.value_counts().index)"
   ]
  },
  {
   "cell_type": "markdown",
   "metadata": {},
   "source": [
    "### Location"
   ]
  },
  {
   "cell_type": "code",
   "execution_count": 53,
   "metadata": {
    "collapsed": true
   },
   "outputs": [],
   "source": [
    "# Put together the USA & US responses\n",
    "combined_df.loc[(combined_df.country_live == 'United States of America'), 'country_live'] = 'United States'"
   ]
  },
  {
   "cell_type": "code",
   "execution_count": 54,
   "metadata": {
    "collapsed": true
   },
   "outputs": [],
   "source": [
    "# Set state_live = NaN for non USA countries\n",
    "combined_df.loc[(\n",
    "    combined_df.state_live.notnull()) & (\n",
    "    combined_df.country_live != 'United States'), 'state_live'] = np.nan"
   ]
  },
  {
   "cell_type": "code",
   "execution_count": 55,
   "metadata": {
    "collapsed": true
   },
   "outputs": [],
   "source": [
    "# Set state_live = the mode (California) for USA responses with NaN state_live\n",
    "combined_df.loc[(\n",
    "    combined_df.state_live.isnull()) & (\n",
    "    combined_df.country_live == 'United States'), 'state_live'] = 'California'"
   ]
  },
  {
   "cell_type": "code",
   "execution_count": 56,
   "metadata": {
    "collapsed": true
   },
   "outputs": [],
   "source": [
    "# Convert abbrev. state_live responses to full name\n",
    "state_abbr_full = {'IL': 'Illinois', 'IN': 'Indiana', 'TX': 'Texas', 'TN': 'Tennessee', 'MI': 'Michigan',\n",
    "                  'OH': 'Ohio', 'CA': 'California', 'CT': 'Connecticut', 'NY': 'New York', 'MA': 'Massachusetts',\n",
    "                  'IA': 'Iowa', 'WA': 'Washington', 'WI': 'Wisconsin', 'UT': 'Utah', 'NM': 'New Mexico',\n",
    "                  'OR': 'Oregon', 'FL': 'Florida', 'MN': 'Minnesota', 'MO': 'Missouri', 'AZ': 'Arizona',\n",
    "                  'CO': 'Colorado', 'GA': 'Georgia', 'DC': 'District of Columbia', 'NE': 'Nebraska',\n",
    "                  'MD': 'Maryland', 'PA': 'Pennsylvania', 'WV': 'West Virginia', 'OK': 'Oklahoma',\n",
    "                  'NC': 'North Carolina', 'KS': 'Kansas', 'VA': 'Virginia', 'NH': 'New Hampshire', 'KY': 'Kentucky',\n",
    "                  'AL': 'Alabama', 'NV': 'Nevada', 'NJ': 'New Jersey', 'SC': 'South Carolina', 'VT': 'Vermont',\n",
    "                  'SD': 'South Dakota', 'ID': 'Idaho', 'RI': 'Rhode Island', 'WY': 'Wyoming', 'LA': 'Louisiana',\n",
    "                  'ME': 'Maine', 'AK': 'Alaska', 'AR': 'Arkansas', 'DE': 'Delaware', 'HI': 'Hawaii',\n",
    "                  'MS': 'Mississippi', 'MT': 'Montana', 'ND': 'North Dakota'}\n",
    "combined_df.loc[(combined_df.state_live.str.len() == 2), 'state_live'] = combined_df.loc[(combined_df.state_live.str.len() == 2), 'state_live'].map(state_abbr_full)"
   ]
  },
  {
   "cell_type": "code",
   "execution_count": 57,
   "metadata": {
    "collapsed": true
   },
   "outputs": [],
   "source": [
    "# Create feature 'location' that splits USA by states and considers them on same level as other countries\n",
    "combined_df['location'] = combined_df.country_live\n",
    "combined_df.loc[(\n",
    "    combined_df.state_live.notnull()) & (\n",
    "    combined_df.country_live == 'United States'), 'location'] = combined_df.state_live"
   ]
  },
  {
   "cell_type": "code",
   "execution_count": 58,
   "metadata": {
    "scrolled": true
   },
   "outputs": [
    {
     "data": {
      "text/plain": [
       "<matplotlib.axes._subplots.AxesSubplot at 0x7f5231cdea20>"
      ]
     },
     "execution_count": 58,
     "metadata": {},
     "output_type": "execute_result"
    },
    {
     "data": {
      "image/png": "[encoded data removed]",
      "text/plain": [
       "<matplotlib.figure.Figure at 0x7f5231d09c50>"
      ]
     },
     "metadata": {},
     "output_type": "display_data"
    }
   ],
   "source": [
    "fig, axis = plt.subplots(1, 1, figsize=(20,18))\n",
    "sns.countplot(y='location', data=combined_df, ax=axis, order=combined_df.location.value_counts().index)"
   ]
  },
  {
   "cell_type": "markdown",
   "metadata": {},
   "source": [
    "### Family History of Mental Illness"
   ]
  },
  {
   "cell_type": "code",
   "execution_count": 59,
   "metadata": {
    "collapsed": true
   },
   "outputs": [],
   "source": [
    "# Relabel\n",
    "combined_df.loc[(combined_df.family_history == 'No'), 'family_history'] = -1\n",
    "combined_df.loc[(combined_df.family_history == 'I don\\'t know'), 'family_history'] = 0\n",
    "combined_df.loc[(combined_df.family_history == 'Yes'), 'family_history'] = 1"
   ]
  },
  {
   "cell_type": "code",
   "execution_count": 60,
   "metadata": {},
   "outputs": [
    {
     "data": {
      "text/plain": [
       "<matplotlib.axes._subplots.AxesSubplot at 0x7f5232de9860>"
      ]
     },
     "execution_count": 60,
     "metadata": {},
     "output_type": "execute_result"
    },
    {
     "data": {
      "image/png": "[encoded data removed]",
      "text/plain": [
       "<matplotlib.figure.Figure at 0x7f5231bf0da0>"
      ]
     },
     "metadata": {},
     "output_type": "display_data"
    }
   ],
   "source": [
    "# plot counts\n",
    "fig, (ax1, ax2) = plt.subplots(1, 2, figsize=(16,6))\n",
    "sns.countplot(x='family_history', data=combined_df, ax=ax1, order=combined_df.family_history.value_counts().index)\n",
    "sns.barplot(x='family_history', y='stigma', data=combined_df, ax=ax2, order=combined_df.family_history.value_counts().index)"
   ]
  },
  {
   "cell_type": "markdown",
   "metadata": {},
   "source": [
    "### Sought Treatment"
   ]
  },
  {
   "cell_type": "code",
   "execution_count": 61,
   "metadata": {
    "collapsed": true
   },
   "outputs": [],
   "source": [
    "# Relabel yes = 1, no = 0\n",
    "combined_df.loc[(combined_df.treatment == 'No') | (combined_df.treatment == 0), 'treatment'] = -1\n",
    "combined_df.loc[(combined_df.treatment == 'Yes'), 'treatment'] = 1"
   ]
  },
  {
   "cell_type": "code",
   "execution_count": 62,
   "metadata": {},
   "outputs": [
    {
     "data": {
      "text/plain": [
       "<matplotlib.axes._subplots.AxesSubplot at 0x7f5231117f28>"
      ]
     },
     "execution_count": 62,
     "metadata": {},
     "output_type": "execute_result"
    },
    {
     "data": {
      "image/png": "[encoded data removed]",
      "text/plain": [
       "<matplotlib.figure.Figure at 0x7f5231c203c8>"
      ]
     },
     "metadata": {},
     "output_type": "display_data"
    }
   ],
   "source": [
    "# plot counts\n",
    "fig, (ax1, ax2) = plt.subplots(1, 2, figsize=(16,6))\n",
    "sns.countplot(x='treatment', data=combined_df, ax=ax1, order=combined_df.treatment.value_counts().index)\n",
    "sns.barplot(x='treatment', y='stigma', data=combined_df, ax=ax2, order=combined_df.treatment.value_counts().index)"
   ]
  },
  {
   "cell_type": "markdown",
   "metadata": {},
   "source": [
    "### Interferes With Work"
   ]
  },
  {
   "cell_type": "code",
   "execution_count": 63,
   "metadata": {
    "collapsed": true
   },
   "outputs": [],
   "source": [
    "# Lump 'Not applicable to me' with NaN\n",
    "combined_df.loc[combined_df.work_interfere == 'Not applicable to me', 'work_interfere'] = np.nan"
   ]
  },
  {
   "cell_type": "code",
   "execution_count": 64,
   "metadata": {
    "collapsed": true
   },
   "outputs": [],
   "source": [
    "# According to OSMI Survey: \n",
    "# 'This survey is for everyone working in tech, not just those who have a mental health issue.'\n",
    "# Assumption: IF work_interfere == N/A THEN treatment == 0 AND has_illness = 0\n",
    "combined_df.loc[(combined_df.work_interfere.isnull()), 'treatment'] = 0"
   ]
  },
  {
   "cell_type": "code",
   "execution_count": 65,
   "metadata": {
    "collapsed": true
   },
   "outputs": [],
   "source": [
    "# One-Hot Encode\n",
    "work_int_dummies = pd.get_dummies(combined_df.work_interfere.str.lower(),\n",
    "                                  prefix='wint', dummy_na=True, drop_first=True)\n",
    "combined_df = combined_df.join(work_int_dummies)"
   ]
  },
  {
   "cell_type": "markdown",
   "metadata": {},
   "source": [
    "### Number of Employees"
   ]
  },
  {
   "cell_type": "code",
   "execution_count": 66,
   "metadata": {
    "collapsed": true
   },
   "outputs": [],
   "source": [
    "# Convert num_employees into new features: sm_comp, med_comp, lg_comp\n",
    "num_emp_map = {'1-5': 'sm', '6-25': 'sm', '26-100': 'sm',\n",
    "               '100-500': 'med', '500-1000': 'med', 'More than 1000': 'lg'}\n",
    "combined_df['company_size'] = combined_df.num_employees.map(num_emp_map)"
   ]
  },
  {
   "cell_type": "code",
   "execution_count": 67,
   "metadata": {
    "collapsed": true
   },
   "outputs": [],
   "source": [
    "# One-Hot Encode\n",
    "comp_size_dummies = pd.get_dummies(combined_df.company_size, prefix='comp', drop_first=True)\n",
    "combined_df = combined_df.join(comp_size_dummies)"
   ]
  },
  {
   "cell_type": "code",
   "execution_count": 68,
   "metadata": {},
   "outputs": [
    {
     "data": {
      "text/plain": [
       "<matplotlib.axes._subplots.AxesSubplot at 0x7f523100d978>"
      ]
     },
     "execution_count": 68,
     "metadata": {},
     "output_type": "execute_result"
    },
    {
     "data": {
      "image/png": "[encoded data removed]",
      "text/plain": [
       "<matplotlib.figure.Figure at 0x7f52311428d0>"
      ]
     },
     "metadata": {},
     "output_type": "display_data"
    }
   ],
   "source": [
    "# plot counts\n",
    "fig, (ax1, ax2) = plt.subplots(1, 2, figsize=(16,6))\n",
    "sns.countplot(x='num_employees', data=combined_df, ax=ax1)\n",
    "sns.barplot(x='num_employees', y='stigma', data=combined_df, ax=ax2)"
   ]
  },
  {
   "cell_type": "markdown",
   "metadata": {},
   "source": [
    "### Work Remotely"
   ]
  },
  {
   "cell_type": "code",
   "execution_count": 69,
   "metadata": {
    "collapsed": true
   },
   "outputs": [],
   "source": [
    "combined_df.loc[(combined_df.remote == 'No') | (combined_df.remote == 'Never'), 'remote'] = -1\n",
    "combined_df.loc[(combined_df.remote == 'Sometimes'), 'remote'] = 0\n",
    "combined_df.loc[(combined_df.remote == 'Yes') | (combined_df.remote == 'Always'), 'remote'] = 1"
   ]
  },
  {
   "cell_type": "code",
   "execution_count": 70,
   "metadata": {},
   "outputs": [
    {
     "data": {
      "text/plain": [
       "<matplotlib.axes._subplots.AxesSubplot at 0x7f5230ec64e0>"
      ]
     },
     "execution_count": 70,
     "metadata": {},
     "output_type": "execute_result"
    },
    {
     "data": {
      "image/png": "[encoded data removed]",
      "text/plain": [
       "<matplotlib.figure.Figure at 0x7f5230f64f98>"
      ]
     },
     "metadata": {},
     "output_type": "display_data"
    }
   ],
   "source": [
    "# plot counts\n",
    "fig, (ax1, ax2) = plt.subplots(1, 2, figsize=(16,6))\n",
    "sns.countplot(x='remote', data=combined_df, ax=ax1)\n",
    "sns.barplot(x='remote', y='stigma', data=combined_df, ax=ax2)"
   ]
  },
  {
   "cell_type": "markdown",
   "metadata": {},
   "source": [
    "### Tech Company"
   ]
  },
  {
   "cell_type": "code",
   "execution_count": 71,
   "metadata": {
    "collapsed": true
   },
   "outputs": [],
   "source": [
    "combined_df.loc[(combined_df.tech_comp == 'No') | (combined_df.tech_comp == 0), 'tech_comp'] = -1\n",
    "combined_df.loc[(combined_df.tech_comp == 'Yes'), 'tech_comp'] = 1"
   ]
  },
  {
   "cell_type": "code",
   "execution_count": 72,
   "metadata": {},
   "outputs": [
    {
     "data": {
      "text/plain": [
       "<matplotlib.axes._subplots.AxesSubplot at 0x7f5230dc04e0>"
      ]
     },
     "execution_count": 72,
     "metadata": {},
     "output_type": "execute_result"
    },
    {
     "data": {
      "image/png": "[encoded data removed]",
      "text/plain": [
       "<matplotlib.figure.Figure at 0x7f5230e542b0>"
      ]
     },
     "metadata": {},
     "output_type": "display_data"
    }
   ],
   "source": [
    "# plot counts\n",
    "fig, (ax1, ax2) = plt.subplots(1, 2, figsize=(16,6))\n",
    "sns.countplot(x='tech_comp', data=combined_df, ax=ax1)\n",
    "sns.barplot(x='tech_comp', y='stigma', data=combined_df, ax=ax2)"
   ]
  },
  {
   "cell_type": "markdown",
   "metadata": {},
   "source": [
    "### Benefits"
   ]
  },
  {
   "cell_type": "code",
   "execution_count": 73,
   "metadata": {
    "collapsed": true
   },
   "outputs": [],
   "source": [
    "combined_df.loc[(combined_df.benefits == 'No') | (\n",
    "    combined_df.benefits == 'Not eligible for coverage / N/A'), 'benefits'] = -1\n",
    "combined_df.loc[(combined_df.benefits == 'I don\\'t know') | (\n",
    "    combined_df.benefits == 'Don\\'t know'), 'benefits'] = 0\n",
    "combined_df.loc[(combined_df.benefits == 'Yes'), 'benefits'] = 1"
   ]
  },
  {
   "cell_type": "code",
   "execution_count": 74,
   "metadata": {},
   "outputs": [
    {
     "data": {
      "text/plain": [
       "<matplotlib.axes._subplots.AxesSubplot at 0x7f5230ca9b70>"
      ]
     },
     "execution_count": 74,
     "metadata": {},
     "output_type": "execute_result"
    },
    {
     "data": {
      "image/png": "[encoded data removed]",
      "text/plain": [
       "<matplotlib.figure.Figure at 0x7f5230d434a8>"
      ]
     },
     "metadata": {},
     "output_type": "display_data"
    }
   ],
   "source": [
    "# plot counts\n",
    "fig, (ax1, ax2) = plt.subplots(1, 2, figsize=(16,6))\n",
    "sns.countplot(x='benefits', data=combined_df, ax=ax1)\n",
    "sns.barplot(x='benefits', y='stigma', data=combined_df, ax=ax2)"
   ]
  },
  {
   "cell_type": "markdown",
   "metadata": {},
   "source": [
    "### Anonymity"
   ]
  },
  {
   "cell_type": "code",
   "execution_count": 75,
   "metadata": {
    "collapsed": true
   },
   "outputs": [],
   "source": [
    "combined_df.loc[(combined_df.anon == 'No'), 'anon'] = -1\n",
    "combined_df.loc[(combined_df.anon == 'I don\\'t know') | (\n",
    "    combined_df.anon == 'Don\\'t know'), 'anon'] = 0\n",
    "combined_df.loc[(combined_df.anon == 'Yes'), 'anon'] = 1"
   ]
  },
  {
   "cell_type": "code",
   "execution_count": 76,
   "metadata": {},
   "outputs": [
    {
     "data": {
      "text/plain": [
       "<matplotlib.axes._subplots.AxesSubplot at 0x7f522dc2ab00>"
      ]
     },
     "execution_count": 76,
     "metadata": {},
     "output_type": "execute_result"
    },
    {
     "data": {
      "image/png": "[encoded data removed]",
      "text/plain": [
       "<matplotlib.figure.Figure at 0x7f522dcb83c8>"
      ]
     },
     "metadata": {},
     "output_type": "display_data"
    }
   ],
   "source": [
    "# plot counts\n",
    "fig, (ax1, ax2) = plt.subplots(1, 2, figsize=(16,6))\n",
    "sns.countplot(x='anon', data=combined_df, ax=ax1)\n",
    "sns.barplot(x='anon', y='stigma', data=combined_df, ax=ax2)"
   ]
  },
  {
   "cell_type": "markdown",
   "metadata": {},
   "source": [
    "### Medical Leave"
   ]
  },
  {
   "cell_type": "code",
   "execution_count": 77,
   "metadata": {
    "collapsed": true
   },
   "outputs": [],
   "source": [
    "# Relabel\n",
    "combined_df.loc[(combined_df.med_leave == 'I don\\'t know') | (\n",
    "    combined_df.med_leave == 'Don\\'t know'), 'med_leave'] = 'unknown'\n",
    "combined_df.loc[(combined_df.med_leave == 'Very easy'), 'med_leave'] = 'hi_easy'\n",
    "combined_df.loc[(combined_df.med_leave == 'Somewhat easy'), 'med_leave'] = 'lo_easy'\n",
    "combined_df.loc[(combined_df.med_leave == 'Neither easy nor difficult'), 'med_leave'] = 'med'\n",
    "combined_df.loc[(combined_df.med_leave == 'Somewhat difficult'), 'med_leave'] = 'lo_hard'\n",
    "combined_df.loc[(combined_df.med_leave == 'Very difficult'), 'med_leave'] = 'hi_hard'"
   ]
  },
  {
   "cell_type": "code",
   "execution_count": 78,
   "metadata": {
    "collapsed": true
   },
   "outputs": [],
   "source": [
    "# One-Hot Encode\n",
    "med_leave_dummies = pd.get_dummies(combined_df.med_leave, prefix='mleave', drop_first=True)\n",
    "combined_df = combined_df.join(med_leave_dummies)"
   ]
  },
  {
   "cell_type": "code",
   "execution_count": 79,
   "metadata": {},
   "outputs": [
    {
     "data": {
      "text/plain": [
       "<matplotlib.axes._subplots.AxesSubplot at 0x7f522db2c2e8>"
      ]
     },
     "execution_count": 79,
     "metadata": {},
     "output_type": "execute_result"
    },
    {
     "data": {
      "image/png": "[encoded data removed]",
      "text/plain": [
       "<matplotlib.figure.Figure at 0x7f522dbb0048>"
      ]
     },
     "metadata": {},
     "output_type": "display_data"
    }
   ],
   "source": [
    "# plot counts\n",
    "fig, (ax1, ax2) = plt.subplots(1, 2, figsize=(16,6))\n",
    "sns.countplot(x='med_leave', data=combined_df, ax=ax1)\n",
    "sns.barplot(x='med_leave', y='stigma', data=combined_df, ax=ax2)"
   ]
  },
  {
   "cell_type": "markdown",
   "metadata": {},
   "source": [
    "### Observed Others Receiving Negative Consequences"
   ]
  },
  {
   "cell_type": "code",
   "execution_count": 80,
   "metadata": {
    "collapsed": true
   },
   "outputs": [],
   "source": [
    "combined_df.loc[(combined_df.obs_conseq == 'No') | (combined_df.obs_conseq == 0), 'obs_conseq'] = -1\n",
    "combined_df.loc[(combined_df.obs_conseq == 'Yes'), 'obs_conseq'] = 1"
   ]
  },
  {
   "cell_type": "code",
   "execution_count": 81,
   "metadata": {},
   "outputs": [
    {
     "data": {
      "text/plain": [
       "<matplotlib.axes._subplots.AxesSubplot at 0x7f522d98c898>"
      ]
     },
     "execution_count": 81,
     "metadata": {},
     "output_type": "execute_result"
    },
    {
     "data": {
      "image/png": "[encoded data removed]",
      "text/plain": [
       "<matplotlib.figure.Figure at 0x7f522da43278>"
      ]
     },
     "metadata": {},
     "output_type": "display_data"
    }
   ],
   "source": [
    "# plot counts\n",
    "fig, (ax1, ax2) = plt.subplots(1, 2, figsize=(16,6))\n",
    "sns.countplot(x='obs_conseq', data=combined_df, ax=ax1)\n",
    "sns.barplot(x='obs_conseq', y='stigma', data=combined_df, ax=ax2)"
   ]
  },
  {
   "cell_type": "markdown",
   "metadata": {},
   "source": [
    "### Continent"
   ]
  },
  {
   "cell_type": "code",
   "execution_count": 82,
   "metadata": {
    "collapsed": true
   },
   "outputs": [],
   "source": [
    "# get country to continent mapping and add as new feature\n",
    "geo_cc = pd.Series(geo_divs.set_index('country').continent)\n",
    "continent = combined_df.country_live.map(geo_cc)\n",
    "combined_df['continent'] = continent"
   ]
  },
  {
   "cell_type": "code",
   "execution_count": 83,
   "metadata": {
    "collapsed": true
   },
   "outputs": [],
   "source": [
    "# One-Hot Encode\n",
    "continent_dummies = pd.get_dummies(combined_df.continent.str.lower(), drop_first=True)\n",
    "combined_df = combined_df.join(continent_dummies)"
   ]
  },
  {
   "cell_type": "code",
   "execution_count": 84,
   "metadata": {},
   "outputs": [
    {
     "data": {
      "text/plain": [
       "<matplotlib.axes._subplots.AxesSubplot at 0x7f522d83d160>"
      ]
     },
     "execution_count": 84,
     "metadata": {},
     "output_type": "execute_result"
    },
    {
     "data": {
      "image/png": "[encoded data removed]",
      "text/plain": [
       "<matplotlib.figure.Figure at 0x7f522d913e80>"
      ]
     },
     "metadata": {},
     "output_type": "display_data"
    }
   ],
   "source": [
    "# plot counts\n",
    "fig, (ax1, ax2) = plt.subplots(1, 2, figsize=(16,6))\n",
    "sns.countplot(x='continent', data=combined_df, ax=ax1)\n",
    "sns.barplot(x='continent', y='stigma', data=combined_df, ax=ax2)"
   ]
  },
  {
   "cell_type": "code",
   "execution_count": 85,
   "metadata": {
    "scrolled": true
   },
   "outputs": [
    {
     "data": {
      "text/html": [
       "<div>\n",
       "<style>\n",
       "    .dataframe thead tr:only-child th {\n",
       "        text-align: right;\n",
       "    }\n",
       "\n",
       "    .dataframe thead th {\n",
       "        text-align: left;\n",
       "    }\n",
       "\n",
       "    .dataframe tbody tr th {\n",
       "        vertical-align: top;\n",
       "    }\n",
       "</style>\n",
       "<table border=\"1\" class=\"dataframe\">\n",
       "  <thead>\n",
       "    <tr style=\"text-align: right;\">\n",
       "      <th></th>\n",
       "      <th>date_submit</th>\n",
       "      <th>age</th>\n",
       "      <th>gender</th>\n",
       "      <th>country_live</th>\n",
       "      <th>state_live</th>\n",
       "      <th>family_history</th>\n",
       "      <th>treatment</th>\n",
       "      <th>work_interfere</th>\n",
       "      <th>num_employees</th>\n",
       "      <th>remote</th>\n",
       "      <th>tech_comp</th>\n",
       "      <th>benefits</th>\n",
       "      <th>care_options</th>\n",
       "      <th>wellness_program</th>\n",
       "      <th>emp_help</th>\n",
       "      <th>anon</th>\n",
       "      <th>med_leave</th>\n",
       "      <th>ment_conseq</th>\n",
       "      <th>phys_conseq</th>\n",
       "      <th>coworkers</th>\n",
       "      <th>supervisors</th>\n",
       "      <th>ment_interv</th>\n",
       "      <th>phys_interv</th>\n",
       "      <th>ment_vs_phys</th>\n",
       "      <th>obs_conseq</th>\n",
       "      <th>stigma</th>\n",
       "      <th>resource_promo</th>\n",
       "      <th>phys_ment</th>\n",
       "      <th>year</th>\n",
       "      <th>month</th>\n",
       "      <th>week_day</th>\n",
       "      <th>hour</th>\n",
       "      <th>location</th>\n",
       "      <th>wint_often</th>\n",
       "      <th>wint_rarely</th>\n",
       "      <th>wint_sometimes</th>\n",
       "      <th>wint_nan</th>\n",
       "      <th>company_size</th>\n",
       "      <th>comp_med</th>\n",
       "      <th>comp_sm</th>\n",
       "      <th>mleave_hi_hard</th>\n",
       "      <th>mleave_lo_easy</th>\n",
       "      <th>mleave_lo_hard</th>\n",
       "      <th>mleave_med</th>\n",
       "      <th>mleave_unknown</th>\n",
       "      <th>continent</th>\n",
       "      <th>asia</th>\n",
       "      <th>europe</th>\n",
       "      <th>north_america</th>\n",
       "      <th>oceania</th>\n",
       "      <th>south_america</th>\n",
       "    </tr>\n",
       "  </thead>\n",
       "  <tbody>\n",
       "    <tr>\n",
       "      <th>0</th>\n",
       "      <td>2014-08-27 11:29:31</td>\n",
       "      <td>37</td>\n",
       "      <td>1</td>\n",
       "      <td>United States</td>\n",
       "      <td>Illinois</td>\n",
       "      <td>-1</td>\n",
       "      <td>1</td>\n",
       "      <td>Often</td>\n",
       "      <td>6-25</td>\n",
       "      <td>-1</td>\n",
       "      <td>1</td>\n",
       "      <td>1</td>\n",
       "      <td>0</td>\n",
       "      <td>-1</td>\n",
       "      <td>1</td>\n",
       "      <td>1</td>\n",
       "      <td>lo_easy</td>\n",
       "      <td>-1</td>\n",
       "      <td>-1</td>\n",
       "      <td>0</td>\n",
       "      <td>1</td>\n",
       "      <td>-1</td>\n",
       "      <td>0</td>\n",
       "      <td>1</td>\n",
       "      <td>-1</td>\n",
       "      <td>0.25</td>\n",
       "      <td>0</td>\n",
       "      <td>0.4</td>\n",
       "      <td>2014</td>\n",
       "      <td>8</td>\n",
       "      <td>2</td>\n",
       "      <td>11</td>\n",
       "      <td>Illinois</td>\n",
       "      <td>1</td>\n",
       "      <td>0</td>\n",
       "      <td>0</td>\n",
       "      <td>0</td>\n",
       "      <td>sm</td>\n",
       "      <td>0</td>\n",
       "      <td>1</td>\n",
       "      <td>0</td>\n",
       "      <td>1</td>\n",
       "      <td>0</td>\n",
       "      <td>0</td>\n",
       "      <td>0</td>\n",
       "      <td>North_America</td>\n",
       "      <td>0</td>\n",
       "      <td>0</td>\n",
       "      <td>1</td>\n",
       "      <td>0</td>\n",
       "      <td>0</td>\n",
       "    </tr>\n",
       "    <tr>\n",
       "      <th>1</th>\n",
       "      <td>2014-08-27 11:29:37</td>\n",
       "      <td>44</td>\n",
       "      <td>-1</td>\n",
       "      <td>United States</td>\n",
       "      <td>Indiana</td>\n",
       "      <td>-1</td>\n",
       "      <td>-1</td>\n",
       "      <td>Rarely</td>\n",
       "      <td>More than 1000</td>\n",
       "      <td>-1</td>\n",
       "      <td>-1</td>\n",
       "      <td>0</td>\n",
       "      <td>-1</td>\n",
       "      <td>0</td>\n",
       "      <td>0</td>\n",
       "      <td>0</td>\n",
       "      <td>unknown</td>\n",
       "      <td>0</td>\n",
       "      <td>-1</td>\n",
       "      <td>-1</td>\n",
       "      <td>-1</td>\n",
       "      <td>-1</td>\n",
       "      <td>-1</td>\n",
       "      <td>0</td>\n",
       "      <td>-1</td>\n",
       "      <td>-0.75</td>\n",
       "      <td>-0.333333</td>\n",
       "      <td>0.2</td>\n",
       "      <td>2014</td>\n",
       "      <td>8</td>\n",
       "      <td>2</td>\n",
       "      <td>11</td>\n",
       "      <td>Indiana</td>\n",
       "      <td>0</td>\n",
       "      <td>1</td>\n",
       "      <td>0</td>\n",
       "      <td>0</td>\n",
       "      <td>lg</td>\n",
       "      <td>0</td>\n",
       "      <td>0</td>\n",
       "      <td>0</td>\n",
       "      <td>0</td>\n",
       "      <td>0</td>\n",
       "      <td>0</td>\n",
       "      <td>1</td>\n",
       "      <td>North_America</td>\n",
       "      <td>0</td>\n",
       "      <td>0</td>\n",
       "      <td>1</td>\n",
       "      <td>0</td>\n",
       "      <td>0</td>\n",
       "    </tr>\n",
       "    <tr>\n",
       "      <th>2</th>\n",
       "      <td>2014-08-27 11:29:44</td>\n",
       "      <td>32</td>\n",
       "      <td>-1</td>\n",
       "      <td>Canada</td>\n",
       "      <td>NaN</td>\n",
       "      <td>-1</td>\n",
       "      <td>-1</td>\n",
       "      <td>Rarely</td>\n",
       "      <td>6-25</td>\n",
       "      <td>-1</td>\n",
       "      <td>1</td>\n",
       "      <td>-1</td>\n",
       "      <td>-1</td>\n",
       "      <td>-1</td>\n",
       "      <td>-1</td>\n",
       "      <td>0</td>\n",
       "      <td>lo_hard</td>\n",
       "      <td>-1</td>\n",
       "      <td>-1</td>\n",
       "      <td>1</td>\n",
       "      <td>1</td>\n",
       "      <td>1</td>\n",
       "      <td>1</td>\n",
       "      <td>-1</td>\n",
       "      <td>-1</td>\n",
       "      <td>1</td>\n",
       "      <td>-1</td>\n",
       "      <td>-0.2</td>\n",
       "      <td>2014</td>\n",
       "      <td>8</td>\n",
       "      <td>2</td>\n",
       "      <td>11</td>\n",
       "      <td>Canada</td>\n",
       "      <td>0</td>\n",
       "      <td>1</td>\n",
       "      <td>0</td>\n",
       "      <td>0</td>\n",
       "      <td>sm</td>\n",
       "      <td>0</td>\n",
       "      <td>1</td>\n",
       "      <td>0</td>\n",
       "      <td>0</td>\n",
       "      <td>1</td>\n",
       "      <td>0</td>\n",
       "      <td>0</td>\n",
       "      <td>North_America</td>\n",
       "      <td>0</td>\n",
       "      <td>0</td>\n",
       "      <td>1</td>\n",
       "      <td>0</td>\n",
       "      <td>0</td>\n",
       "    </tr>\n",
       "    <tr>\n",
       "      <th>3</th>\n",
       "      <td>2014-08-27 11:29:46</td>\n",
       "      <td>31</td>\n",
       "      <td>-1</td>\n",
       "      <td>United Kingdom</td>\n",
       "      <td>NaN</td>\n",
       "      <td>1</td>\n",
       "      <td>1</td>\n",
       "      <td>Often</td>\n",
       "      <td>26-100</td>\n",
       "      <td>-1</td>\n",
       "      <td>1</td>\n",
       "      <td>-1</td>\n",
       "      <td>1</td>\n",
       "      <td>-1</td>\n",
       "      <td>-1</td>\n",
       "      <td>-1</td>\n",
       "      <td>lo_hard</td>\n",
       "      <td>1</td>\n",
       "      <td>1</td>\n",
       "      <td>0</td>\n",
       "      <td>-1</td>\n",
       "      <td>0</td>\n",
       "      <td>0</td>\n",
       "      <td>-1</td>\n",
       "      <td>1</td>\n",
       "      <td>-0.5</td>\n",
       "      <td>-0.333333</td>\n",
       "      <td>-0.2</td>\n",
       "      <td>2014</td>\n",
       "      <td>8</td>\n",
       "      <td>2</td>\n",
       "      <td>11</td>\n",
       "      <td>United Kingdom</td>\n",
       "      <td>1</td>\n",
       "      <td>0</td>\n",
       "      <td>0</td>\n",
       "      <td>0</td>\n",
       "      <td>sm</td>\n",
       "      <td>0</td>\n",
       "      <td>1</td>\n",
       "      <td>0</td>\n",
       "      <td>0</td>\n",
       "      <td>1</td>\n",
       "      <td>0</td>\n",
       "      <td>0</td>\n",
       "      <td>Europe</td>\n",
       "      <td>0</td>\n",
       "      <td>1</td>\n",
       "      <td>0</td>\n",
       "      <td>0</td>\n",
       "      <td>0</td>\n",
       "    </tr>\n",
       "    <tr>\n",
       "      <th>4</th>\n",
       "      <td>2014-08-27 11:30:22</td>\n",
       "      <td>31</td>\n",
       "      <td>-1</td>\n",
       "      <td>United States</td>\n",
       "      <td>Texas</td>\n",
       "      <td>-1</td>\n",
       "      <td>-1</td>\n",
       "      <td>Never</td>\n",
       "      <td>100-500</td>\n",
       "      <td>1</td>\n",
       "      <td>1</td>\n",
       "      <td>1</td>\n",
       "      <td>-1</td>\n",
       "      <td>0</td>\n",
       "      <td>0</td>\n",
       "      <td>0</td>\n",
       "      <td>unknown</td>\n",
       "      <td>-1</td>\n",
       "      <td>-1</td>\n",
       "      <td>0</td>\n",
       "      <td>1</td>\n",
       "      <td>1</td>\n",
       "      <td>1</td>\n",
       "      <td>0</td>\n",
       "      <td>-1</td>\n",
       "      <td>0.75</td>\n",
       "      <td>-0.333333</td>\n",
       "      <td>0</td>\n",
       "      <td>2014</td>\n",
       "      <td>8</td>\n",
       "      <td>2</td>\n",
       "      <td>11</td>\n",
       "      <td>Texas</td>\n",
       "      <td>0</td>\n",
       "      <td>0</td>\n",
       "      <td>0</td>\n",
       "      <td>0</td>\n",
       "      <td>med</td>\n",
       "      <td>1</td>\n",
       "      <td>0</td>\n",
       "      <td>0</td>\n",
       "      <td>0</td>\n",
       "      <td>0</td>\n",
       "      <td>0</td>\n",
       "      <td>1</td>\n",
       "      <td>North_America</td>\n",
       "      <td>0</td>\n",
       "      <td>0</td>\n",
       "      <td>1</td>\n",
       "      <td>0</td>\n",
       "      <td>0</td>\n",
       "    </tr>\n",
       "  </tbody>\n",
       "</table>\n",
       "</div>"
      ],
      "text/plain": [
       "          date_submit  age gender    country_live state_live family_history  \\\n",
       "0 2014-08-27 11:29:31   37      1   United States   Illinois             -1   \n",
       "1 2014-08-27 11:29:37   44     -1   United States    Indiana             -1   \n",
       "2 2014-08-27 11:29:44   32     -1          Canada        NaN             -1   \n",
       "3 2014-08-27 11:29:46   31     -1  United Kingdom        NaN              1   \n",
       "4 2014-08-27 11:30:22   31     -1   United States      Texas             -1   \n",
       "\n",
       "  treatment work_interfere   num_employees remote tech_comp benefits  \\\n",
       "0         1          Often            6-25     -1         1        1   \n",
       "1        -1         Rarely  More than 1000     -1        -1        0   \n",
       "2        -1         Rarely            6-25     -1         1       -1   \n",
       "3         1          Often          26-100     -1         1       -1   \n",
       "4        -1          Never         100-500      1         1        1   \n",
       "\n",
       "  care_options wellness_program emp_help anon med_leave ment_conseq  \\\n",
       "0            0               -1        1    1   lo_easy          -1   \n",
       "1           -1                0        0    0   unknown           0   \n",
       "2           -1               -1       -1    0   lo_hard          -1   \n",
       "3            1               -1       -1   -1   lo_hard           1   \n",
       "4           -1                0        0    0   unknown          -1   \n",
       "\n",
       "  phys_conseq coworkers supervisors ment_interv phys_interv ment_vs_phys  \\\n",
       "0          -1         0           1          -1           0            1   \n",
       "1          -1        -1          -1          -1          -1            0   \n",
       "2          -1         1           1           1           1           -1   \n",
       "3           1         0          -1           0           0           -1   \n",
       "4          -1         0           1           1           1            0   \n",
       "\n",
       "  obs_conseq stigma resource_promo phys_ment  year  month  week_day  hour  \\\n",
       "0         -1   0.25              0       0.4  2014      8         2    11   \n",
       "1         -1  -0.75      -0.333333       0.2  2014      8         2    11   \n",
       "2         -1      1             -1      -0.2  2014      8         2    11   \n",
       "3          1   -0.5      -0.333333      -0.2  2014      8         2    11   \n",
       "4         -1   0.75      -0.333333         0  2014      8         2    11   \n",
       "\n",
       "         location  wint_often  wint_rarely  wint_sometimes  wint_nan  \\\n",
       "0        Illinois           1            0               0         0   \n",
       "1         Indiana           0            1               0         0   \n",
       "2          Canada           0            1               0         0   \n",
       "3  United Kingdom           1            0               0         0   \n",
       "4           Texas           0            0               0         0   \n",
       "\n",
       "  company_size  comp_med  comp_sm  mleave_hi_hard  mleave_lo_easy  \\\n",
       "0           sm         0        1               0               1   \n",
       "1           lg         0        0               0               0   \n",
       "2           sm         0        1               0               0   \n",
       "3           sm         0        1               0               0   \n",
       "4          med         1        0               0               0   \n",
       "\n",
       "   mleave_lo_hard  mleave_med  mleave_unknown      continent  asia  europe  \\\n",
       "0               0           0               0  North_America     0       0   \n",
       "1               0           0               1  North_America     0       0   \n",
       "2               1           0               0  North_America     0       0   \n",
       "3               1           0               0         Europe     0       1   \n",
       "4               0           0               1  North_America     0       0   \n",
       "\n",
       "   north_america  oceania  south_america  \n",
       "0              1        0              0  \n",
       "1              1        0              0  \n",
       "2              1        0              0  \n",
       "3              0        0              0  \n",
       "4              1        0              0  "
      ]
     },
     "execution_count": 85,
     "metadata": {},
     "output_type": "execute_result"
    }
   ],
   "source": [
    "combined_df.head()"
   ]
  },
  {
   "cell_type": "markdown",
   "metadata": {
    "collapsed": true
   },
   "source": [
    "### Clean States Human Development Index (HDI)"
   ]
  },
  {
   "cell_type": "code",
   "execution_count": 86,
   "metadata": {},
   "outputs": [],
   "source": [
    "df_statesHDI = df_statesHDI[(df_statesHDI.Gender == 'ALL') &\\\n",
    "             (df_statesHDI['Race/Ethnicity'] == 'ALL') &\\\n",
    "             (df_statesHDI.Year == 2010) &\\\n",
    "             (df_statesHDI.State != 'UNITED STATES')]"
   ]
  },
  {
   "cell_type": "code",
   "execution_count": 87,
   "metadata": {
    "collapsed": true
   },
   "outputs": [],
   "source": [
    "df_statesHDI = df_statesHDI[['State', 'HD \\nIndex']]\n",
    "df_statesHDI.columns = ['state', 'hdi']"
   ]
  },
  {
   "cell_type": "code",
   "execution_count": 88,
   "metadata": {},
   "outputs": [],
   "source": [
    "df_statesHDI.hdi = df_statesHDI.hdi.astype(float) * 0.910 / 5.03"
   ]
  },
  {
   "cell_type": "code",
   "execution_count": 89,
   "metadata": {
    "scrolled": false
   },
   "outputs": [],
   "source": [
    "dict_states = dict(zip(df_statesHDI.state,df_statesHDI.hdi))\n",
    "combined_df['hdi'] = combined_df['location'].replace(dict_states)"
   ]
  },
  {
   "cell_type": "markdown",
   "metadata": {},
   "source": [
    "### Clean Country HDI"
   ]
  },
  {
   "cell_type": "code",
   "execution_count": 90,
   "metadata": {
    "scrolled": true
   },
   "outputs": [],
   "source": [
    "df_countryHDI.drop(['2010', '2011', '2012', '2013', '2014'], axis=1, inplace=True)"
   ]
  },
  {
   "cell_type": "code",
   "execution_count": 91,
   "metadata": {},
   "outputs": [],
   "source": [
    "country_relabel =['country', 'hdi']\n",
    "df_countryHDI.columns = country_relabel\n",
    "df_countryHDI['country'] = df_countryHDI['country'].str.strip()"
   ]
  },
  {
   "cell_type": "code",
   "execution_count": 93,
   "metadata": {},
   "outputs": [],
   "source": [
    "dict_country = dict(zip(df_countryHDI.country, df_countryHDI.hdi))\n",
    "combined_df['hdi']  = combined_df['hdi'].replace(dict_country)"
   ]
  },
  {
   "cell_type": "code",
   "execution_count": 94,
   "metadata": {},
   "outputs": [],
   "source": [
    "combined_df.hdi = combined_df.hdi.astype(float)"
   ]
  },
  {
   "cell_type": "code",
   "execution_count": null,
   "metadata": {
    "collapsed": true
   },
   "outputs": [],
   "source": []
  }
 ],
 "metadata": {
  "kernelspec": {
   "display_name": "Python 3",
   "language": "python",
   "name": "python3"
  },
  "language_info": {
   "codemirror_mode": {
    "name": "ipython",
    "version": 3
   },
   "file_extension": ".py",
   "mimetype": "text/x-python",
   "name": "python",
   "nbconvert_exporter": "python",
   "pygments_lexer": "ipython3",
   "version": "3.6.1"
  }
 },
 "nbformat": 4,
 "nbformat_minor": 2
}
