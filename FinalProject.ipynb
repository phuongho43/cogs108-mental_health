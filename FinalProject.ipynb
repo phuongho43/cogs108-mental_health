{
 "cells": [
  {
   "cell_type": "markdown",
   "metadata": {},
   "source": [
    "# Group 64: A Deep Look Into Mental Health Stigma in the Tech Workplace\n",
    "<hr>"
   ]
  },
  {
   "cell_type": "code",
   "execution_count": 1,
   "metadata": {
    "collapsed": true
   },
   "outputs": [],
   "source": [
    "# Data wrangling and analysis\n",
    "import numpy as np\n",
    "import pandas as pd\n",
    "pd.set_option('display.max_columns', None)\n",
    "\n",
    "# Data visualization\n",
    "import matplotlib.pyplot as plt\n",
    "import seaborn as sns\n",
    "%matplotlib inline\n",
    "sns.set_style('whitegrid')\n",
    "\n",
    "# Data modeling\n",
    "from textblob import TextBlob\n",
    "from sklearn.linear_model import LogisticRegression\n",
    "from sklearn.svm import SVC, LinearSVC\n",
    "from sklearn.ensemble import RandomForestClassifier\n",
    "from sklearn.neighbors import KNeighborsClassifier\n",
    "from sklearn.naive_bayes import GaussianNB"
   ]
  },
  {
   "cell_type": "markdown",
   "metadata": {},
   "source": [
    "## Load the Data"
   ]
  },
  {
   "cell_type": "code",
   "execution_count": 2,
   "metadata": {
    "collapsed": true
   },
   "outputs": [],
   "source": [
    "mental14_df = pd.read_csv('data/mental_health_2014.csv')\n",
    "mental16_df = pd.read_csv('data/mental_health_2016.csv')\n",
    "mental16_meta_df = pd.read_json('data/mental_health_2016_meta_users.json')"
   ]
  },
  {
   "cell_type": "markdown",
   "metadata": {
    "collapsed": true
   },
   "source": [
    "## Describe the Data"
   ]
  },
  {
   "cell_type": "markdown",
   "metadata": {},
   "source": [
    "### 2014/2015 Dataset Features\n",
    "1. <b>date_submit</b>\n",
    "2. <b>age</b>\n",
    "3. <b>gender</b>\n",
    "4. <b>country_live</b>\n",
    "5. <b>state_live</b>: If you live in the United States, which state or territory do you live in?\n",
    "6. <b>self_employed</b>: Are you self-employed?\n",
    "7. <b>family_history</b>: Do you have a family history of mental illness?\n",
    "8. <b>treatment</b>: Have you sought treatment for a mental health condition?\n",
    "9. <b>interfere_untreated</b>: If you have a mental health condition, do you feel that it interferes with your work?\n",
    "10. <b>num_employees</b>: How many employees does your company or organization have?\n",
    "11. <b>remote</b>: Do you work remotely (outside of an office) at least 50% of the time?\n",
    "12. <b>tech_company</b>: Is your employer primarily a tech company/organization?\n",
    "13. <b>benefits</b>: Does your employer provide mental health benefits?\n",
    "14. <b>care_options</b>: Do you know the options for mental health care your employer provides?\n",
    "16. <b>wellness_program</b>: Has your employer ever discussed mental health as part of an employee wellness program?\n",
    "16. <b>emp_help</b>: Does your employer provide resources to learn more about mental health issues and how to seek help?\n",
    "17. <b>anon</b>: Is your anonymity protected if you choose to take advantage of mental health or substance abuse         treatment resources?\n",
    "18. <b>med_leave</b>: How easy is it for you to take medical leave for a mental health condition?\n",
    "19. <b>ment_conseq</b>: Do you think that discussing a mental health issue with your employer would have         negative consequences?\n",
    "20. <b>phys_conseq</b>: Do you think that discussing a physical health issue with your employer would have         negative consequences?\n",
    "21. <b>coworkers</b>: Would you be willing to discuss a mental health issue with your coworkers?\n",
    "22. <b>supervisors</b>: Would you be willing to discuss a mental health issue with your direct supervisor(s)?\n",
    "23. <b>ment_interv</b>: Would you bring up a mental health issue with a potential employer in an interview?\n",
    "24. <b>phys_interv</b>: Would you bring up a physical health issue with a potential employer in an interview?\n",
    "25. <b>ment_vs_phys</b>: Do you feel that your employer takes mental health as seriously as physical health?\n",
    "26. <b>obs_conseq</b>: Have you heard of or observed negative consequences for coworkers with mental health               conditions in your workplace?\n",
    "27. <b>comments</b>: Any additional notes or comments"
   ]
  },
  {
   "cell_type": "markdown",
   "metadata": {},
   "source": [
    "### Try to Group the Features\n",
    "##### About the person\n",
    "datetime, country, state, age, gender, self_employed, no_employees, remote_work, tech_company, treatment\n",
    "##### Workplace programs and benefits\n",
    "benefits, care_options, wellness_program, seek_help, anonymity, leave\n",
    "##### Stigma and comfort level\n",
    "work_interfere, mental_health_consequence, phys_health_consequence, coworkers, supervisor, mental_health_interview, phys_health_interview, mental_vs_physical, obs_consequence, comments"
   ]
  },
  {
   "cell_type": "markdown",
   "metadata": {},
   "source": [
    "### Observations\n",
    " - 2016 has more features than 2014\n",
    " - Empty values: state, self_employed, work_interfere, comments\n",
    " - Timestamp: 2014-08-27 to 2016-02-01\n",
    " - Age: 8 values that are impossible/highly unlikely\n",
    " - Gender: very messy with misspellings and nonstandard values\n",
    " - state: 4 rows where state given but country is not USA, 11 rows where country is USA but no state given\n",
    " - self_employed: 18 NaN values\n",
    " - work_interfere: 264 NaN values; people might've answered it based on 'treatment'\n",
    " - comments: 1095 NaN values\n",
    " - people picked \"Don't know\" a lot\n",
    " - many of the later questions are contingent upon earlier ones"
   ]
  },
  {
   "cell_type": "markdown",
   "metadata": {},
   "source": [
    "### Actions\n",
    " - Timestamp: split into features \"date\" and \"time\"\n",
    " - Age: replace the 8 values with randomly generated values between mean +/- std\n",
    " - Gender: replace misspelled values with \"m\" and \"f\"; pool nonstandard values into \"o\" (other)\n",
    " - state: consider USA states on the level of countries? fill 11 USA unnamed states with median or mode\n",
    " - self_employed: fill NaN according to overall proportion of Yes:No\n",
    " - work_interfere: fill with 'Never' (based on the way it's phrased, people might've answered it based on the previous question (treatment); OR create own ordinal category; OR just drop it since 2016 phrases it differently\n",
    " - comment: drop column"
   ]
  },
  {
   "cell_type": "code",
   "execution_count": 3,
   "metadata": {},
   "outputs": [
    {
     "data": {
      "text/plain": [
       "(1259, 27)"
      ]
     },
     "execution_count": 3,
     "metadata": {},
     "output_type": "execute_result"
    }
   ],
   "source": [
    "mental14_df.shape"
   ]
  },
  {
   "cell_type": "code",
   "execution_count": 4,
   "metadata": {},
   "outputs": [
    {
     "data": {
      "text/html": [
       "<div>\n",
       "<style>\n",
       "    .dataframe thead tr:only-child th {\n",
       "        text-align: right;\n",
       "    }\n",
       "\n",
       "    .dataframe thead th {\n",
       "        text-align: left;\n",
       "    }\n",
       "\n",
       "    .dataframe tbody tr th {\n",
       "        vertical-align: top;\n",
       "    }\n",
       "</style>\n",
       "<table border=\"1\" class=\"dataframe\">\n",
       "  <thead>\n",
       "    <tr style=\"text-align: right;\">\n",
       "      <th></th>\n",
       "      <th>Timestamp</th>\n",
       "      <th>Age</th>\n",
       "      <th>Gender</th>\n",
       "      <th>Country</th>\n",
       "      <th>state</th>\n",
       "      <th>self_employed</th>\n",
       "      <th>family_history</th>\n",
       "      <th>treatment</th>\n",
       "      <th>work_interfere</th>\n",
       "      <th>no_employees</th>\n",
       "      <th>remote_work</th>\n",
       "      <th>tech_company</th>\n",
       "      <th>benefits</th>\n",
       "      <th>care_options</th>\n",
       "      <th>wellness_program</th>\n",
       "      <th>seek_help</th>\n",
       "      <th>anonymity</th>\n",
       "      <th>leave</th>\n",
       "      <th>mental_health_consequence</th>\n",
       "      <th>phys_health_consequence</th>\n",
       "      <th>coworkers</th>\n",
       "      <th>supervisor</th>\n",
       "      <th>mental_health_interview</th>\n",
       "      <th>phys_health_interview</th>\n",
       "      <th>mental_vs_physical</th>\n",
       "      <th>obs_consequence</th>\n",
       "      <th>comments</th>\n",
       "    </tr>\n",
       "  </thead>\n",
       "  <tbody>\n",
       "    <tr>\n",
       "      <th>0</th>\n",
       "      <td>2014-08-27 11:29:31</td>\n",
       "      <td>37</td>\n",
       "      <td>Female</td>\n",
       "      <td>United States</td>\n",
       "      <td>IL</td>\n",
       "      <td>NaN</td>\n",
       "      <td>No</td>\n",
       "      <td>Yes</td>\n",
       "      <td>Often</td>\n",
       "      <td>6-25</td>\n",
       "      <td>No</td>\n",
       "      <td>Yes</td>\n",
       "      <td>Yes</td>\n",
       "      <td>Not sure</td>\n",
       "      <td>No</td>\n",
       "      <td>Yes</td>\n",
       "      <td>Yes</td>\n",
       "      <td>Somewhat easy</td>\n",
       "      <td>No</td>\n",
       "      <td>No</td>\n",
       "      <td>Some of them</td>\n",
       "      <td>Yes</td>\n",
       "      <td>No</td>\n",
       "      <td>Maybe</td>\n",
       "      <td>Yes</td>\n",
       "      <td>No</td>\n",
       "      <td>NaN</td>\n",
       "    </tr>\n",
       "    <tr>\n",
       "      <th>1</th>\n",
       "      <td>2014-08-27 11:29:37</td>\n",
       "      <td>44</td>\n",
       "      <td>M</td>\n",
       "      <td>United States</td>\n",
       "      <td>IN</td>\n",
       "      <td>NaN</td>\n",
       "      <td>No</td>\n",
       "      <td>No</td>\n",
       "      <td>Rarely</td>\n",
       "      <td>More than 1000</td>\n",
       "      <td>No</td>\n",
       "      <td>No</td>\n",
       "      <td>Don't know</td>\n",
       "      <td>No</td>\n",
       "      <td>Don't know</td>\n",
       "      <td>Don't know</td>\n",
       "      <td>Don't know</td>\n",
       "      <td>Don't know</td>\n",
       "      <td>Maybe</td>\n",
       "      <td>No</td>\n",
       "      <td>No</td>\n",
       "      <td>No</td>\n",
       "      <td>No</td>\n",
       "      <td>No</td>\n",
       "      <td>Don't know</td>\n",
       "      <td>No</td>\n",
       "      <td>NaN</td>\n",
       "    </tr>\n",
       "    <tr>\n",
       "      <th>2</th>\n",
       "      <td>2014-08-27 11:29:44</td>\n",
       "      <td>32</td>\n",
       "      <td>Male</td>\n",
       "      <td>Canada</td>\n",
       "      <td>NaN</td>\n",
       "      <td>NaN</td>\n",
       "      <td>No</td>\n",
       "      <td>No</td>\n",
       "      <td>Rarely</td>\n",
       "      <td>6-25</td>\n",
       "      <td>No</td>\n",
       "      <td>Yes</td>\n",
       "      <td>No</td>\n",
       "      <td>No</td>\n",
       "      <td>No</td>\n",
       "      <td>No</td>\n",
       "      <td>Don't know</td>\n",
       "      <td>Somewhat difficult</td>\n",
       "      <td>No</td>\n",
       "      <td>No</td>\n",
       "      <td>Yes</td>\n",
       "      <td>Yes</td>\n",
       "      <td>Yes</td>\n",
       "      <td>Yes</td>\n",
       "      <td>No</td>\n",
       "      <td>No</td>\n",
       "      <td>NaN</td>\n",
       "    </tr>\n",
       "    <tr>\n",
       "      <th>3</th>\n",
       "      <td>2014-08-27 11:29:46</td>\n",
       "      <td>31</td>\n",
       "      <td>Male</td>\n",
       "      <td>United Kingdom</td>\n",
       "      <td>NaN</td>\n",
       "      <td>NaN</td>\n",
       "      <td>Yes</td>\n",
       "      <td>Yes</td>\n",
       "      <td>Often</td>\n",
       "      <td>26-100</td>\n",
       "      <td>No</td>\n",
       "      <td>Yes</td>\n",
       "      <td>No</td>\n",
       "      <td>Yes</td>\n",
       "      <td>No</td>\n",
       "      <td>No</td>\n",
       "      <td>No</td>\n",
       "      <td>Somewhat difficult</td>\n",
       "      <td>Yes</td>\n",
       "      <td>Yes</td>\n",
       "      <td>Some of them</td>\n",
       "      <td>No</td>\n",
       "      <td>Maybe</td>\n",
       "      <td>Maybe</td>\n",
       "      <td>No</td>\n",
       "      <td>Yes</td>\n",
       "      <td>NaN</td>\n",
       "    </tr>\n",
       "    <tr>\n",
       "      <th>4</th>\n",
       "      <td>2014-08-27 11:30:22</td>\n",
       "      <td>31</td>\n",
       "      <td>Male</td>\n",
       "      <td>United States</td>\n",
       "      <td>TX</td>\n",
       "      <td>NaN</td>\n",
       "      <td>No</td>\n",
       "      <td>No</td>\n",
       "      <td>Never</td>\n",
       "      <td>100-500</td>\n",
       "      <td>Yes</td>\n",
       "      <td>Yes</td>\n",
       "      <td>Yes</td>\n",
       "      <td>No</td>\n",
       "      <td>Don't know</td>\n",
       "      <td>Don't know</td>\n",
       "      <td>Don't know</td>\n",
       "      <td>Don't know</td>\n",
       "      <td>No</td>\n",
       "      <td>No</td>\n",
       "      <td>Some of them</td>\n",
       "      <td>Yes</td>\n",
       "      <td>Yes</td>\n",
       "      <td>Yes</td>\n",
       "      <td>Don't know</td>\n",
       "      <td>No</td>\n",
       "      <td>NaN</td>\n",
       "    </tr>\n",
       "  </tbody>\n",
       "</table>\n",
       "</div>"
      ],
      "text/plain": [
       "             Timestamp  Age  Gender         Country state self_employed  \\\n",
       "0  2014-08-27 11:29:31   37  Female   United States    IL           NaN   \n",
       "1  2014-08-27 11:29:37   44       M   United States    IN           NaN   \n",
       "2  2014-08-27 11:29:44   32    Male          Canada   NaN           NaN   \n",
       "3  2014-08-27 11:29:46   31    Male  United Kingdom   NaN           NaN   \n",
       "4  2014-08-27 11:30:22   31    Male   United States    TX           NaN   \n",
       "\n",
       "  family_history treatment work_interfere    no_employees remote_work  \\\n",
       "0             No       Yes          Often            6-25          No   \n",
       "1             No        No         Rarely  More than 1000          No   \n",
       "2             No        No         Rarely            6-25          No   \n",
       "3            Yes       Yes          Often          26-100          No   \n",
       "4             No        No          Never         100-500         Yes   \n",
       "\n",
       "  tech_company    benefits care_options wellness_program   seek_help  \\\n",
       "0          Yes         Yes     Not sure               No         Yes   \n",
       "1           No  Don't know           No       Don't know  Don't know   \n",
       "2          Yes          No           No               No          No   \n",
       "3          Yes          No          Yes               No          No   \n",
       "4          Yes         Yes           No       Don't know  Don't know   \n",
       "\n",
       "    anonymity               leave mental_health_consequence  \\\n",
       "0         Yes       Somewhat easy                        No   \n",
       "1  Don't know          Don't know                     Maybe   \n",
       "2  Don't know  Somewhat difficult                        No   \n",
       "3          No  Somewhat difficult                       Yes   \n",
       "4  Don't know          Don't know                        No   \n",
       "\n",
       "  phys_health_consequence     coworkers supervisor mental_health_interview  \\\n",
       "0                      No  Some of them        Yes                      No   \n",
       "1                      No            No         No                      No   \n",
       "2                      No           Yes        Yes                     Yes   \n",
       "3                     Yes  Some of them         No                   Maybe   \n",
       "4                      No  Some of them        Yes                     Yes   \n",
       "\n",
       "  phys_health_interview mental_vs_physical obs_consequence comments  \n",
       "0                 Maybe                Yes              No      NaN  \n",
       "1                    No         Don't know              No      NaN  \n",
       "2                   Yes                 No              No      NaN  \n",
       "3                 Maybe                 No             Yes      NaN  \n",
       "4                   Yes         Don't know              No      NaN  "
      ]
     },
     "execution_count": 4,
     "metadata": {},
     "output_type": "execute_result"
    }
   ],
   "source": [
    "mental14_df.head()"
   ]
  },
  {
   "cell_type": "code",
   "execution_count": 5,
   "metadata": {
    "collapsed": true
   },
   "outputs": [],
   "source": [
    "mental14_relabels = [\n",
    "    'date_submit', 'age', 'gender', 'country_live', 'state_live', 'self_employed', 'family_history', 'treatment',\n",
    "    'interfere_untreated', 'num_employees', 'remote', 'tech_comp', 'benefits', 'care_options', 'wellness_program', \n",
    "    'emp_help', 'anon', 'med_leave', 'ment_conseq', 'phys_conseq', 'coworkers', 'supervisors', 'ment_interv',\n",
    "    'phys_interv', 'ment_vs_phys', 'obs_conseq', 'comments' \n",
    "]"
   ]
  },
  {
   "cell_type": "code",
   "execution_count": 6,
   "metadata": {
    "collapsed": true
   },
   "outputs": [],
   "source": [
    "mental14_df.columns = mental14_relabels"
   ]
  },
  {
   "cell_type": "code",
   "execution_count": 7,
   "metadata": {},
   "outputs": [
    {
     "data": {
      "text/html": [
       "<div>\n",
       "<style>\n",
       "    .dataframe thead tr:only-child th {\n",
       "        text-align: right;\n",
       "    }\n",
       "\n",
       "    .dataframe thead th {\n",
       "        text-align: left;\n",
       "    }\n",
       "\n",
       "    .dataframe tbody tr th {\n",
       "        vertical-align: top;\n",
       "    }\n",
       "</style>\n",
       "<table border=\"1\" class=\"dataframe\">\n",
       "  <thead>\n",
       "    <tr style=\"text-align: right;\">\n",
       "      <th></th>\n",
       "      <th>date_submit</th>\n",
       "      <th>age</th>\n",
       "      <th>gender</th>\n",
       "      <th>country_live</th>\n",
       "      <th>state_live</th>\n",
       "      <th>self_employed</th>\n",
       "      <th>family_history</th>\n",
       "      <th>treatment</th>\n",
       "      <th>interfere_untreated</th>\n",
       "      <th>num_employees</th>\n",
       "      <th>remote</th>\n",
       "      <th>tech_comp</th>\n",
       "      <th>benefits</th>\n",
       "      <th>care_options</th>\n",
       "      <th>wellness_program</th>\n",
       "      <th>emp_help</th>\n",
       "      <th>anon</th>\n",
       "      <th>med_leave</th>\n",
       "      <th>ment_conseq</th>\n",
       "      <th>phys_conseq</th>\n",
       "      <th>coworkers</th>\n",
       "      <th>supervisors</th>\n",
       "      <th>ment_interv</th>\n",
       "      <th>phys_interv</th>\n",
       "      <th>ment_vs_phys</th>\n",
       "      <th>obs_conseq</th>\n",
       "      <th>comments</th>\n",
       "    </tr>\n",
       "  </thead>\n",
       "  <tbody>\n",
       "    <tr>\n",
       "      <th>0</th>\n",
       "      <td>2014-08-27 11:29:31</td>\n",
       "      <td>37</td>\n",
       "      <td>Female</td>\n",
       "      <td>United States</td>\n",
       "      <td>IL</td>\n",
       "      <td>NaN</td>\n",
       "      <td>No</td>\n",
       "      <td>Yes</td>\n",
       "      <td>Often</td>\n",
       "      <td>6-25</td>\n",
       "      <td>No</td>\n",
       "      <td>Yes</td>\n",
       "      <td>Yes</td>\n",
       "      <td>Not sure</td>\n",
       "      <td>No</td>\n",
       "      <td>Yes</td>\n",
       "      <td>Yes</td>\n",
       "      <td>Somewhat easy</td>\n",
       "      <td>No</td>\n",
       "      <td>No</td>\n",
       "      <td>Some of them</td>\n",
       "      <td>Yes</td>\n",
       "      <td>No</td>\n",
       "      <td>Maybe</td>\n",
       "      <td>Yes</td>\n",
       "      <td>No</td>\n",
       "      <td>NaN</td>\n",
       "    </tr>\n",
       "    <tr>\n",
       "      <th>1</th>\n",
       "      <td>2014-08-27 11:29:37</td>\n",
       "      <td>44</td>\n",
       "      <td>M</td>\n",
       "      <td>United States</td>\n",
       "      <td>IN</td>\n",
       "      <td>NaN</td>\n",
       "      <td>No</td>\n",
       "      <td>No</td>\n",
       "      <td>Rarely</td>\n",
       "      <td>More than 1000</td>\n",
       "      <td>No</td>\n",
       "      <td>No</td>\n",
       "      <td>Don't know</td>\n",
       "      <td>No</td>\n",
       "      <td>Don't know</td>\n",
       "      <td>Don't know</td>\n",
       "      <td>Don't know</td>\n",
       "      <td>Don't know</td>\n",
       "      <td>Maybe</td>\n",
       "      <td>No</td>\n",
       "      <td>No</td>\n",
       "      <td>No</td>\n",
       "      <td>No</td>\n",
       "      <td>No</td>\n",
       "      <td>Don't know</td>\n",
       "      <td>No</td>\n",
       "      <td>NaN</td>\n",
       "    </tr>\n",
       "    <tr>\n",
       "      <th>2</th>\n",
       "      <td>2014-08-27 11:29:44</td>\n",
       "      <td>32</td>\n",
       "      <td>Male</td>\n",
       "      <td>Canada</td>\n",
       "      <td>NaN</td>\n",
       "      <td>NaN</td>\n",
       "      <td>No</td>\n",
       "      <td>No</td>\n",
       "      <td>Rarely</td>\n",
       "      <td>6-25</td>\n",
       "      <td>No</td>\n",
       "      <td>Yes</td>\n",
       "      <td>No</td>\n",
       "      <td>No</td>\n",
       "      <td>No</td>\n",
       "      <td>No</td>\n",
       "      <td>Don't know</td>\n",
       "      <td>Somewhat difficult</td>\n",
       "      <td>No</td>\n",
       "      <td>No</td>\n",
       "      <td>Yes</td>\n",
       "      <td>Yes</td>\n",
       "      <td>Yes</td>\n",
       "      <td>Yes</td>\n",
       "      <td>No</td>\n",
       "      <td>No</td>\n",
       "      <td>NaN</td>\n",
       "    </tr>\n",
       "    <tr>\n",
       "      <th>3</th>\n",
       "      <td>2014-08-27 11:29:46</td>\n",
       "      <td>31</td>\n",
       "      <td>Male</td>\n",
       "      <td>United Kingdom</td>\n",
       "      <td>NaN</td>\n",
       "      <td>NaN</td>\n",
       "      <td>Yes</td>\n",
       "      <td>Yes</td>\n",
       "      <td>Often</td>\n",
       "      <td>26-100</td>\n",
       "      <td>No</td>\n",
       "      <td>Yes</td>\n",
       "      <td>No</td>\n",
       "      <td>Yes</td>\n",
       "      <td>No</td>\n",
       "      <td>No</td>\n",
       "      <td>No</td>\n",
       "      <td>Somewhat difficult</td>\n",
       "      <td>Yes</td>\n",
       "      <td>Yes</td>\n",
       "      <td>Some of them</td>\n",
       "      <td>No</td>\n",
       "      <td>Maybe</td>\n",
       "      <td>Maybe</td>\n",
       "      <td>No</td>\n",
       "      <td>Yes</td>\n",
       "      <td>NaN</td>\n",
       "    </tr>\n",
       "    <tr>\n",
       "      <th>4</th>\n",
       "      <td>2014-08-27 11:30:22</td>\n",
       "      <td>31</td>\n",
       "      <td>Male</td>\n",
       "      <td>United States</td>\n",
       "      <td>TX</td>\n",
       "      <td>NaN</td>\n",
       "      <td>No</td>\n",
       "      <td>No</td>\n",
       "      <td>Never</td>\n",
       "      <td>100-500</td>\n",
       "      <td>Yes</td>\n",
       "      <td>Yes</td>\n",
       "      <td>Yes</td>\n",
       "      <td>No</td>\n",
       "      <td>Don't know</td>\n",
       "      <td>Don't know</td>\n",
       "      <td>Don't know</td>\n",
       "      <td>Don't know</td>\n",
       "      <td>No</td>\n",
       "      <td>No</td>\n",
       "      <td>Some of them</td>\n",
       "      <td>Yes</td>\n",
       "      <td>Yes</td>\n",
       "      <td>Yes</td>\n",
       "      <td>Don't know</td>\n",
       "      <td>No</td>\n",
       "      <td>NaN</td>\n",
       "    </tr>\n",
       "  </tbody>\n",
       "</table>\n",
       "</div>"
      ],
      "text/plain": [
       "           date_submit  age  gender    country_live state_live self_employed  \\\n",
       "0  2014-08-27 11:29:31   37  Female   United States         IL           NaN   \n",
       "1  2014-08-27 11:29:37   44       M   United States         IN           NaN   \n",
       "2  2014-08-27 11:29:44   32    Male          Canada        NaN           NaN   \n",
       "3  2014-08-27 11:29:46   31    Male  United Kingdom        NaN           NaN   \n",
       "4  2014-08-27 11:30:22   31    Male   United States         TX           NaN   \n",
       "\n",
       "  family_history treatment interfere_untreated   num_employees remote  \\\n",
       "0             No       Yes               Often            6-25     No   \n",
       "1             No        No              Rarely  More than 1000     No   \n",
       "2             No        No              Rarely            6-25     No   \n",
       "3            Yes       Yes               Often          26-100     No   \n",
       "4             No        No               Never         100-500    Yes   \n",
       "\n",
       "  tech_comp    benefits care_options wellness_program    emp_help        anon  \\\n",
       "0       Yes         Yes     Not sure               No         Yes         Yes   \n",
       "1        No  Don't know           No       Don't know  Don't know  Don't know   \n",
       "2       Yes          No           No               No          No  Don't know   \n",
       "3       Yes          No          Yes               No          No          No   \n",
       "4       Yes         Yes           No       Don't know  Don't know  Don't know   \n",
       "\n",
       "            med_leave ment_conseq phys_conseq     coworkers supervisors  \\\n",
       "0       Somewhat easy          No          No  Some of them         Yes   \n",
       "1          Don't know       Maybe          No            No          No   \n",
       "2  Somewhat difficult          No          No           Yes         Yes   \n",
       "3  Somewhat difficult         Yes         Yes  Some of them          No   \n",
       "4          Don't know          No          No  Some of them         Yes   \n",
       "\n",
       "  ment_interv phys_interv ment_vs_phys obs_conseq comments  \n",
       "0          No       Maybe          Yes         No      NaN  \n",
       "1          No          No   Don't know         No      NaN  \n",
       "2         Yes         Yes           No         No      NaN  \n",
       "3       Maybe       Maybe           No        Yes      NaN  \n",
       "4         Yes         Yes   Don't know         No      NaN  "
      ]
     },
     "execution_count": 7,
     "metadata": {},
     "output_type": "execute_result"
    }
   ],
   "source": [
    "mental14_df.head()"
   ]
  },
  {
   "cell_type": "code",
   "execution_count": 8,
   "metadata": {},
   "outputs": [
    {
     "data": {
      "text/html": [
       "<div>\n",
       "<style>\n",
       "    .dataframe thead tr:only-child th {\n",
       "        text-align: right;\n",
       "    }\n",
       "\n",
       "    .dataframe thead th {\n",
       "        text-align: left;\n",
       "    }\n",
       "\n",
       "    .dataframe tbody tr th {\n",
       "        vertical-align: top;\n",
       "    }\n",
       "</style>\n",
       "<table border=\"1\" class=\"dataframe\">\n",
       "  <thead>\n",
       "    <tr style=\"text-align: right;\">\n",
       "      <th></th>\n",
       "      <th>age</th>\n",
       "    </tr>\n",
       "  </thead>\n",
       "  <tbody>\n",
       "    <tr>\n",
       "      <th>count</th>\n",
       "      <td>1.259000e+03</td>\n",
       "    </tr>\n",
       "    <tr>\n",
       "      <th>mean</th>\n",
       "      <td>7.942815e+07</td>\n",
       "    </tr>\n",
       "    <tr>\n",
       "      <th>std</th>\n",
       "      <td>2.818299e+09</td>\n",
       "    </tr>\n",
       "    <tr>\n",
       "      <th>min</th>\n",
       "      <td>-1.726000e+03</td>\n",
       "    </tr>\n",
       "    <tr>\n",
       "      <th>25%</th>\n",
       "      <td>2.700000e+01</td>\n",
       "    </tr>\n",
       "    <tr>\n",
       "      <th>50%</th>\n",
       "      <td>3.100000e+01</td>\n",
       "    </tr>\n",
       "    <tr>\n",
       "      <th>75%</th>\n",
       "      <td>3.600000e+01</td>\n",
       "    </tr>\n",
       "    <tr>\n",
       "      <th>max</th>\n",
       "      <td>1.000000e+11</td>\n",
       "    </tr>\n",
       "  </tbody>\n",
       "</table>\n",
       "</div>"
      ],
      "text/plain": [
       "                age\n",
       "count  1.259000e+03\n",
       "mean   7.942815e+07\n",
       "std    2.818299e+09\n",
       "min   -1.726000e+03\n",
       "25%    2.700000e+01\n",
       "50%    3.100000e+01\n",
       "75%    3.600000e+01\n",
       "max    1.000000e+11"
      ]
     },
     "execution_count": 8,
     "metadata": {},
     "output_type": "execute_result"
    }
   ],
   "source": [
    "mental14_df.describe()"
   ]
  },
  {
   "cell_type": "code",
   "execution_count": 9,
   "metadata": {},
   "outputs": [
    {
     "data": {
      "text/html": [
       "<div>\n",
       "<style>\n",
       "    .dataframe thead tr:only-child th {\n",
       "        text-align: right;\n",
       "    }\n",
       "\n",
       "    .dataframe thead th {\n",
       "        text-align: left;\n",
       "    }\n",
       "\n",
       "    .dataframe tbody tr th {\n",
       "        vertical-align: top;\n",
       "    }\n",
       "</style>\n",
       "<table border=\"1\" class=\"dataframe\">\n",
       "  <thead>\n",
       "    <tr style=\"text-align: right;\">\n",
       "      <th></th>\n",
       "      <th>date_submit</th>\n",
       "      <th>gender</th>\n",
       "      <th>country_live</th>\n",
       "      <th>state_live</th>\n",
       "      <th>self_employed</th>\n",
       "      <th>family_history</th>\n",
       "      <th>treatment</th>\n",
       "      <th>interfere_untreated</th>\n",
       "      <th>num_employees</th>\n",
       "      <th>remote</th>\n",
       "      <th>tech_comp</th>\n",
       "      <th>benefits</th>\n",
       "      <th>care_options</th>\n",
       "      <th>wellness_program</th>\n",
       "      <th>emp_help</th>\n",
       "      <th>anon</th>\n",
       "      <th>med_leave</th>\n",
       "      <th>ment_conseq</th>\n",
       "      <th>phys_conseq</th>\n",
       "      <th>coworkers</th>\n",
       "      <th>supervisors</th>\n",
       "      <th>ment_interv</th>\n",
       "      <th>phys_interv</th>\n",
       "      <th>ment_vs_phys</th>\n",
       "      <th>obs_conseq</th>\n",
       "      <th>comments</th>\n",
       "    </tr>\n",
       "  </thead>\n",
       "  <tbody>\n",
       "    <tr>\n",
       "      <th>count</th>\n",
       "      <td>1259</td>\n",
       "      <td>1259</td>\n",
       "      <td>1259</td>\n",
       "      <td>744</td>\n",
       "      <td>1241</td>\n",
       "      <td>1259</td>\n",
       "      <td>1259</td>\n",
       "      <td>995</td>\n",
       "      <td>1259</td>\n",
       "      <td>1259</td>\n",
       "      <td>1259</td>\n",
       "      <td>1259</td>\n",
       "      <td>1259</td>\n",
       "      <td>1259</td>\n",
       "      <td>1259</td>\n",
       "      <td>1259</td>\n",
       "      <td>1259</td>\n",
       "      <td>1259</td>\n",
       "      <td>1259</td>\n",
       "      <td>1259</td>\n",
       "      <td>1259</td>\n",
       "      <td>1259</td>\n",
       "      <td>1259</td>\n",
       "      <td>1259</td>\n",
       "      <td>1259</td>\n",
       "      <td>164</td>\n",
       "    </tr>\n",
       "    <tr>\n",
       "      <th>unique</th>\n",
       "      <td>1246</td>\n",
       "      <td>49</td>\n",
       "      <td>48</td>\n",
       "      <td>45</td>\n",
       "      <td>2</td>\n",
       "      <td>2</td>\n",
       "      <td>2</td>\n",
       "      <td>4</td>\n",
       "      <td>6</td>\n",
       "      <td>2</td>\n",
       "      <td>2</td>\n",
       "      <td>3</td>\n",
       "      <td>3</td>\n",
       "      <td>3</td>\n",
       "      <td>3</td>\n",
       "      <td>3</td>\n",
       "      <td>5</td>\n",
       "      <td>3</td>\n",
       "      <td>3</td>\n",
       "      <td>3</td>\n",
       "      <td>3</td>\n",
       "      <td>3</td>\n",
       "      <td>3</td>\n",
       "      <td>3</td>\n",
       "      <td>2</td>\n",
       "      <td>160</td>\n",
       "    </tr>\n",
       "    <tr>\n",
       "      <th>top</th>\n",
       "      <td>2014-08-27 15:55:07</td>\n",
       "      <td>Male</td>\n",
       "      <td>United States</td>\n",
       "      <td>CA</td>\n",
       "      <td>No</td>\n",
       "      <td>No</td>\n",
       "      <td>Yes</td>\n",
       "      <td>Sometimes</td>\n",
       "      <td>6-25</td>\n",
       "      <td>No</td>\n",
       "      <td>Yes</td>\n",
       "      <td>Yes</td>\n",
       "      <td>No</td>\n",
       "      <td>No</td>\n",
       "      <td>No</td>\n",
       "      <td>Don't know</td>\n",
       "      <td>Don't know</td>\n",
       "      <td>No</td>\n",
       "      <td>No</td>\n",
       "      <td>Some of them</td>\n",
       "      <td>Yes</td>\n",
       "      <td>No</td>\n",
       "      <td>Maybe</td>\n",
       "      <td>Don't know</td>\n",
       "      <td>No</td>\n",
       "      <td>* Small family business - YMMV.</td>\n",
       "    </tr>\n",
       "    <tr>\n",
       "      <th>freq</th>\n",
       "      <td>2</td>\n",
       "      <td>615</td>\n",
       "      <td>751</td>\n",
       "      <td>138</td>\n",
       "      <td>1095</td>\n",
       "      <td>767</td>\n",
       "      <td>637</td>\n",
       "      <td>465</td>\n",
       "      <td>290</td>\n",
       "      <td>883</td>\n",
       "      <td>1031</td>\n",
       "      <td>477</td>\n",
       "      <td>501</td>\n",
       "      <td>842</td>\n",
       "      <td>646</td>\n",
       "      <td>819</td>\n",
       "      <td>563</td>\n",
       "      <td>490</td>\n",
       "      <td>925</td>\n",
       "      <td>774</td>\n",
       "      <td>516</td>\n",
       "      <td>1008</td>\n",
       "      <td>557</td>\n",
       "      <td>576</td>\n",
       "      <td>1075</td>\n",
       "      <td>5</td>\n",
       "    </tr>\n",
       "  </tbody>\n",
       "</table>\n",
       "</div>"
      ],
      "text/plain": [
       "                date_submit gender   country_live state_live self_employed  \\\n",
       "count                  1259   1259           1259        744          1241   \n",
       "unique                 1246     49             48         45             2   \n",
       "top     2014-08-27 15:55:07   Male  United States         CA            No   \n",
       "freq                      2    615            751        138          1095   \n",
       "\n",
       "       family_history treatment interfere_untreated num_employees remote  \\\n",
       "count            1259      1259                 995          1259   1259   \n",
       "unique              2         2                   4             6      2   \n",
       "top                No       Yes           Sometimes          6-25     No   \n",
       "freq              767       637                 465           290    883   \n",
       "\n",
       "       tech_comp benefits care_options wellness_program emp_help        anon  \\\n",
       "count       1259     1259         1259             1259     1259        1259   \n",
       "unique         2        3            3                3        3           3   \n",
       "top          Yes      Yes           No               No       No  Don't know   \n",
       "freq        1031      477          501              842      646         819   \n",
       "\n",
       "         med_leave ment_conseq phys_conseq     coworkers supervisors  \\\n",
       "count         1259        1259        1259          1259        1259   \n",
       "unique           5           3           3             3           3   \n",
       "top     Don't know          No          No  Some of them         Yes   \n",
       "freq           563         490         925           774         516   \n",
       "\n",
       "       ment_interv phys_interv ment_vs_phys obs_conseq  \\\n",
       "count         1259        1259         1259       1259   \n",
       "unique           3           3            3          2   \n",
       "top             No       Maybe   Don't know         No   \n",
       "freq          1008         557          576       1075   \n",
       "\n",
       "                               comments  \n",
       "count                               164  \n",
       "unique                              160  \n",
       "top     * Small family business - YMMV.  \n",
       "freq                                  5  "
      ]
     },
     "execution_count": 9,
     "metadata": {},
     "output_type": "execute_result"
    }
   ],
   "source": [
    "mental14_df.describe(include=['O'])"
   ]
  },
  {
   "cell_type": "code",
   "execution_count": 10,
   "metadata": {},
   "outputs": [
    {
     "name": "stdout",
     "output_type": "stream",
     "text": [
      "<class 'pandas.core.frame.DataFrame'>\n",
      "RangeIndex: 1259 entries, 0 to 1258\n",
      "Data columns (total 27 columns):\n",
      "date_submit            1259 non-null object\n",
      "age                    1259 non-null int64\n",
      "gender                 1259 non-null object\n",
      "country_live           1259 non-null object\n",
      "state_live             744 non-null object\n",
      "self_employed          1241 non-null object\n",
      "family_history         1259 non-null object\n",
      "treatment              1259 non-null object\n",
      "interfere_untreated    995 non-null object\n",
      "num_employees          1259 non-null object\n",
      "remote                 1259 non-null object\n",
      "tech_comp              1259 non-null object\n",
      "benefits               1259 non-null object\n",
      "care_options           1259 non-null object\n",
      "wellness_program       1259 non-null object\n",
      "emp_help               1259 non-null object\n",
      "anon                   1259 non-null object\n",
      "med_leave              1259 non-null object\n",
      "ment_conseq            1259 non-null object\n",
      "phys_conseq            1259 non-null object\n",
      "coworkers              1259 non-null object\n",
      "supervisors            1259 non-null object\n",
      "ment_interv            1259 non-null object\n",
      "phys_interv            1259 non-null object\n",
      "ment_vs_phys           1259 non-null object\n",
      "obs_conseq             1259 non-null object\n",
      "comments               164 non-null object\n",
      "dtypes: int64(1), object(26)\n",
      "memory usage: 265.6+ KB\n"
     ]
    }
   ],
   "source": [
    "mental14_df.info()"
   ]
  },
  {
   "cell_type": "code",
   "execution_count": 11,
   "metadata": {},
   "outputs": [
    {
     "data": {
      "text/html": [
       "<div>\n",
       "<style>\n",
       "    .dataframe thead tr:only-child th {\n",
       "        text-align: right;\n",
       "    }\n",
       "\n",
       "    .dataframe thead th {\n",
       "        text-align: left;\n",
       "    }\n",
       "\n",
       "    .dataframe tbody tr th {\n",
       "        vertical-align: top;\n",
       "    }\n",
       "</style>\n",
       "<table border=\"1\" class=\"dataframe\">\n",
       "  <thead>\n",
       "    <tr style=\"text-align: right;\">\n",
       "      <th></th>\n",
       "      <th>date_submit</th>\n",
       "      <th>age</th>\n",
       "      <th>gender</th>\n",
       "      <th>country_live</th>\n",
       "      <th>state_live</th>\n",
       "      <th>self_employed</th>\n",
       "      <th>family_history</th>\n",
       "      <th>treatment</th>\n",
       "      <th>interfere_untreated</th>\n",
       "      <th>num_employees</th>\n",
       "      <th>remote</th>\n",
       "      <th>tech_comp</th>\n",
       "      <th>benefits</th>\n",
       "      <th>care_options</th>\n",
       "      <th>wellness_program</th>\n",
       "      <th>emp_help</th>\n",
       "      <th>anon</th>\n",
       "      <th>med_leave</th>\n",
       "      <th>ment_conseq</th>\n",
       "      <th>phys_conseq</th>\n",
       "      <th>coworkers</th>\n",
       "      <th>supervisors</th>\n",
       "      <th>ment_interv</th>\n",
       "      <th>phys_interv</th>\n",
       "      <th>ment_vs_phys</th>\n",
       "      <th>obs_conseq</th>\n",
       "      <th>comments</th>\n",
       "    </tr>\n",
       "  </thead>\n",
       "  <tbody>\n",
       "    <tr>\n",
       "      <th>117</th>\n",
       "      <td>2014-08-27 12:31:41</td>\n",
       "      <td>27</td>\n",
       "      <td>Male</td>\n",
       "      <td>Canada</td>\n",
       "      <td>NaN</td>\n",
       "      <td>No</td>\n",
       "      <td>No</td>\n",
       "      <td>No</td>\n",
       "      <td>Rarely</td>\n",
       "      <td>6-25</td>\n",
       "      <td>No</td>\n",
       "      <td>No</td>\n",
       "      <td>Yes</td>\n",
       "      <td>Yes</td>\n",
       "      <td>Yes</td>\n",
       "      <td>Yes</td>\n",
       "      <td>Yes</td>\n",
       "      <td>Very easy</td>\n",
       "      <td>Maybe</td>\n",
       "      <td>No</td>\n",
       "      <td>Some of them</td>\n",
       "      <td>Yes</td>\n",
       "      <td>No</td>\n",
       "      <td>No</td>\n",
       "      <td>Don't know</td>\n",
       "      <td>No</td>\n",
       "      <td>NaN</td>\n",
       "    </tr>\n",
       "    <tr>\n",
       "      <th>139</th>\n",
       "      <td>2014-08-27 12:37:50</td>\n",
       "      <td>22</td>\n",
       "      <td>m</td>\n",
       "      <td>Austria</td>\n",
       "      <td>NaN</td>\n",
       "      <td>No</td>\n",
       "      <td>No</td>\n",
       "      <td>No</td>\n",
       "      <td>NaN</td>\n",
       "      <td>6-25</td>\n",
       "      <td>Yes</td>\n",
       "      <td>Yes</td>\n",
       "      <td>Don't know</td>\n",
       "      <td>No</td>\n",
       "      <td>Don't know</td>\n",
       "      <td>No</td>\n",
       "      <td>Don't know</td>\n",
       "      <td>Somewhat easy</td>\n",
       "      <td>No</td>\n",
       "      <td>No</td>\n",
       "      <td>Some of them</td>\n",
       "      <td>Some of them</td>\n",
       "      <td>No</td>\n",
       "      <td>No</td>\n",
       "      <td>Don't know</td>\n",
       "      <td>No</td>\n",
       "      <td>NaN</td>\n",
       "    </tr>\n",
       "    <tr>\n",
       "      <th>158</th>\n",
       "      <td>2014-08-27 12:43:28</td>\n",
       "      <td>27</td>\n",
       "      <td>male</td>\n",
       "      <td>United States</td>\n",
       "      <td>UT</td>\n",
       "      <td>No</td>\n",
       "      <td>No</td>\n",
       "      <td>Yes</td>\n",
       "      <td>Rarely</td>\n",
       "      <td>26-100</td>\n",
       "      <td>Yes</td>\n",
       "      <td>Yes</td>\n",
       "      <td>No</td>\n",
       "      <td>Yes</td>\n",
       "      <td>No</td>\n",
       "      <td>No</td>\n",
       "      <td>Don't know</td>\n",
       "      <td>Somewhat difficult</td>\n",
       "      <td>Maybe</td>\n",
       "      <td>No</td>\n",
       "      <td>Some of them</td>\n",
       "      <td>Yes</td>\n",
       "      <td>No</td>\n",
       "      <td>No</td>\n",
       "      <td>Don't know</td>\n",
       "      <td>Yes</td>\n",
       "      <td>Had a co-worker disappear from work for a few ...</td>\n",
       "    </tr>\n",
       "    <tr>\n",
       "      <th>162</th>\n",
       "      <td>2014-08-27 12:44:51</td>\n",
       "      <td>31</td>\n",
       "      <td>M</td>\n",
       "      <td>United States</td>\n",
       "      <td>CA</td>\n",
       "      <td>No</td>\n",
       "      <td>No</td>\n",
       "      <td>No</td>\n",
       "      <td>Never</td>\n",
       "      <td>More than 1000</td>\n",
       "      <td>No</td>\n",
       "      <td>Yes</td>\n",
       "      <td>Yes</td>\n",
       "      <td>No</td>\n",
       "      <td>No</td>\n",
       "      <td>Yes</td>\n",
       "      <td>Don't know</td>\n",
       "      <td>Don't know</td>\n",
       "      <td>No</td>\n",
       "      <td>No</td>\n",
       "      <td>Some of them</td>\n",
       "      <td>Some of them</td>\n",
       "      <td>No</td>\n",
       "      <td>No</td>\n",
       "      <td>Don't know</td>\n",
       "      <td>No</td>\n",
       "      <td>NaN</td>\n",
       "    </tr>\n",
       "    <tr>\n",
       "      <th>193</th>\n",
       "      <td>2014-08-27 12:54:11</td>\n",
       "      <td>35</td>\n",
       "      <td>Male</td>\n",
       "      <td>United States</td>\n",
       "      <td>CA</td>\n",
       "      <td>No</td>\n",
       "      <td>No</td>\n",
       "      <td>Yes</td>\n",
       "      <td>Rarely</td>\n",
       "      <td>6-25</td>\n",
       "      <td>No</td>\n",
       "      <td>Yes</td>\n",
       "      <td>No</td>\n",
       "      <td>No</td>\n",
       "      <td>No</td>\n",
       "      <td>No</td>\n",
       "      <td>Yes</td>\n",
       "      <td>Don't know</td>\n",
       "      <td>No</td>\n",
       "      <td>No</td>\n",
       "      <td>Some of them</td>\n",
       "      <td>Yes</td>\n",
       "      <td>No</td>\n",
       "      <td>No</td>\n",
       "      <td>Don't know</td>\n",
       "      <td>No</td>\n",
       "      <td>NaN</td>\n",
       "    </tr>\n",
       "    <tr>\n",
       "      <th>308</th>\n",
       "      <td>2014-08-27 14:22:43</td>\n",
       "      <td>25</td>\n",
       "      <td>Male</td>\n",
       "      <td>United States</td>\n",
       "      <td>OR</td>\n",
       "      <td>No</td>\n",
       "      <td>No</td>\n",
       "      <td>No</td>\n",
       "      <td>NaN</td>\n",
       "      <td>26-100</td>\n",
       "      <td>Yes</td>\n",
       "      <td>Yes</td>\n",
       "      <td>Don't know</td>\n",
       "      <td>Not sure</td>\n",
       "      <td>No</td>\n",
       "      <td>Don't know</td>\n",
       "      <td>Don't know</td>\n",
       "      <td>Don't know</td>\n",
       "      <td>No</td>\n",
       "      <td>No</td>\n",
       "      <td>Some of them</td>\n",
       "      <td>Yes</td>\n",
       "      <td>No</td>\n",
       "      <td>No</td>\n",
       "      <td>Don't know</td>\n",
       "      <td>No</td>\n",
       "      <td>NaN</td>\n",
       "    </tr>\n",
       "    <tr>\n",
       "      <th>385</th>\n",
       "      <td>2014-08-27 15:23:51</td>\n",
       "      <td>27</td>\n",
       "      <td>female</td>\n",
       "      <td>United States</td>\n",
       "      <td>CO</td>\n",
       "      <td>No</td>\n",
       "      <td>Yes</td>\n",
       "      <td>Yes</td>\n",
       "      <td>Rarely</td>\n",
       "      <td>More than 1000</td>\n",
       "      <td>Yes</td>\n",
       "      <td>Yes</td>\n",
       "      <td>Yes</td>\n",
       "      <td>Yes</td>\n",
       "      <td>No</td>\n",
       "      <td>Don't know</td>\n",
       "      <td>Don't know</td>\n",
       "      <td>Don't know</td>\n",
       "      <td>Maybe</td>\n",
       "      <td>Maybe</td>\n",
       "      <td>No</td>\n",
       "      <td>Yes</td>\n",
       "      <td>No</td>\n",
       "      <td>No</td>\n",
       "      <td>Don't know</td>\n",
       "      <td>No</td>\n",
       "      <td>NaN</td>\n",
       "    </tr>\n",
       "    <tr>\n",
       "      <th>391</th>\n",
       "      <td>2014-08-27 15:24:47</td>\n",
       "      <td>40</td>\n",
       "      <td>female</td>\n",
       "      <td>United States</td>\n",
       "      <td>PA</td>\n",
       "      <td>No</td>\n",
       "      <td>Yes</td>\n",
       "      <td>Yes</td>\n",
       "      <td>Rarely</td>\n",
       "      <td>More than 1000</td>\n",
       "      <td>No</td>\n",
       "      <td>No</td>\n",
       "      <td>Yes</td>\n",
       "      <td>No</td>\n",
       "      <td>Don't know</td>\n",
       "      <td>Don't know</td>\n",
       "      <td>Don't know</td>\n",
       "      <td>Somewhat easy</td>\n",
       "      <td>Maybe</td>\n",
       "      <td>Maybe</td>\n",
       "      <td>No</td>\n",
       "      <td>No</td>\n",
       "      <td>No</td>\n",
       "      <td>No</td>\n",
       "      <td>Don't know</td>\n",
       "      <td>No</td>\n",
       "      <td>NaN</td>\n",
       "    </tr>\n",
       "    <tr>\n",
       "      <th>454</th>\n",
       "      <td>2014-08-27 15:55:07</td>\n",
       "      <td>27</td>\n",
       "      <td>Male</td>\n",
       "      <td>United States</td>\n",
       "      <td>OR</td>\n",
       "      <td>No</td>\n",
       "      <td>Yes</td>\n",
       "      <td>Yes</td>\n",
       "      <td>Sometimes</td>\n",
       "      <td>100-500</td>\n",
       "      <td>No</td>\n",
       "      <td>Yes</td>\n",
       "      <td>Don't know</td>\n",
       "      <td>Not sure</td>\n",
       "      <td>No</td>\n",
       "      <td>Don't know</td>\n",
       "      <td>Don't know</td>\n",
       "      <td>Don't know</td>\n",
       "      <td>Yes</td>\n",
       "      <td>No</td>\n",
       "      <td>No</td>\n",
       "      <td>No</td>\n",
       "      <td>No</td>\n",
       "      <td>Yes</td>\n",
       "      <td>Don't know</td>\n",
       "      <td>No</td>\n",
       "      <td>NaN</td>\n",
       "    </tr>\n",
       "    <tr>\n",
       "      <th>528</th>\n",
       "      <td>2014-08-27 17:33:52</td>\n",
       "      <td>29</td>\n",
       "      <td>M</td>\n",
       "      <td>United States</td>\n",
       "      <td>NC</td>\n",
       "      <td>No</td>\n",
       "      <td>No</td>\n",
       "      <td>Yes</td>\n",
       "      <td>Sometimes</td>\n",
       "      <td>6-25</td>\n",
       "      <td>No</td>\n",
       "      <td>Yes</td>\n",
       "      <td>Yes</td>\n",
       "      <td>Yes</td>\n",
       "      <td>No</td>\n",
       "      <td>Yes</td>\n",
       "      <td>Yes</td>\n",
       "      <td>Very easy</td>\n",
       "      <td>No</td>\n",
       "      <td>No</td>\n",
       "      <td>No</td>\n",
       "      <td>Some of them</td>\n",
       "      <td>No</td>\n",
       "      <td>No</td>\n",
       "      <td>Yes</td>\n",
       "      <td>No</td>\n",
       "      <td>NaN</td>\n",
       "    </tr>\n",
       "    <tr>\n",
       "      <th>704</th>\n",
       "      <td>2014-08-28 09:59:39</td>\n",
       "      <td>43</td>\n",
       "      <td>M</td>\n",
       "      <td>United States</td>\n",
       "      <td>TN</td>\n",
       "      <td>No</td>\n",
       "      <td>Yes</td>\n",
       "      <td>Yes</td>\n",
       "      <td>Sometimes</td>\n",
       "      <td>26-100</td>\n",
       "      <td>No</td>\n",
       "      <td>No</td>\n",
       "      <td>Yes</td>\n",
       "      <td>Not sure</td>\n",
       "      <td>No</td>\n",
       "      <td>Yes</td>\n",
       "      <td>Don't know</td>\n",
       "      <td>Somewhat easy</td>\n",
       "      <td>Yes</td>\n",
       "      <td>No</td>\n",
       "      <td>No</td>\n",
       "      <td>No</td>\n",
       "      <td>No</td>\n",
       "      <td>No</td>\n",
       "      <td>No</td>\n",
       "      <td>No</td>\n",
       "      <td>NaN</td>\n",
       "    </tr>\n",
       "    <tr>\n",
       "      <th>841</th>\n",
       "      <td>2014-08-28 16:52:34</td>\n",
       "      <td>36</td>\n",
       "      <td>male</td>\n",
       "      <td>United Kingdom</td>\n",
       "      <td>NaN</td>\n",
       "      <td>Yes</td>\n",
       "      <td>No</td>\n",
       "      <td>No</td>\n",
       "      <td>Sometimes</td>\n",
       "      <td>6-25</td>\n",
       "      <td>Yes</td>\n",
       "      <td>Yes</td>\n",
       "      <td>No</td>\n",
       "      <td>No</td>\n",
       "      <td>No</td>\n",
       "      <td>No</td>\n",
       "      <td>Don't know</td>\n",
       "      <td>Somewhat difficult</td>\n",
       "      <td>No</td>\n",
       "      <td>No</td>\n",
       "      <td>Yes</td>\n",
       "      <td>Yes</td>\n",
       "      <td>No</td>\n",
       "      <td>Maybe</td>\n",
       "      <td>Don't know</td>\n",
       "      <td>Yes</td>\n",
       "      <td>NaN</td>\n",
       "    </tr>\n",
       "    <tr>\n",
       "      <th>852</th>\n",
       "      <td>2014-08-28 16:58:33</td>\n",
       "      <td>21</td>\n",
       "      <td>Male</td>\n",
       "      <td>United Kingdom</td>\n",
       "      <td>NaN</td>\n",
       "      <td>No</td>\n",
       "      <td>Yes</td>\n",
       "      <td>No</td>\n",
       "      <td>Never</td>\n",
       "      <td>6-25</td>\n",
       "      <td>No</td>\n",
       "      <td>No</td>\n",
       "      <td>No</td>\n",
       "      <td>No</td>\n",
       "      <td>No</td>\n",
       "      <td>No</td>\n",
       "      <td>Yes</td>\n",
       "      <td>Somewhat easy</td>\n",
       "      <td>Maybe</td>\n",
       "      <td>No</td>\n",
       "      <td>Some of them</td>\n",
       "      <td>Some of them</td>\n",
       "      <td>No</td>\n",
       "      <td>Maybe</td>\n",
       "      <td>Don't know</td>\n",
       "      <td>No</td>\n",
       "      <td>NaN</td>\n",
       "    </tr>\n",
       "  </tbody>\n",
       "</table>\n",
       "</div>"
      ],
      "text/plain": [
       "             date_submit  age  gender    country_live state_live  \\\n",
       "117  2014-08-27 12:31:41   27    Male          Canada        NaN   \n",
       "139  2014-08-27 12:37:50   22       m         Austria        NaN   \n",
       "158  2014-08-27 12:43:28   27    male   United States         UT   \n",
       "162  2014-08-27 12:44:51   31       M   United States         CA   \n",
       "193  2014-08-27 12:54:11   35    Male   United States         CA   \n",
       "308  2014-08-27 14:22:43   25    Male   United States         OR   \n",
       "385  2014-08-27 15:23:51   27  female   United States         CO   \n",
       "391  2014-08-27 15:24:47   40  female   United States         PA   \n",
       "454  2014-08-27 15:55:07   27    Male   United States         OR   \n",
       "528  2014-08-27 17:33:52   29       M   United States         NC   \n",
       "704  2014-08-28 09:59:39   43       M   United States         TN   \n",
       "841  2014-08-28 16:52:34   36    male  United Kingdom        NaN   \n",
       "852  2014-08-28 16:58:33   21    Male  United Kingdom        NaN   \n",
       "\n",
       "    self_employed family_history treatment interfere_untreated  \\\n",
       "117            No             No        No              Rarely   \n",
       "139            No             No        No                 NaN   \n",
       "158            No             No       Yes              Rarely   \n",
       "162            No             No        No               Never   \n",
       "193            No             No       Yes              Rarely   \n",
       "308            No             No        No                 NaN   \n",
       "385            No            Yes       Yes              Rarely   \n",
       "391            No            Yes       Yes              Rarely   \n",
       "454            No            Yes       Yes           Sometimes   \n",
       "528            No             No       Yes           Sometimes   \n",
       "704            No            Yes       Yes           Sometimes   \n",
       "841           Yes             No        No           Sometimes   \n",
       "852            No            Yes        No               Never   \n",
       "\n",
       "      num_employees remote tech_comp    benefits care_options  \\\n",
       "117            6-25     No        No         Yes          Yes   \n",
       "139            6-25    Yes       Yes  Don't know           No   \n",
       "158          26-100    Yes       Yes          No          Yes   \n",
       "162  More than 1000     No       Yes         Yes           No   \n",
       "193            6-25     No       Yes          No           No   \n",
       "308          26-100    Yes       Yes  Don't know     Not sure   \n",
       "385  More than 1000    Yes       Yes         Yes          Yes   \n",
       "391  More than 1000     No        No         Yes           No   \n",
       "454         100-500     No       Yes  Don't know     Not sure   \n",
       "528            6-25     No       Yes         Yes          Yes   \n",
       "704          26-100     No        No         Yes     Not sure   \n",
       "841            6-25    Yes       Yes          No           No   \n",
       "852            6-25     No        No          No           No   \n",
       "\n",
       "    wellness_program    emp_help        anon           med_leave ment_conseq  \\\n",
       "117              Yes         Yes         Yes           Very easy       Maybe   \n",
       "139       Don't know          No  Don't know       Somewhat easy          No   \n",
       "158               No          No  Don't know  Somewhat difficult       Maybe   \n",
       "162               No         Yes  Don't know          Don't know          No   \n",
       "193               No          No         Yes          Don't know          No   \n",
       "308               No  Don't know  Don't know          Don't know          No   \n",
       "385               No  Don't know  Don't know          Don't know       Maybe   \n",
       "391       Don't know  Don't know  Don't know       Somewhat easy       Maybe   \n",
       "454               No  Don't know  Don't know          Don't know         Yes   \n",
       "528               No         Yes         Yes           Very easy          No   \n",
       "704               No         Yes  Don't know       Somewhat easy         Yes   \n",
       "841               No          No  Don't know  Somewhat difficult          No   \n",
       "852               No          No         Yes       Somewhat easy       Maybe   \n",
       "\n",
       "    phys_conseq     coworkers   supervisors ment_interv phys_interv  \\\n",
       "117          No  Some of them           Yes          No          No   \n",
       "139          No  Some of them  Some of them          No          No   \n",
       "158          No  Some of them           Yes          No          No   \n",
       "162          No  Some of them  Some of them          No          No   \n",
       "193          No  Some of them           Yes          No          No   \n",
       "308          No  Some of them           Yes          No          No   \n",
       "385       Maybe            No           Yes          No          No   \n",
       "391       Maybe            No            No          No          No   \n",
       "454          No            No            No          No         Yes   \n",
       "528          No            No  Some of them          No          No   \n",
       "704          No            No            No          No          No   \n",
       "841          No           Yes           Yes          No       Maybe   \n",
       "852          No  Some of them  Some of them          No       Maybe   \n",
       "\n",
       "    ment_vs_phys obs_conseq                                           comments  \n",
       "117   Don't know         No                                                NaN  \n",
       "139   Don't know         No                                                NaN  \n",
       "158   Don't know        Yes  Had a co-worker disappear from work for a few ...  \n",
       "162   Don't know         No                                                NaN  \n",
       "193   Don't know         No                                                NaN  \n",
       "308   Don't know         No                                                NaN  \n",
       "385   Don't know         No                                                NaN  \n",
       "391   Don't know         No                                                NaN  \n",
       "454   Don't know         No                                                NaN  \n",
       "528          Yes         No                                                NaN  \n",
       "704           No         No                                                NaN  \n",
       "841   Don't know        Yes                                                NaN  \n",
       "852   Don't know         No                                                NaN  "
      ]
     },
     "execution_count": 11,
     "metadata": {},
     "output_type": "execute_result"
    }
   ],
   "source": [
    "mental14_df[mental14_df.duplicated(\"date_submit\")]"
   ]
  },
  {
   "cell_type": "code",
   "execution_count": 12,
   "metadata": {},
   "outputs": [
    {
     "data": {
      "text/plain": [
       "'2014-08-27 11:29:31'"
      ]
     },
     "execution_count": 12,
     "metadata": {},
     "output_type": "execute_result"
    }
   ],
   "source": [
    "mental14_df.date_submit.min()"
   ]
  },
  {
   "cell_type": "code",
   "execution_count": 13,
   "metadata": {},
   "outputs": [
    {
     "data": {
      "text/plain": [
       "'2016-02-01 23:04:31'"
      ]
     },
     "execution_count": 13,
     "metadata": {},
     "output_type": "execute_result"
    }
   ],
   "source": [
    "mental14_df.date_submit.max()"
   ]
  },
  {
   "cell_type": "code",
   "execution_count": 14,
   "metadata": {},
   "outputs": [
    {
     "data": {
      "text/html": [
       "<div>\n",
       "<style>\n",
       "    .dataframe thead tr:only-child th {\n",
       "        text-align: right;\n",
       "    }\n",
       "\n",
       "    .dataframe thead th {\n",
       "        text-align: left;\n",
       "    }\n",
       "\n",
       "    .dataframe tbody tr th {\n",
       "        vertical-align: top;\n",
       "    }\n",
       "</style>\n",
       "<table border=\"1\" class=\"dataframe\">\n",
       "  <thead>\n",
       "    <tr style=\"text-align: right;\">\n",
       "      <th></th>\n",
       "      <th>date_submit</th>\n",
       "      <th>age</th>\n",
       "      <th>gender</th>\n",
       "      <th>country_live</th>\n",
       "      <th>state_live</th>\n",
       "      <th>self_employed</th>\n",
       "      <th>family_history</th>\n",
       "      <th>treatment</th>\n",
       "      <th>interfere_untreated</th>\n",
       "      <th>num_employees</th>\n",
       "      <th>remote</th>\n",
       "      <th>tech_comp</th>\n",
       "      <th>benefits</th>\n",
       "      <th>care_options</th>\n",
       "      <th>wellness_program</th>\n",
       "      <th>emp_help</th>\n",
       "      <th>anon</th>\n",
       "      <th>med_leave</th>\n",
       "      <th>ment_conseq</th>\n",
       "      <th>phys_conseq</th>\n",
       "      <th>coworkers</th>\n",
       "      <th>supervisors</th>\n",
       "      <th>ment_interv</th>\n",
       "      <th>phys_interv</th>\n",
       "      <th>ment_vs_phys</th>\n",
       "      <th>obs_conseq</th>\n",
       "      <th>comments</th>\n",
       "    </tr>\n",
       "  </thead>\n",
       "  <tbody>\n",
       "    <tr>\n",
       "      <th>143</th>\n",
       "      <td>2014-08-27 12:39:14</td>\n",
       "      <td>-29</td>\n",
       "      <td>Male</td>\n",
       "      <td>United States</td>\n",
       "      <td>MN</td>\n",
       "      <td>No</td>\n",
       "      <td>No</td>\n",
       "      <td>No</td>\n",
       "      <td>NaN</td>\n",
       "      <td>More than 1000</td>\n",
       "      <td>Yes</td>\n",
       "      <td>No</td>\n",
       "      <td>Yes</td>\n",
       "      <td>No</td>\n",
       "      <td>Don't know</td>\n",
       "      <td>Yes</td>\n",
       "      <td>Don't know</td>\n",
       "      <td>Don't know</td>\n",
       "      <td>No</td>\n",
       "      <td>No</td>\n",
       "      <td>Some of them</td>\n",
       "      <td>Yes</td>\n",
       "      <td>No</td>\n",
       "      <td>No</td>\n",
       "      <td>Don't know</td>\n",
       "      <td>No</td>\n",
       "      <td>NaN</td>\n",
       "    </tr>\n",
       "    <tr>\n",
       "      <th>364</th>\n",
       "      <td>2014-08-27 15:05:21</td>\n",
       "      <td>329</td>\n",
       "      <td>Male</td>\n",
       "      <td>United States</td>\n",
       "      <td>OH</td>\n",
       "      <td>No</td>\n",
       "      <td>No</td>\n",
       "      <td>Yes</td>\n",
       "      <td>Often</td>\n",
       "      <td>6-25</td>\n",
       "      <td>Yes</td>\n",
       "      <td>Yes</td>\n",
       "      <td>Yes</td>\n",
       "      <td>Yes</td>\n",
       "      <td>No</td>\n",
       "      <td>No</td>\n",
       "      <td>Don't know</td>\n",
       "      <td>Don't know</td>\n",
       "      <td>Maybe</td>\n",
       "      <td>No</td>\n",
       "      <td>Some of them</td>\n",
       "      <td>No</td>\n",
       "      <td>No</td>\n",
       "      <td>No</td>\n",
       "      <td>No</td>\n",
       "      <td>No</td>\n",
       "      <td>NaN</td>\n",
       "    </tr>\n",
       "    <tr>\n",
       "      <th>390</th>\n",
       "      <td>2014-08-27 15:24:47</td>\n",
       "      <td>99999999999</td>\n",
       "      <td>All</td>\n",
       "      <td>Zimbabwe</td>\n",
       "      <td>NaN</td>\n",
       "      <td>Yes</td>\n",
       "      <td>Yes</td>\n",
       "      <td>Yes</td>\n",
       "      <td>Often</td>\n",
       "      <td>1-5</td>\n",
       "      <td>No</td>\n",
       "      <td>Yes</td>\n",
       "      <td>No</td>\n",
       "      <td>Yes</td>\n",
       "      <td>No</td>\n",
       "      <td>No</td>\n",
       "      <td>No</td>\n",
       "      <td>Very difficult</td>\n",
       "      <td>Yes</td>\n",
       "      <td>Yes</td>\n",
       "      <td>No</td>\n",
       "      <td>No</td>\n",
       "      <td>Yes</td>\n",
       "      <td>No</td>\n",
       "      <td>No</td>\n",
       "      <td>Yes</td>\n",
       "      <td>NaN</td>\n",
       "    </tr>\n",
       "    <tr>\n",
       "      <th>715</th>\n",
       "      <td>2014-08-28 10:07:53</td>\n",
       "      <td>-1726</td>\n",
       "      <td>male</td>\n",
       "      <td>United Kingdom</td>\n",
       "      <td>NaN</td>\n",
       "      <td>No</td>\n",
       "      <td>No</td>\n",
       "      <td>Yes</td>\n",
       "      <td>Sometimes</td>\n",
       "      <td>26-100</td>\n",
       "      <td>No</td>\n",
       "      <td>No</td>\n",
       "      <td>No</td>\n",
       "      <td>No</td>\n",
       "      <td>No</td>\n",
       "      <td>No</td>\n",
       "      <td>Don't know</td>\n",
       "      <td>Somewhat difficult</td>\n",
       "      <td>Yes</td>\n",
       "      <td>No</td>\n",
       "      <td>No</td>\n",
       "      <td>No</td>\n",
       "      <td>No</td>\n",
       "      <td>Maybe</td>\n",
       "      <td>Don't know</td>\n",
       "      <td>No</td>\n",
       "      <td>NaN</td>\n",
       "    </tr>\n",
       "    <tr>\n",
       "      <th>734</th>\n",
       "      <td>2014-08-28 10:35:55</td>\n",
       "      <td>5</td>\n",
       "      <td>Male</td>\n",
       "      <td>United States</td>\n",
       "      <td>OH</td>\n",
       "      <td>No</td>\n",
       "      <td>No</td>\n",
       "      <td>No</td>\n",
       "      <td>NaN</td>\n",
       "      <td>100-500</td>\n",
       "      <td>No</td>\n",
       "      <td>Yes</td>\n",
       "      <td>Don't know</td>\n",
       "      <td>Not sure</td>\n",
       "      <td>No</td>\n",
       "      <td>No</td>\n",
       "      <td>Don't know</td>\n",
       "      <td>Somewhat easy</td>\n",
       "      <td>No</td>\n",
       "      <td>No</td>\n",
       "      <td>Yes</td>\n",
       "      <td>Yes</td>\n",
       "      <td>No</td>\n",
       "      <td>No</td>\n",
       "      <td>Yes</td>\n",
       "      <td>No</td>\n",
       "      <td>We had a developer suffer from depression and ...</td>\n",
       "    </tr>\n",
       "    <tr>\n",
       "      <th>989</th>\n",
       "      <td>2014-08-29 09:10:58</td>\n",
       "      <td>8</td>\n",
       "      <td>A little about you</td>\n",
       "      <td>Bahamas, The</td>\n",
       "      <td>IL</td>\n",
       "      <td>Yes</td>\n",
       "      <td>Yes</td>\n",
       "      <td>Yes</td>\n",
       "      <td>Often</td>\n",
       "      <td>1-5</td>\n",
       "      <td>Yes</td>\n",
       "      <td>Yes</td>\n",
       "      <td>Yes</td>\n",
       "      <td>Yes</td>\n",
       "      <td>Yes</td>\n",
       "      <td>Yes</td>\n",
       "      <td>Yes</td>\n",
       "      <td>Very easy</td>\n",
       "      <td>Yes</td>\n",
       "      <td>Yes</td>\n",
       "      <td>Yes</td>\n",
       "      <td>Yes</td>\n",
       "      <td>Yes</td>\n",
       "      <td>Yes</td>\n",
       "      <td>Yes</td>\n",
       "      <td>Yes</td>\n",
       "      <td></td>\n",
       "    </tr>\n",
       "    <tr>\n",
       "      <th>1090</th>\n",
       "      <td>2014-08-29 17:26:15</td>\n",
       "      <td>11</td>\n",
       "      <td>male</td>\n",
       "      <td>United States</td>\n",
       "      <td>OH</td>\n",
       "      <td>Yes</td>\n",
       "      <td>No</td>\n",
       "      <td>No</td>\n",
       "      <td>Never</td>\n",
       "      <td>1-5</td>\n",
       "      <td>Yes</td>\n",
       "      <td>Yes</td>\n",
       "      <td>No</td>\n",
       "      <td>Yes</td>\n",
       "      <td>No</td>\n",
       "      <td>No</td>\n",
       "      <td>Yes</td>\n",
       "      <td>Very easy</td>\n",
       "      <td>No</td>\n",
       "      <td>No</td>\n",
       "      <td>Some of them</td>\n",
       "      <td>Some of them</td>\n",
       "      <td>No</td>\n",
       "      <td>Maybe</td>\n",
       "      <td>Yes</td>\n",
       "      <td>No</td>\n",
       "      <td>NaN</td>\n",
       "    </tr>\n",
       "    <tr>\n",
       "      <th>1127</th>\n",
       "      <td>2014-08-30 20:55:11</td>\n",
       "      <td>-1</td>\n",
       "      <td>p</td>\n",
       "      <td>United States</td>\n",
       "      <td>AL</td>\n",
       "      <td>Yes</td>\n",
       "      <td>Yes</td>\n",
       "      <td>Yes</td>\n",
       "      <td>Often</td>\n",
       "      <td>1-5</td>\n",
       "      <td>Yes</td>\n",
       "      <td>Yes</td>\n",
       "      <td>Yes</td>\n",
       "      <td>Yes</td>\n",
       "      <td>Yes</td>\n",
       "      <td>Yes</td>\n",
       "      <td>Yes</td>\n",
       "      <td>Very easy</td>\n",
       "      <td>Yes</td>\n",
       "      <td>Yes</td>\n",
       "      <td>Yes</td>\n",
       "      <td>Yes</td>\n",
       "      <td>Yes</td>\n",
       "      <td>Yes</td>\n",
       "      <td>Yes</td>\n",
       "      <td>Yes</td>\n",
       "      <td>password: testered</td>\n",
       "    </tr>\n",
       "  </tbody>\n",
       "</table>\n",
       "</div>"
      ],
      "text/plain": [
       "              date_submit          age              gender    country_live  \\\n",
       "143   2014-08-27 12:39:14          -29                Male   United States   \n",
       "364   2014-08-27 15:05:21          329                Male   United States   \n",
       "390   2014-08-27 15:24:47  99999999999                 All        Zimbabwe   \n",
       "715   2014-08-28 10:07:53        -1726                male  United Kingdom   \n",
       "734   2014-08-28 10:35:55            5                Male   United States   \n",
       "989   2014-08-29 09:10:58            8  A little about you    Bahamas, The   \n",
       "1090  2014-08-29 17:26:15           11                male   United States   \n",
       "1127  2014-08-30 20:55:11           -1                   p   United States   \n",
       "\n",
       "     state_live self_employed family_history treatment interfere_untreated  \\\n",
       "143          MN            No             No        No                 NaN   \n",
       "364          OH            No             No       Yes               Often   \n",
       "390         NaN           Yes            Yes       Yes               Often   \n",
       "715         NaN            No             No       Yes           Sometimes   \n",
       "734          OH            No             No        No                 NaN   \n",
       "989          IL           Yes            Yes       Yes               Often   \n",
       "1090         OH           Yes             No        No               Never   \n",
       "1127         AL           Yes            Yes       Yes               Often   \n",
       "\n",
       "       num_employees remote tech_comp    benefits care_options  \\\n",
       "143   More than 1000    Yes        No         Yes           No   \n",
       "364             6-25    Yes       Yes         Yes          Yes   \n",
       "390              1-5     No       Yes          No          Yes   \n",
       "715           26-100     No        No          No           No   \n",
       "734          100-500     No       Yes  Don't know     Not sure   \n",
       "989              1-5    Yes       Yes         Yes          Yes   \n",
       "1090             1-5    Yes       Yes          No          Yes   \n",
       "1127             1-5    Yes       Yes         Yes          Yes   \n",
       "\n",
       "     wellness_program emp_help        anon           med_leave ment_conseq  \\\n",
       "143        Don't know      Yes  Don't know          Don't know          No   \n",
       "364                No       No  Don't know          Don't know       Maybe   \n",
       "390                No       No          No      Very difficult         Yes   \n",
       "715                No       No  Don't know  Somewhat difficult         Yes   \n",
       "734                No       No  Don't know       Somewhat easy          No   \n",
       "989               Yes      Yes         Yes           Very easy         Yes   \n",
       "1090               No       No         Yes           Very easy          No   \n",
       "1127              Yes      Yes         Yes           Very easy         Yes   \n",
       "\n",
       "     phys_conseq     coworkers   supervisors ment_interv phys_interv  \\\n",
       "143           No  Some of them           Yes          No          No   \n",
       "364           No  Some of them            No          No          No   \n",
       "390          Yes            No            No         Yes          No   \n",
       "715           No            No            No          No       Maybe   \n",
       "734           No           Yes           Yes          No          No   \n",
       "989          Yes           Yes           Yes         Yes         Yes   \n",
       "1090          No  Some of them  Some of them          No       Maybe   \n",
       "1127         Yes           Yes           Yes         Yes         Yes   \n",
       "\n",
       "     ment_vs_phys obs_conseq  \\\n",
       "143    Don't know         No   \n",
       "364            No         No   \n",
       "390            No        Yes   \n",
       "715    Don't know         No   \n",
       "734           Yes         No   \n",
       "989           Yes        Yes   \n",
       "1090          Yes         No   \n",
       "1127          Yes        Yes   \n",
       "\n",
       "                                               comments  \n",
       "143                                                 NaN  \n",
       "364                                                 NaN  \n",
       "390                                                 NaN  \n",
       "715                                                 NaN  \n",
       "734   We had a developer suffer from depression and ...  \n",
       "989                                                      \n",
       "1090                                                NaN  \n",
       "1127                                 password: testered  "
      ]
     },
     "execution_count": 14,
     "metadata": {},
     "output_type": "execute_result"
    }
   ],
   "source": [
    "mental14_df.loc[(mental14_df.age > 80) | (mental14_df.age < 18)]"
   ]
  },
  {
   "cell_type": "code",
   "execution_count": 15,
   "metadata": {},
   "outputs": [
    {
     "data": {
      "text/plain": [
       "array(['Female', 'M', 'Male', 'male', 'female', 'm', 'Male-ish', 'maile',\n",
       "       'Trans-female', 'Cis Female', 'F', 'something kinda male?',\n",
       "       'Cis Male', 'Woman', 'f', 'Mal', 'Male (CIS)', 'queer/she/they',\n",
       "       'non-binary', 'Femake', 'woman', 'Make', 'Nah', 'All', 'Enby',\n",
       "       'fluid', 'Genderqueer', 'Female ', 'Androgyne', 'Agender',\n",
       "       'cis-female/femme', 'Guy (-ish) ^_^', 'male leaning androgynous',\n",
       "       'Male ', 'Man', 'Trans woman', 'msle', 'Neuter', 'Female (trans)',\n",
       "       'queer', 'Female (cis)', 'Mail', 'cis male', 'A little about you',\n",
       "       'Malr', 'p', 'femail', 'Cis Man',\n",
       "       'ostensibly male, unsure what that really means'], dtype=object)"
      ]
     },
     "execution_count": 15,
     "metadata": {},
     "output_type": "execute_result"
    }
   ],
   "source": [
    "mental14_df.gender.unique()"
   ]
  },
  {
   "cell_type": "code",
   "execution_count": 16,
   "metadata": {},
   "outputs": [
    {
     "data": {
      "text/plain": [
       "array(['United States', 'Canada', 'United Kingdom', 'Bulgaria', 'France',\n",
       "       'Portugal', 'Netherlands', 'Switzerland', 'Poland', 'Australia',\n",
       "       'Germany', 'Russia', 'Mexico', 'Brazil', 'Slovenia', 'Costa Rica',\n",
       "       'Austria', 'Ireland', 'India', 'South Africa', 'Italy', 'Sweden',\n",
       "       'Colombia', 'Latvia', 'Romania', 'Belgium', 'New Zealand',\n",
       "       'Zimbabwe', 'Spain', 'Finland', 'Uruguay', 'Israel',\n",
       "       'Bosnia and Herzegovina', 'Hungary', 'Singapore', 'Japan',\n",
       "       'Nigeria', 'Croatia', 'Norway', 'Thailand', 'Denmark',\n",
       "       'Bahamas, The', 'Greece', 'Moldova', 'Georgia', 'China',\n",
       "       'Czech Republic', 'Philippines'], dtype=object)"
      ]
     },
     "execution_count": 16,
     "metadata": {},
     "output_type": "execute_result"
    }
   ],
   "source": [
    "mental14_df.country_live.unique()"
   ]
  },
  {
   "cell_type": "code",
   "execution_count": 17,
   "metadata": {},
   "outputs": [
    {
     "data": {
      "text/plain": [
       "4"
      ]
     },
     "execution_count": 17,
     "metadata": {},
     "output_type": "execute_result"
    }
   ],
   "source": [
    "len(mental14_df.loc[(mental14_df.state_live.notnull()) & (mental14_df.country_live != 'United States')])"
   ]
  },
  {
   "cell_type": "code",
   "execution_count": 18,
   "metadata": {},
   "outputs": [
    {
     "data": {
      "text/plain": [
       "11"
      ]
     },
     "execution_count": 18,
     "metadata": {},
     "output_type": "execute_result"
    }
   ],
   "source": [
    "len(mental14_df.loc[(mental14_df.state_live.isnull()) & (mental14_df.country_live == 'United States')])"
   ]
  },
  {
   "cell_type": "code",
   "execution_count": 19,
   "metadata": {},
   "outputs": [
    {
     "data": {
      "text/plain": [
       "array([nan, 'Yes', 'No'], dtype=object)"
      ]
     },
     "execution_count": 19,
     "metadata": {},
     "output_type": "execute_result"
    }
   ],
   "source": [
    "mental14_df.self_employed.unique()"
   ]
  },
  {
   "cell_type": "code",
   "execution_count": 20,
   "metadata": {},
   "outputs": [
    {
     "data": {
      "text/plain": [
       "No     1095\n",
       "Yes     146\n",
       "Name: self_employed, dtype: int64"
      ]
     },
     "execution_count": 20,
     "metadata": {},
     "output_type": "execute_result"
    }
   ],
   "source": [
    "mental14_df.self_employed.value_counts()"
   ]
  },
  {
   "cell_type": "code",
   "execution_count": 21,
   "metadata": {},
   "outputs": [
    {
     "data": {
      "text/plain": [
       "18"
      ]
     },
     "execution_count": 21,
     "metadata": {},
     "output_type": "execute_result"
    }
   ],
   "source": [
    "len(mental14_df.loc[mental14_df.self_employed.isnull()])"
   ]
  },
  {
   "cell_type": "code",
   "execution_count": 22,
   "metadata": {},
   "outputs": [
    {
     "data": {
      "text/plain": [
       "array(['Often', 'Rarely', 'Never', 'Sometimes', nan], dtype=object)"
      ]
     },
     "execution_count": 22,
     "metadata": {},
     "output_type": "execute_result"
    }
   ],
   "source": [
    "mental14_df.interfere_untreated.unique()"
   ]
  },
  {
   "cell_type": "code",
   "execution_count": 23,
   "metadata": {},
   "outputs": [
    {
     "data": {
      "text/plain": [
       "264"
      ]
     },
     "execution_count": 23,
     "metadata": {},
     "output_type": "execute_result"
    }
   ],
   "source": [
    "len(mental14_df.loc[mental14_df.interfere_untreated.isnull()])"
   ]
  },
  {
   "cell_type": "code",
   "execution_count": 24,
   "metadata": {},
   "outputs": [
    {
     "data": {
      "text/plain": [
       "array(['6-25', 'More than 1000', '26-100', '100-500', '1-5', '500-1000'], dtype=object)"
      ]
     },
     "execution_count": 24,
     "metadata": {},
     "output_type": "execute_result"
    }
   ],
   "source": [
    "mental14_df.num_employees.unique()"
   ]
  },
  {
   "cell_type": "code",
   "execution_count": 25,
   "metadata": {},
   "outputs": [
    {
     "data": {
      "text/plain": [
       "array(['Yes', \"Don't know\", 'No'], dtype=object)"
      ]
     },
     "execution_count": 25,
     "metadata": {},
     "output_type": "execute_result"
    }
   ],
   "source": [
    "mental14_df.benefits.unique()"
   ]
  },
  {
   "cell_type": "code",
   "execution_count": 26,
   "metadata": {},
   "outputs": [
    {
     "data": {
      "text/plain": [
       "408"
      ]
     },
     "execution_count": 26,
     "metadata": {},
     "output_type": "execute_result"
    }
   ],
   "source": [
    "len(mental14_df.loc[mental14_df.benefits == 'Don\\'t know'])"
   ]
  },
  {
   "cell_type": "code",
   "execution_count": 27,
   "metadata": {},
   "outputs": [
    {
     "data": {
      "text/plain": [
       "array(['Not sure', 'No', 'Yes'], dtype=object)"
      ]
     },
     "execution_count": 27,
     "metadata": {},
     "output_type": "execute_result"
    }
   ],
   "source": [
    "mental14_df.care_options.unique()"
   ]
  },
  {
   "cell_type": "code",
   "execution_count": 28,
   "metadata": {},
   "outputs": [
    {
     "data": {
      "text/plain": [
       "314"
      ]
     },
     "execution_count": 28,
     "metadata": {},
     "output_type": "execute_result"
    }
   ],
   "source": [
    "len(mental14_df.loc[mental14_df.care_options == 'Not sure'])"
   ]
  },
  {
   "cell_type": "code",
   "execution_count": 29,
   "metadata": {},
   "outputs": [
    {
     "data": {
      "text/plain": [
       "array(['No', \"Don't know\", 'Yes'], dtype=object)"
      ]
     },
     "execution_count": 29,
     "metadata": {},
     "output_type": "execute_result"
    }
   ],
   "source": [
    "mental14_df.wellness_program.unique()"
   ]
  },
  {
   "cell_type": "code",
   "execution_count": 30,
   "metadata": {},
   "outputs": [
    {
     "data": {
      "text/plain": [
       "188"
      ]
     },
     "execution_count": 30,
     "metadata": {},
     "output_type": "execute_result"
    }
   ],
   "source": [
    "len(mental14_df.loc[mental14_df.wellness_program == 'Don\\'t know'])"
   ]
  },
  {
   "cell_type": "code",
   "execution_count": 31,
   "metadata": {},
   "outputs": [
    {
     "data": {
      "text/plain": [
       "array(['Yes', \"Don't know\", 'No'], dtype=object)"
      ]
     },
     "execution_count": 31,
     "metadata": {},
     "output_type": "execute_result"
    }
   ],
   "source": [
    "mental14_df.emp_help.unique()"
   ]
  },
  {
   "cell_type": "code",
   "execution_count": 32,
   "metadata": {},
   "outputs": [
    {
     "data": {
      "text/plain": [
       "363"
      ]
     },
     "execution_count": 32,
     "metadata": {},
     "output_type": "execute_result"
    }
   ],
   "source": [
    "len(mental14_df.loc[mental14_df.emp_help == 'Don\\'t know'])"
   ]
  },
  {
   "cell_type": "code",
   "execution_count": 33,
   "metadata": {},
   "outputs": [
    {
     "data": {
      "text/plain": [
       "array(['Yes', \"Don't know\", 'No'], dtype=object)"
      ]
     },
     "execution_count": 33,
     "metadata": {},
     "output_type": "execute_result"
    }
   ],
   "source": [
    "mental14_df.anon.unique()"
   ]
  },
  {
   "cell_type": "code",
   "execution_count": 34,
   "metadata": {},
   "outputs": [
    {
     "data": {
      "text/plain": [
       "819"
      ]
     },
     "execution_count": 34,
     "metadata": {},
     "output_type": "execute_result"
    }
   ],
   "source": [
    "len(mental14_df.loc[mental14_df.anon == 'Don\\'t know'])"
   ]
  },
  {
   "cell_type": "code",
   "execution_count": 35,
   "metadata": {},
   "outputs": [
    {
     "data": {
      "text/plain": [
       "array(['Somewhat easy', \"Don't know\", 'Somewhat difficult',\n",
       "       'Very difficult', 'Very easy'], dtype=object)"
      ]
     },
     "execution_count": 35,
     "metadata": {},
     "output_type": "execute_result"
    }
   ],
   "source": [
    "mental14_df.med_leave.unique()"
   ]
  },
  {
   "cell_type": "code",
   "execution_count": 36,
   "metadata": {},
   "outputs": [
    {
     "data": {
      "text/plain": [
       "563"
      ]
     },
     "execution_count": 36,
     "metadata": {},
     "output_type": "execute_result"
    }
   ],
   "source": [
    "len(mental14_df.loc[mental14_df.med_leave == 'Don\\'t know'])"
   ]
  },
  {
   "cell_type": "code",
   "execution_count": 37,
   "metadata": {},
   "outputs": [
    {
     "data": {
      "text/plain": [
       "array(['No', 'Maybe', 'Yes'], dtype=object)"
      ]
     },
     "execution_count": 37,
     "metadata": {},
     "output_type": "execute_result"
    }
   ],
   "source": [
    "mental14_df.ment_conseq.unique()"
   ]
  },
  {
   "cell_type": "code",
   "execution_count": 38,
   "metadata": {},
   "outputs": [
    {
     "data": {
      "text/plain": [
       "array(['No', 'Yes', 'Maybe'], dtype=object)"
      ]
     },
     "execution_count": 38,
     "metadata": {},
     "output_type": "execute_result"
    }
   ],
   "source": [
    "mental14_df.phys_conseq.unique()"
   ]
  },
  {
   "cell_type": "code",
   "execution_count": 39,
   "metadata": {},
   "outputs": [
    {
     "data": {
      "text/plain": [
       "array(['Some of them', 'No', 'Yes'], dtype=object)"
      ]
     },
     "execution_count": 39,
     "metadata": {},
     "output_type": "execute_result"
    }
   ],
   "source": [
    "mental14_df.coworkers.unique()"
   ]
  },
  {
   "cell_type": "code",
   "execution_count": 40,
   "metadata": {},
   "outputs": [
    {
     "data": {
      "text/plain": [
       "array(['Yes', 'No', 'Some of them'], dtype=object)"
      ]
     },
     "execution_count": 40,
     "metadata": {},
     "output_type": "execute_result"
    }
   ],
   "source": [
    "mental14_df.supervisors.unique()"
   ]
  },
  {
   "cell_type": "code",
   "execution_count": 41,
   "metadata": {},
   "outputs": [
    {
     "data": {
      "text/plain": [
       "array(['No', 'Yes', 'Maybe'], dtype=object)"
      ]
     },
     "execution_count": 41,
     "metadata": {},
     "output_type": "execute_result"
    }
   ],
   "source": [
    "mental14_df.ment_interv.unique()"
   ]
  },
  {
   "cell_type": "code",
   "execution_count": 42,
   "metadata": {},
   "outputs": [
    {
     "data": {
      "text/plain": [
       "array(['Maybe', 'No', 'Yes'], dtype=object)"
      ]
     },
     "execution_count": 42,
     "metadata": {},
     "output_type": "execute_result"
    }
   ],
   "source": [
    "mental14_df.phys_interv.unique()"
   ]
  },
  {
   "cell_type": "code",
   "execution_count": 43,
   "metadata": {},
   "outputs": [
    {
     "data": {
      "text/plain": [
       "array(['Yes', \"Don't know\", 'No'], dtype=object)"
      ]
     },
     "execution_count": 43,
     "metadata": {},
     "output_type": "execute_result"
    }
   ],
   "source": [
    "mental14_df.ment_vs_phys.unique()"
   ]
  },
  {
   "cell_type": "code",
   "execution_count": 44,
   "metadata": {},
   "outputs": [
    {
     "data": {
      "text/plain": [
       "576"
      ]
     },
     "execution_count": 44,
     "metadata": {},
     "output_type": "execute_result"
    }
   ],
   "source": [
    "len(mental14_df.loc[mental14_df.ment_vs_phys == 'Don\\'t know'])"
   ]
  },
  {
   "cell_type": "code",
   "execution_count": 45,
   "metadata": {},
   "outputs": [
    {
     "data": {
      "text/plain": [
       "161"
      ]
     },
     "execution_count": 45,
     "metadata": {},
     "output_type": "execute_result"
    }
   ],
   "source": [
    "len(mental14_df.comments.unique())"
   ]
  },
  {
   "cell_type": "code",
   "execution_count": 46,
   "metadata": {},
   "outputs": [
    {
     "data": {
      "text/plain": [
       "1095"
      ]
     },
     "execution_count": 46,
     "metadata": {},
     "output_type": "execute_result"
    }
   ],
   "source": [
    "len(mental14_df.loc[mental14_df.comments.isnull()])"
   ]
  },
  {
   "cell_type": "markdown",
   "metadata": {},
   "source": [
    "### Extract and Merge Timestamps Into 2016 DF"
   ]
  },
  {
   "cell_type": "code",
   "execution_count": null,
   "metadata": {},
   "outputs": [],
   "source": [
    "mental16_df.shape, mental16_meta_df.shape"
   ]
  },
  {
   "cell_type": "code",
   "execution_count": null,
   "metadata": {},
   "outputs": [],
   "source": [
    "mental16_meta_df.head()"
   ]
  },
  {
   "cell_type": "code",
   "execution_count": null,
   "metadata": {
    "collapsed": true
   },
   "outputs": [],
   "source": [
    "mental16_meta_df = pd.DataFrame.from_records(mental16_meta_df.metadata.values)"
   ]
  },
  {
   "cell_type": "code",
   "execution_count": null,
   "metadata": {},
   "outputs": [],
   "source": [
    "mental16_meta_df.head()"
   ]
  },
  {
   "cell_type": "code",
   "execution_count": null,
   "metadata": {
    "collapsed": true
   },
   "outputs": [],
   "source": [
    "mental16_meta_df.drop(['browser', 'network_id', 'platform', 'referer'], axis=1, inplace=True)"
   ]
  },
  {
   "cell_type": "code",
   "execution_count": null,
   "metadata": {},
   "outputs": [],
   "source": [
    "mental16_meta_df.head()"
   ]
  },
  {
   "cell_type": "code",
   "execution_count": null,
   "metadata": {
    "collapsed": true
   },
   "outputs": [],
   "source": [
    "mental16_df = pd.concat([mental16_meta_df, mental16_df], axis=1)"
   ]
  },
  {
   "cell_type": "markdown",
   "metadata": {},
   "source": [
    "['date_land', 'date_submit', 'user_agent', 'self_employed',\n",
    "       'num_employees', 'tech_comp', 'tech_role', 'benefits',\n",
    "       'care_options', 'wellness_program', 'emp_help', 'anon', 'med_leave',\n",
    "       'ment_conseq', 'phys_conseq', 'coworkers', 'supervisors',\n",
    "       'ment_vs_phys', 'obs_conseq', 'ment_med_cov', 'online_help',\n",
    "       'reveal_clients', 'reveal_clients_neg', 'reveal_workers',\n",
    "       'reveal_workers_neg', 'productivity', 'productivity_perc',\n",
    "       'prev_emp', 'pe_benefits', 'pe_care_options', 'pe_wellness',\n",
    "       'pe_emp_help', 'pe_anon', 'pe_ment_cons', 'pe_phys_cons',\n",
    "       'pe_coworkers', 'pe_supervisors', 'pe_ment_vs_phys',\n",
    "       'pe_obs_conseq', 'phys_interv', 'phys_interv_why', 'ment_interv',\n",
    "       'ment_interv_why', 'ment_hurt_career', 'coworkers_neg', 'share_fam',\n",
    "       'bad_event', 'less_another', 'family_history', 'past_disorder',\n",
    "       'current_disorder', 'yes_condition', 'maybe_condition', 'diagnosis',\n",
    "       'diag_condition', 'treatment', 'interfere_treated',\n",
    "       'interfere_untreated', 'age', 'gender', 'country_live',\n",
    "       'state_live', 'country_work', 'state_work', 'job_position', 'remote']"
   ]
  },
  {
   "cell_type": "markdown",
   "metadata": {},
   "source": [
    "### 2016 Dataset Features\n",
    "1. <b>date_land</b> : datetime of when survey is first opened\n",
    "2. <b>date_submit</b> : datetime of when survey is submitted\n",
    "3. <b>user_agent</b> : user's browser and computer\n",
    "4. <b>self_employed</b> : Are you self-employed?\n",
    "5. <b>num_employees</b> : How many employees does your company or organization have?\n",
    "6. <b>tech_comp</b> : Is your employer primarily a tech company/organization?\n",
    "7. <b>tech_role</b> : Is your primary role within your company related to tech/IT?\n",
    "8. <b>benefits</b> : Does your employer provide mental health benefits as part of healthcare coverage?\n",
    "9. <b>care_options</b> : Do you know the options for mental health care available under your employer-provided coverage?\n",
    "10. <b>wellness_program</b> : Has your employer ever formally discussed mental health (for example, as part of a wellness campaign or other official communication)?\n",
    "11. <b>emp_help</b> : Does your employer offer resources to learn more about mental health concerns and options for seeking help?\n",
    "12. <b>anon</b> : Is your anonymity protected if you choose to take advantage of mental health or substance abuse treatment resources provided by your employer?\n",
    "13. <b>med_leave</b> : If a mental health issue prompted you to request a medical leave from work, asking for that leave would be:\n",
    "14. <b>ment_conseq</b> : Do you think that discussing a mental health disorder with your employer would have negative consequences?\n",
    "15. <b>phys_conseq</b> : Do you think that discussing a physical health issue with your employer would have negative consequences?\n",
    "16. <b>coworkers</b> : Would you feel comfortable discussing a mental health disorder with your coworkers?\n",
    "17. <b>supervisors</b> : Would you feel comfortable discussing a mental health disorder with your direct supervisor(s)?\n",
    "18. <b>ment_vs_phys</b> : Do you feel that your employer takes mental health as seriously as physical health?\n",
    "19. <b>obs_conseq</b> : Have you heard of or observed negative consequences for co-workers who have been open about mental health issues in your workplace?\n",
    "20. <b>ment_med_cov</b> : Do you have medical coverage (private insurance or state-provided) which includes treatment of  mental health issues?\n",
    "21. <b>online_help</b> : Do you know local or online resources to seek help for a mental health disorder?\n",
    "22. <b>reveal_clients</b> : If you have been diagnosed or treated for a mental health disorder, do you ever reveal this to clients or business contacts?\n",
    "23. <b>reveal_clients_neg</b> : If you have revealed a mental health issue to a client or business contact, do you believe this has impacted you negatively?\n",
    "24. <b>reveal_workers</b> : If you have been diagnosed or treated for a mental health disorder, do you ever reveal this to coworkers or employees?\n",
    "25. <b>reveal_workers_neg</b> : If you have revealed a mental health issue to a coworker or employee, do you believe this has impacted you negatively?\n",
    "26. <b>productivity</b> : Do you believe your productivity is ever affected by a mental health issue?\n",
    "27. <b>productivity_perc</b> : If yes, what percentage of your work time (time performing primary or secondary job functions) is affected by a mental health issue?\n",
    "28. <b>prev_emps</b> : Do you have previous employers?\n",
    "29. <b>pe_benefits</b> : Have your previous employers provided mental health benefits?\n",
    "30. <b>pe_care_options</b> : Were you aware of the options for mental health care provided by your previous employers?\n",
    "31. <b>pe_wellness_program</b> : Did your previous employers ever formally discuss mental health (as part of a wellness campaign or other official communication)?\n",
    "32. <b>pe_emp_help</b> : Did your previous employers provide resources to learn more about mental health issues and how to seek help?\n",
    "33. <b>pe_anon</b> : Was your anonymity protected if you chose to take advantage of mental health or substance abuse treatment resources with previous employers?\n",
    "34. <b>pe_ment_conseq</b> : Do you think that discussing a mental health disorder with previous employers would have negative consequences?\n",
    "35. <b>pe_phys_conseq</b> : Do you think that discussing a physical health issue with previous employers would have negative consequences?\n",
    "36. <b>pe_coworkers</b> : Would you have been willing to discuss a mental health issue with your previous co-workers?\n",
    "37. <b>pe_supervisors</b> : Would you feel comfortable discussing a mental health disorder with your previous direct supervisor(s)?\n",
    "38. <b>pe_ment_vs_phys</b> : Did you feel that your previous employers took mental health as seriously as physical health?\n",
    "39. <b>pe_obs_conseq</b> : Did you hear of or observe negative consequences for co-workers with mental health issues in your previous workplaces?\n",
    "40. <b>phys_interv</b> : Would you be willing to bring up a physical health issue with a potential employer in an interview?\n",
    "41. <b>phys_interv_why</b> : Reason for choosing the above\n",
    "42. <b>ment_interv</b> : Would you bring up a mental health issue with a potential employer in an interview?\n",
    "43. <b>ment_interv_why</b> : Reason for choosing the above\n",
    "44. <b>ment_hurt_career</b> : Do you feel that being identified as a person with a mental health issue would hurt your career?\n",
    "45. <b>coworkers_neg</b> : Do you think that team members/co-workers would view you more negatively if they knew you suffered from a mental health issue?\n",
    "46. <b>share_fam</b> : How willing would you be to share with friends and family that you have a mental illness?\n",
    "47. <b>bad_event</b> : Have you observed or experienced an unsupportive or badly handled response to a mental health issue in your current or previous workplace?\n",
    "48. <b>less_another</b> : Have your observations of how another individual who discussed a mental health disorder made you less likely to reveal a mental health issue yourself in your current workplace?\n",
    "49. <b>family_history</b> : Do you have a family history of mental illness?\n",
    "50. <b>past_disorder</b> : Have you had a mental health disorder in the past?\n",
    "51. <b>current_disorder</b> : Do you currently have a mental health disorder?\n",
    "52. <b>yes_condition</b> : If yes, what condition(s) have you been diagnosed with?\n",
    "53. <b>maybe_condition</b> : If maybe, what condition(s) do you believe you have?\n",
    "54. <b>diagnosis</b> : Have you been diagnosed with a mental health condition by a medical professional?\n",
    "55. <b>diag_condition</b> : If so, what condition(s) were you diagnosed with?\n",
    "56. <b>treatment</b> : Have you ever sought treatment for a mental health issue from a mental health professional?\n",
    "57. <b>interfere_treated</b> : If you have a mental health issue, do you feel that it interferes with your work when being treated effectively?\n",
    "58. <b>interfere_untreated</b> : If you have a mental health issue, do you feel that it interferes with your work when NOT being treated effectively?\n",
    "59. <b>age</b> : What is your age?\n",
    "60. <b>gender</b> : What is your gender?\n",
    "61. <b>country_live</b> : What country do you live in?\n",
    "62. <b>state_live</b> : What US state or territory do you live in?\n",
    "63. <b>country_work</b> : What country do you work in?\n",
    "64. <b>state_work</b> : What US state or territory do you work in?\n",
    "65. <b>job_position</b> : Which of the following best describes your work position?\n",
    "66. <b>remote</b> : Do you work remotely?"
   ]
  },
  {
   "cell_type": "markdown",
   "metadata": {},
   "source": [
    "### Extra Features Not in 2014 Dataset\n",
    "1. tech_role\n",
    "2. ment_med_cov\n",
    "3. online_help\n",
    "4. reveal_clients\n",
    "5. reveal_clients_neg\n",
    "6. reveal_workers\n",
    "7. reveal_workers_neg\n",
    "8. productivity\n",
    "9. productivity_perc\n",
    "10. prev_emps\n",
    "11. pe_benefits\n",
    "12. pe_care_options\n",
    "13. pe_wellness_program\n",
    "14. pe_emp_help\n",
    "15. pe_anon\n",
    "16. pe_ment_conseq\n",
    "17. pe_phys_conseq\n",
    "18. pe_coworkers\n",
    "19. pe_supervisors\n",
    "20. pe_ment_vs_phys\n",
    "21. pe_obs_conseq\n",
    "22. phys_interv_why\n",
    "23. ment_interv_why\n",
    "24. ment_hurt_career\n",
    "25. coworkers_neg\n",
    "26. share_fam\n",
    "27. bad_event\n",
    "28. less_another\n",
    "29. past_disorder\n",
    "30. current_disorder\n",
    "31. yes_condition\n",
    "32. maybe_condition\n",
    "33. diagnosis\n",
    "34. diag_condition\n",
    "35. interfere_treated\n",
    "36. interfere_untreated\n",
    "37. country_work\n",
    "38. state_work\n",
    "39. job_position"
   ]
  },
  {
   "cell_type": "code",
   "execution_count": null,
   "metadata": {},
   "outputs": [],
   "source": [
    "mental16_df.shape"
   ]
  },
  {
   "cell_type": "code",
   "execution_count": null,
   "metadata": {
    "scrolled": false
   },
   "outputs": [],
   "source": [
    "mental16_df.head()"
   ]
  },
  {
   "cell_type": "code",
   "execution_count": null,
   "metadata": {
    "collapsed": true
   },
   "outputs": [],
   "source": [
    "mental16_relabels = [\n",
    "    'date_land', 'date_submit', 'user_agent', 'self_employed', 'num_employees', 'tech_comp', 'tech_role',\n",
    "    'benefits', 'care_options', 'wellness_program', 'emp_help', 'anon', 'med_leave', 'ment_conseq',\n",
    "    'phys_conseq', 'coworkers', 'supervisors', 'ment_vs_phys', 'obs_conseq', 'ment_med_cov', 'online_help',\n",
    "    'reveal_clients', 'reveal_clients_neg', 'reveal_workers', 'reveal_workers_neg', 'productivity',\n",
    "    'productivity_perc', 'prev_emps', 'pe_benefits', 'pe_care_options', 'pe_wellness_program', 'pe_emp_help',\n",
    "    'pe_anon', 'pe_ment_conseq', 'pe_phys_conseq', 'pe_coworkers', 'pe_supervisors', 'pe_ment_vs_phys',\n",
    "    'pe_obs_conseq', 'phys_interv', 'phys_interv_why', 'ment_interv', 'ment_interv_why', 'ment_hurt_career',\n",
    "    'coworkers_neg', 'share_fam', 'bad_event', 'less_another', 'family_history', 'past_disorder',\n",
    "    'current_disorder', 'yes_condition', 'maybe_condition', 'diagnosis', 'diag_condition', 'treatment',\n",
    "    'interfere_treated', 'interfere_untreated', 'age', 'gender', 'country_live', 'state_live', 'country_work',\n",
    "    'state_work', 'job_position', 'remote'\n",
    "]"
   ]
  },
  {
   "cell_type": "code",
   "execution_count": null,
   "metadata": {
    "collapsed": true
   },
   "outputs": [],
   "source": [
    "mental16_df.columns = mental16_relabels"
   ]
  },
  {
   "cell_type": "code",
   "execution_count": null,
   "metadata": {
    "scrolled": true
   },
   "outputs": [],
   "source": [
    "mental16_df.head()"
   ]
  },
  {
   "cell_type": "code",
   "execution_count": null,
   "metadata": {
    "collapsed": true
   },
   "outputs": [],
   "source": [
    "mental16_df.describe()"
   ]
  },
  {
   "cell_type": "code",
   "execution_count": null,
   "metadata": {
    "collapsed": true
   },
   "outputs": [],
   "source": [
    "mental16_df.describe(include=['O'])"
   ]
  },
  {
   "cell_type": "code",
   "execution_count": null,
   "metadata": {
    "collapsed": true
   },
   "outputs": [],
   "source": [
    "mental16_df.info()"
   ]
  },
  {
   "cell_type": "code",
   "execution_count": null,
   "metadata": {
    "collapsed": true
   },
   "outputs": [],
   "source": []
  }
 ],
 "metadata": {
  "kernelspec": {
   "display_name": "Python 3",
   "language": "python",
   "name": "python3"
  },
  "language_info": {
   "codemirror_mode": {
    "name": "ipython",
    "version": 3
   },
   "file_extension": ".py",
   "mimetype": "text/x-python",
   "name": "python",
   "nbconvert_exporter": "python",
   "pygments_lexer": "ipython3",
   "version": "3.6.1"
  }
 },
 "nbformat": 4,
 "nbformat_minor": 2
}
