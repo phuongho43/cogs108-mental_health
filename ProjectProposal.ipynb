{
 "cells": [
  {
   "cell_type": "markdown",
   "metadata": {},
   "source": [
    "# COGS 108 - Assignment 4: Project Proposal"
   ]
  },
  {
   "cell_type": "markdown",
   "metadata": {},
   "source": [
    "## Important\n",
    "\n",
    "- Make sure all group member (3-5 people) are listed in the group members section.\n",
    "- ONE, and only one, member of your group should upload this notebook to TritonED. \n",
    "- Each member of the group will receive the same grade on this assignment. \n",
    "- Keep the file name the same: submit the file 'A4_ProjectProposal.ipynb'"
   ]
  },
  {
   "cell_type": "markdown",
   "metadata": {},
   "source": [
    "## Overview"
   ]
  },
  {
   "cell_type": "markdown",
   "metadata": {},
   "source": [
    "Read the project description, and detailed instructions for this assignment, in the 'A4_ProjectOutlineAndProposal' pdf."
   ]
  },
  {
   "cell_type": "markdown",
   "metadata": {},
   "source": [
    "## Group Members: Fill in the Student ID's of each group member here\n",
    "- A11984057\n",
    "- A11163125\n",
    "- A91134536\n",
    "- A12174748\n",
    "- A12321704 "
   ]
  },
  {
   "cell_type": "markdown",
   "metadata": {},
   "source": [
    "### Research Question\n",
    "\n",
    "What is your research question? (1-2 sentences)"
   ]
  },
  {
   "cell_type": "markdown",
   "metadata": {},
   "source": [
    "What are the strongest predictors of attitudes towards mental health in the workplace?"
   ]
  },
  {
   "cell_type": "markdown",
   "metadata": {},
   "source": [
    "### Hypothesis\n",
    "\n",
    "What is your prediction (2-3 sentences)"
   ]
  },
  {
   "cell_type": "markdown",
   "metadata": {},
   "source": [
    "We predict increase of age or older people will be less comfortable when talking about mental health. Secondly, countries where healthcare is more accessible and of better quality will perceive less stigma around issues of mental health. Lastly, we think there will be more mental health stigma for males when compared to females. "
   ]
  },
  {
   "cell_type": "markdown",
   "metadata": {},
   "source": [
    "### Dataset(s)\n",
    "\n",
    "What data will you use to answer your question? Describe the dataset in terms of number of observations, what kind of features it contains, etc. You must use at least one dataset containing at least approximately 1000 observations (if your data are smaller but you feel they are sufficient, email Prof. Voytek). You are welcome (and in fact recommended) to find multiple datasets! If you do so, describe each one, and briefly explain how you will combine them together. "
   ]
  },
  {
   "cell_type": "markdown",
   "metadata": {},
   "source": [
    "- 1st Dataset Name: OSMI Mental Health in Tech Survey 2016\n",
    "- Link to the dataset: https://www.kaggle.com/osmi/mental-health-in-tech-2016 \n",
    "- Number of observations: 1433\n",
    "- Number of features: 63\n",
    "\n",
    "- 2nd Dataset Name: OSMI Mental Health in Tech Survey 2014\n",
    "- Link to the dataset: https://www.kaggle.com/osmi/mental-health-in-tech-survey\n",
    "- Number of observations: 1259\n",
    "- Number of features: 27\n",
    "\n",
    "The first dataset provides the results from the Open Sourcing Mental Illness (OSMI) Mental Health in Tech Survey from 2016, leading to 1433 observations from individuals who work and don’t work in tech/ IT work places. The data has 63 features which include gender, age, whether they work in a tech company, whether they have participated in physical and mental health interviews, medical history of family, whether their company provides mental health coverage, among others factors.\n",
    "\n",
    "The second dataset is a similar survey in 2014 from the same organization. It contains 1259 observations and 27 features, many of which are similar to the ones from the first dataset including our features of interest: gender, age, country, and others relating to mental stigma. \n",
    "\n",
    "We plan on doing analysis on the other extra features from the first dataset but we can combine the datasets based on the columns that they have in common. This can be achieved by making copies of the dataframes, dropping the extra columns from the 2016 dataframe, relabeling the columns of both to match each other, and finally concatenating them row-wise.\n",
    "\n",
    "These two datasets should contain enough observations and features to explore our hypothesis. However, as we explore and analyze the data, there might be a need to bring in another dataset to explore certain findings in greater detail. An example would be a dataset about healthcare coverage by country."
   ]
  },
  {
   "cell_type": "markdown",
   "metadata": {},
   "source": [
    "### Background & Prior Work\n",
    "\n",
    "Why is this question of interest, what background information led you to your hypothesis, and why is this important?\n",
    "\n",
    "Find some relevant prior work, and reference them. Even if you think you have a totally novel question, find the most similar prior work you can, and discuss how it relates to your project. \n",
    "\n",
    "References can be research publications, but they need not be: blogs, github repositories, company websites, etc., are viable references if they are relevant to your project.\n",
    "\n",
    "(2-3 paragraphs, including at least 2 references)"
   ]
  },
  {
   "cell_type": "markdown",
   "metadata": {},
   "source": [
    "Mental health is a global scale challenge confronting our culture. According to The United Nations “at any given time, its is estimated that approximately 20% of the adult population have a mental health problem” (Phyllis). This equates to nearly one and a half billion people who encounter mental health issues. Thus, we selected the overarching umbrella topic to be centered on mental health statistics. To further narrow the scope we selected stigmatization amongst employees in the tech industry given it is a potential career path for most of the members of the team.\n",
    "\n",
    "Currently, mental health is a stigmatized topic of conversation given the “prejudice against people with mental illness” (Corrigan). It’s taboo and no one likes to talk about it. With so much at stake, money, investments, reputation and more, workplace stress levels run high in today's high-functioning society. Especially in the growing trends of startup culture, the rigors of working within technology and innovation are presenting increased risk factors and symptoms towards developing conditions such as anxiety or depression. Recently deemed “Silicon Valley’s Secret,” mental health issues are appearing to have a noticeable prevalence amongst entrepreneurs and workers in the technology industry. This heightened pressure and demand for results at rapid pace has normalized an unspoken rule that categorizes these struggles in a negative light. \n",
    "\n",
    "We believe stigma will be higher amongst older adults because a study found “more negative attitudes... among those who believed that depression is a sign of personal weakness” (Jang). One assumption for this reason can be due to new studies and the classification of mental health issues as a medical condition like ADHD as opposed to an older perspective of weakness in the character of the individual. Similarly, we hypothesize males will demonstrate more stigma given previous studies showed males have less knowledge of mental health and more stigma given females are twice as much willingness to use mental health services (Chandra).\n",
    "\n",
    "Referencess (include a link):\n",
    "- 1)Chandra, Anita, and Cynthia S. Minkovitz. \"Stigma starts early: Gender differences in teen willingness to use mental health services.\" Journal of Adolescent Health 38.6 (2006): 754-e1.\n",
    "http://www.sciencedirect.com/science/article/pii/S1054139X05003952\n",
    "- 2)Corrigan, Patrick W., and Amy C. Watson. \"Understanding the Impact of Stigma on People with Mental Illness.\" World Psychiatry. Masson Italy, Feb. 2002. Web. 19 May 2017. <https://www.ncbi.nlm.nih.gov/pmc/articles/PMC1489832/>.\n",
    "- 3) Phyllis, Gabriel, Marjo-Riitta Liimatainen, and International Labor Office. \"Are You More Than Okay: The State of Mental Health in Tech in 2016.\" Cornell University DigitalCommons@ILR. GLADNET Collection, Jan. 2000. Web. 17 May 2017. <http://digitalcommons.ilr.cornell.edu/cgi/viewcontent.cgi?article=1224&context=gladnetcollect>.\n",
    "- 4) Jang, Yuri, David A. Chiriboga, and Sumie Okazaki. \"Attitudes toward mental health services: Age-group differences in Korean American adults.\" Aging and Mental Health 13.1 (2009): 127-134.\n",
    "http://www.tandfonline.com/doi/abs/10.1080/13607860802591070 "
   ]
  },
  {
   "cell_type": "markdown",
   "metadata": {},
   "source": [
    "### Proposed Methods\n",
    "\n",
    "What methods will you use to analyze your data?\n",
    "\n",
    "- How 'clean' is the data? To the extent that it requires cleaning, how will you do so?\n",
    "- How will you analyze the data? Be as specific as you can. Briefly mention any pre-processing steps that are required for your methods (for example, checking data distributions and performing any transformations that may be required). Include a brief outline of how you will apply your chosen method(s). \n",
    "- What do you plan to report? Briefly mention any key visualizations you plan to create, and/or the kind of result you will be able to report that addresses your question (this could be, for example, the outcome of some statistical test(s), prediction error on a model, a model fit parameter, etc.).\n",
    "- Include a list of packages you expect to use for you project. If you plan to use packages we have not used in class, add a very brief description about them (a few words is sufficient). "
   ]
  },
  {
   "cell_type": "markdown",
   "metadata": {},
   "source": [
    "Once we have the data we want to use, we plan on looking at correlations through a correlation matrix. We can use a multiple linear regression model to see if we can predict attitude of mental health and/or mental health disorder.\n",
    "\n",
    "*Data Cleaning (2-3 sentences)*\n",
    "The survey provides both national and international data. The data are non-numerical, nominal providing yes or no values, including “don’t know”, “not sure”, and “maybe”. Other qualitative data include ordinal responses from scales such as never, often, sometimes, and rarely; therefore, we would need to quantify these string values into numerical values. We would also need to identify and fill in responses that are blank. Generally, if a column or row is mostly blank then we will likely drop them from the data frame while for those with a few missing values, we might consider filling them with the median response or more likely, generate a new categorical to express how the person declined to answer since it is valuable for gauging mental health stigma.\n",
    "\n",
    "*Data Analysis (1-2 paragraphs)*\n",
    "Before using our methods we will need to create a new feature based on existing feature. We will create a parameter for stigma by using existing features such as the questions about negative consequences and willingness to talk to their employers about it. We also would need to make sure that all values are numerical values in order to use a correlation matrix. Once the data has been cleaned and the feature for gauging stigma has been created, we will check the correlation of the other features against this stigma rating. Although most of the features appear to be categorical, histograms can be plotted for the age and timestamp column. This allows us to explore whether there are certain age bands that correlate higher with stigma rating or whether certain survey responses are more likely over time (from 2014-2016) or at certain months or hours.\n",
    "\n",
    "*What to report (2-3 sentences)*\n",
    "Graphing the data sets can provide a visual representation of distribution and we can provide graphs for each of the features we are interested in observing. Furthermore, we can compare and graph based on gender, age, and geographic locations to distinguish any trends. We will also provide graphs for the each of our linear regressions. We also plan to have an accuracy percentage of how well our model does with predicting stigma based on other features. \n",
    "\n",
    "Packages we plan to use:\n",
    "- Numpy\n",
    "- Pandas\n",
    "- Matplotlib/Seaborn\n",
    "- NLTK/textblob: Python libraries for natural language processing. We plan on using them for basic sentiment analysis of user text responses in the dataset.\n",
    "- Scikit Learn: Python library for machine learning. We plan on using algorithms like logistic regression and random forests.\n"
   ]
  },
  {
   "cell_type": "markdown",
   "metadata": {},
   "source": [
    "### Discussion\n",
    "\n",
    "What are the pitfalls and potential confounds of your data and/or methods? For example, how might biases in your data sources or analyses influence your interpretations? What will you do if you methods don't work and/or your hypotheses are wrong?\n",
    "\n",
    "(2-3 paragraphs)"
   ]
  },
  {
   "cell_type": "markdown",
   "metadata": {},
   "source": [
    "A potential confound can be variability in gender when it comes to onset and diagnosis of certain mental disorders. Some mental disorders have skewed representation in diagnosis because one gender is identified most with it. Age of onset can also play a critical role in the representation of mental disorders, as some disorders have earlier prominence than others. A bias that we face is perceiving older people as more conservative and less open about topics of mental health. Since our team is made up of college students, we are more exposed to learn about mental health issues and are surrounded by resources on campus that are open to talking about these issues. Another bias we face is not knowing about the perspective on mental health in other countries as our knowledge is limited only to the US and its views on mental health.\n",
    "\n",
    "Other pitfalls involve the nature of the datasets. Since they are restricted to a certain interval of time (2014-2016), there are limitations to generalizing them to other time periods since this social phenomenon would likely have evolved over time. The datasets are also restricted to workers in the tech industry so another thing to note is that tech workplaces differ from other types of workplaces. Lastly, as with surveys in general, a key bias is that certain types of people are more likely to be motivated to go and fill out these surveys.\n",
    "    \n",
    "If our methods do not work we would find additional datasets to enhance the existing data and find new correlations. If we find that age, gender, and geographic location do not have any significant impact on mental health stigma we could see how quality of health care of each country can have an effect. Another potential avenue would be to use data on a different field or industry to compare how mental health is perceived in the tech field versus another field. "
   ]
  },
  {
   "cell_type": "code",
   "execution_count": null,
   "metadata": {
    "collapsed": true
   },
   "outputs": [],
   "source": []
  },
  {
   "cell_type": "code",
   "execution_count": null,
   "metadata": {
    "collapsed": true
   },
   "outputs": [],
   "source": []
  }
 ],
 "metadata": {
  "kernelspec": {
   "display_name": "Python 3",
   "language": "python",
   "name": "python3"
  },
  "language_info": {
   "codemirror_mode": {
    "name": "ipython",
    "version": 3
   },
   "file_extension": ".py",
   "mimetype": "text/x-python",
   "name": "python",
   "nbconvert_exporter": "python",
   "pygments_lexer": "ipython3",
   "version": "3.6.0"
  }
 },
 "nbformat": 4,
 "nbformat_minor": 2
}
